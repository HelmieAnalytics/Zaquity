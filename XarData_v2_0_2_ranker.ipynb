{
  "cells": [
    {
      "cell_type": "markdown",
      "metadata": {
        "id": "view-in-github",
        "colab_type": "text"
      },
      "source": [
        "<a href=\"https://colab.research.google.com/github/HelmieAnalytics/xardata/blob/main/XarData_v2_0_2_ranker.ipynb\" target=\"_parent\"><img src=\"https://colab.research.google.com/assets/colab-badge.svg\" alt=\"Open In Colab\"/></a>"
      ]
    },
    {
      "cell_type": "markdown",
      "metadata": {
        "id": "xhMU8a7-u-OH"
      },
      "source": [
        "###Delete files in directories"
      ]
    },
    {
      "cell_type": "code",
      "execution_count": null,
      "metadata": {
        "id": "cuqiEqaeTCkj",
        "colab": {
          "base_uri": "https://localhost:8080/"
        },
        "outputId": "52a53403-00a8-4a05-c659-b5b67c615352"
      },
      "outputs": [
        {
          "output_type": "stream",
          "name": "stdout",
          "text": [
            "Mounted at /content/drive\n"
          ]
        }
      ],
      "source": [
        "from google.colab import drive\n",
        "drive.mount('/content/drive')"
      ]
    },
    {
      "cell_type": "code",
      "execution_count": null,
      "metadata": {
        "id": "73iXhdGpU1Ku",
        "colab": {
          "base_uri": "https://localhost:8080/"
        },
        "outputId": "c985b944-4ee9-4a43-f58b-22cb78049156"
      },
      "outputs": [
        {
          "output_type": "stream",
          "name": "stdout",
          "text": [
            "Current working directory: /content/drive/MyDrive\n"
          ]
        }
      ],
      "source": [
        "\n",
        "import os\n",
        "\n",
        "# Specify the desired directory path\n",
        "directory_path = \"/content/drive/MyDrive\"\n",
        "\n",
        "# Change the current working directory\n",
        "os.chdir(directory_path)\n",
        "\n",
        "# Verify that the working directory has been updated\n",
        "print(\"Current working directory:\", os.getcwd())"
      ]
    },
    {
      "cell_type": "code",
      "execution_count": null,
      "metadata": {
        "id": "A3D7Q-w6uRf1"
      },
      "outputs": [],
      "source": [
        "\n",
        "import os\n",
        "import glob\n",
        "\n",
        "# Base directory containing the folders\n",
        "base_dir = '/content/drive/MyDrive/'\n",
        "exclude_subdir = ''  # Name of the subdirectory to exclude\n",
        "\n",
        "# Find all subdirectories within the base directory\n",
        "subdirs = [d for d in glob.glob(os.path.join(base_dir, '*')) if os.path.isdir(d)]\n",
        "\n",
        "# Iterate over each subdirectory and delete all files within them, except the excluded subdirectory\n",
        "for subdir in subdirs:\n",
        "    if os.path.basename(subdir) == exclude_subdir:\n",
        "        continue  # Skip the excluded subdirectory\n",
        "    files = glob.glob(os.path.join(subdir, '*'))  # Get all files in the subdirectory\n",
        "    for file in files:\n",
        "        try:\n",
        "            os.remove(file)  # Delete the file\n",
        "            print(f\"Deleted {file}\")\n",
        "        except Exception as e:\n",
        "            print(f\"Error deleting {file}: {e}\")"
      ]
    },
    {
      "cell_type": "code",
      "source": [
        "\n",
        "import shutil\n",
        "import os\n",
        "\n",
        "def delete_folder(folder_path):\n",
        "    if os.path.exists(folder_path):\n",
        "        shutil.rmtree(folder_path)\n",
        "        print(f\"Deleted folder: {folder_path}\")\n",
        "    else:\n",
        "        print(f\"Folder not found: {folder_path}\")\n",
        "\n",
        "# Example usage\n",
        "folder_path = '/content/drive/MyDrive/'\n",
        "delete_folder(folder_path)"
      ],
      "metadata": {
        "id": "H59V9XLLvSP5"
      },
      "execution_count": null,
      "outputs": []
    },
    {
      "cell_type": "code",
      "execution_count": null,
      "metadata": {
        "id": "mZtcnFibWTyp"
      },
      "outputs": [],
      "source": [
        "\n",
        "import os\n",
        "\n",
        "def delete_files_except_specific(directory, excluded_files, excluded_folders):\n",
        "    \"\"\"\n",
        "    Deletes all files in the specified directory except for the ones listed in `excluded_files`.\n",
        "    Args:\n",
        "        directory (str): Path to the directory.\n",
        "        excluded_files (list): List of filenames to exclude.\n",
        "        excluded_folders (list): List of folder names to exclude.\n",
        "    \"\"\"\n",
        "    for root, dirs, files in os.walk(directory):\n",
        "        # Exclude specific folders\n",
        "        dirs[:] = [d for d in dirs if d not in excluded_folders]\n",
        "\n",
        "        for filename in files:\n",
        "            if filename not in excluded_files:\n",
        "                file_path = os.path.join(root, filename)\n",
        "                os.remove(file_path)\n",
        "\n",
        "# Example usage:\n",
        "folder_path = '/content/drive/MyDrive'\n",
        "files_to_exclude = []  # Add filenames you want to exclude\n",
        "folders_to_exclude = []  # Add folder names you want to exclude\n",
        "delete_files_except_specific(folder_path, files_to_exclude, folders_to_exclude)"
      ]
    },
    {
      "cell_type": "code",
      "execution_count": null,
      "metadata": {
        "cellView": "form",
        "id": "nDC9_b4SWQVS"
      },
      "outputs": [],
      "source": [
        "# @title\n",
        "\n",
        "import os\n",
        "\n",
        "# Check current working directory\n",
        "print(os.getcwd())\n",
        "\n",
        "# Attempt to create a test file in the current directory\n",
        "try:\n",
        "    with open('test.txt', 'w') as f:\n",
        "        f.write('This is a test file.')\n",
        "    print('Test file created successfully.')\n",
        "except OSError as e:\n",
        "    print(f'Error creating test file: {e}')"
      ]
    },
    {
      "cell_type": "code",
      "source": [
        "\n",
        "from PIL import Image\n",
        "\n",
        "def convert_to_bitmap(input_image_path, output_image_path, new_size, dpi):\n",
        "    # Open the image file\n",
        "    with Image.open(input_image_path) as img:\n",
        "        # Resize the image while maintaining aspect ratio\n",
        "        img.thumbnail(new_size, Image.ANTIALIAS)\n",
        "\n",
        "        # Set DPI\n",
        "        img.info['dpi'] = (dpi, dpi)\n",
        "\n",
        "        # Convert image to '1' mode for a bitmap (binary) image\n",
        "        img = img.convert('1')\n",
        "\n",
        "        # Save the image in bitmap format\n",
        "        img.save(output_image_path, format='BMP', dpi=(dpi, dpi))\n",
        "        print(f\"Image saved as {output_image_path}\")\n",
        "\n",
        "# Example usage\n",
        "input_path = \"/content/Screenshot_20220923_182855.jpg\"  # Replace with your input image file path\n",
        "output_path = \"helmie_research_bitmap.bmp\"  # Replace with your desired output file path\n",
        "size = (200, 200)  # Set the desired size (width, height) for resizing\n",
        "dpi = 300  # Desired DPI for the output\n",
        "\n",
        "convert_to_bitmap(input_path, output_path, size, dpi)"
      ],
      "metadata": {
        "colab": {
          "base_uri": "https://localhost:8080/"
        },
        "id": "HHknmlA0MnGP",
        "outputId": "8b1cc76b-970e-4d69-aade-df2f188a9ab3"
      },
      "execution_count": null,
      "outputs": [
        {
          "output_type": "stream",
          "name": "stdout",
          "text": [
            "Image saved as helmie_research_bitmap.bmp\n"
          ]
        },
        {
          "output_type": "stream",
          "name": "stderr",
          "text": [
            "<ipython-input-55-a0cdd3f1a866>:7: DeprecationWarning: ANTIALIAS is deprecated and will be removed in Pillow 10 (2023-07-01). Use LANCZOS or Resampling.LANCZOS instead.\n",
            "  img.thumbnail(new_size, Image.ANTIALIAS)\n"
          ]
        }
      ]
    },
    {
      "cell_type": "markdown",
      "metadata": {
        "id": "oOqMYPtEBnw_"
      },
      "source": [
        "###Install packages"
      ]
    },
    {
      "cell_type": "code",
      "execution_count": null,
      "metadata": {
        "id": "IECOpw6H-TQX",
        "colab": {
          "base_uri": "https://localhost:8080/"
        },
        "outputId": "faf70f53-65da-47ac-f0ea-c096f4255992"
      },
      "outputs": [
        {
          "output_type": "stream",
          "name": "stdout",
          "text": [
            "Requirement already satisfied: yfinance in /usr/local/lib/python3.10/dist-packages (0.2.41)\n",
            "Requirement already satisfied: pandas>=1.3.0 in /usr/local/lib/python3.10/dist-packages (from yfinance) (2.1.4)\n",
            "Requirement already satisfied: numpy>=1.16.5 in /usr/local/lib/python3.10/dist-packages (from yfinance) (1.26.4)\n",
            "Requirement already satisfied: requests>=2.31 in /usr/local/lib/python3.10/dist-packages (from yfinance) (2.31.0)\n",
            "Requirement already satisfied: multitasking>=0.0.7 in /usr/local/lib/python3.10/dist-packages (from yfinance) (0.0.11)\n",
            "Requirement already satisfied: lxml>=4.9.1 in /usr/local/lib/python3.10/dist-packages (from yfinance) (4.9.4)\n",
            "Requirement already satisfied: platformdirs>=2.0.0 in /usr/local/lib/python3.10/dist-packages (from yfinance) (4.2.2)\n",
            "Requirement already satisfied: pytz>=2022.5 in /usr/local/lib/python3.10/dist-packages (from yfinance) (2024.1)\n",
            "Requirement already satisfied: frozendict>=2.3.4 in /usr/local/lib/python3.10/dist-packages (from yfinance) (2.4.4)\n",
            "Requirement already satisfied: peewee>=3.16.2 in /usr/local/lib/python3.10/dist-packages (from yfinance) (3.17.6)\n",
            "Requirement already satisfied: beautifulsoup4>=4.11.1 in /usr/local/lib/python3.10/dist-packages (from yfinance) (4.12.3)\n",
            "Requirement already satisfied: html5lib>=1.1 in /usr/local/lib/python3.10/dist-packages (from yfinance) (1.1)\n",
            "Requirement already satisfied: soupsieve>1.2 in /usr/local/lib/python3.10/dist-packages (from beautifulsoup4>=4.11.1->yfinance) (2.5)\n",
            "Requirement already satisfied: six>=1.9 in /usr/local/lib/python3.10/dist-packages (from html5lib>=1.1->yfinance) (1.16.0)\n",
            "Requirement already satisfied: webencodings in /usr/local/lib/python3.10/dist-packages (from html5lib>=1.1->yfinance) (0.5.1)\n",
            "Requirement already satisfied: python-dateutil>=2.8.2 in /usr/local/lib/python3.10/dist-packages (from pandas>=1.3.0->yfinance) (2.8.2)\n",
            "Requirement already satisfied: tzdata>=2022.1 in /usr/local/lib/python3.10/dist-packages (from pandas>=1.3.0->yfinance) (2024.1)\n",
            "Requirement already satisfied: charset-normalizer<4,>=2 in /usr/local/lib/python3.10/dist-packages (from requests>=2.31->yfinance) (3.3.2)\n",
            "Requirement already satisfied: idna<4,>=2.5 in /usr/local/lib/python3.10/dist-packages (from requests>=2.31->yfinance) (3.7)\n",
            "Requirement already satisfied: urllib3<3,>=1.21.1 in /usr/local/lib/python3.10/dist-packages (from requests>=2.31->yfinance) (2.0.7)\n",
            "Requirement already satisfied: certifi>=2017.4.17 in /usr/local/lib/python3.10/dist-packages (from requests>=2.31->yfinance) (2024.7.4)\n"
          ]
        }
      ],
      "source": [
        "!pip install yfinance"
      ]
    },
    {
      "cell_type": "code",
      "execution_count": null,
      "metadata": {
        "id": "iAeOLNoS-X0q",
        "colab": {
          "base_uri": "https://localhost:8080/"
        },
        "outputId": "45cf1b4f-959f-4769-f008-3f690c04a40f"
      },
      "outputs": [
        {
          "output_type": "stream",
          "name": "stdout",
          "text": [
            "Collecting yahooquery\n",
            "  Downloading yahooquery-2.3.7-py3-none-any.whl.metadata (5.0 kB)\n",
            "Requirement already satisfied: beautifulsoup4<5.0.0,>=4.12.2 in /usr/local/lib/python3.10/dist-packages (from yahooquery) (4.12.3)\n",
            "Requirement already satisfied: lxml<5.0.0,>=4.9.3 in /usr/local/lib/python3.10/dist-packages (from yahooquery) (4.9.4)\n",
            "Requirement already satisfied: pandas<3.0.0,>=2.0.3 in /usr/local/lib/python3.10/dist-packages (from yahooquery) (2.1.4)\n",
            "Requirement already satisfied: requests<3.0.0,>=2.31.0 in /usr/local/lib/python3.10/dist-packages (from yahooquery) (2.31.0)\n",
            "Collecting requests-futures<2.0.0,>=1.0.1 (from yahooquery)\n",
            "  Downloading requests_futures-1.0.1-py2.py3-none-any.whl.metadata (12 kB)\n",
            "Requirement already satisfied: tqdm<5.0.0,>=4.65.0 in /usr/local/lib/python3.10/dist-packages (from yahooquery) (4.66.4)\n",
            "Requirement already satisfied: soupsieve>1.2 in /usr/local/lib/python3.10/dist-packages (from beautifulsoup4<5.0.0,>=4.12.2->yahooquery) (2.5)\n",
            "Requirement already satisfied: numpy<2,>=1.22.4 in /usr/local/lib/python3.10/dist-packages (from pandas<3.0.0,>=2.0.3->yahooquery) (1.26.4)\n",
            "Requirement already satisfied: python-dateutil>=2.8.2 in /usr/local/lib/python3.10/dist-packages (from pandas<3.0.0,>=2.0.3->yahooquery) (2.8.2)\n",
            "Requirement already satisfied: pytz>=2020.1 in /usr/local/lib/python3.10/dist-packages (from pandas<3.0.0,>=2.0.3->yahooquery) (2024.1)\n",
            "Requirement already satisfied: tzdata>=2022.1 in /usr/local/lib/python3.10/dist-packages (from pandas<3.0.0,>=2.0.3->yahooquery) (2024.1)\n",
            "Requirement already satisfied: charset-normalizer<4,>=2 in /usr/local/lib/python3.10/dist-packages (from requests<3.0.0,>=2.31.0->yahooquery) (3.3.2)\n",
            "Requirement already satisfied: idna<4,>=2.5 in /usr/local/lib/python3.10/dist-packages (from requests<3.0.0,>=2.31.0->yahooquery) (3.7)\n",
            "Requirement already satisfied: urllib3<3,>=1.21.1 in /usr/local/lib/python3.10/dist-packages (from requests<3.0.0,>=2.31.0->yahooquery) (2.0.7)\n",
            "Requirement already satisfied: certifi>=2017.4.17 in /usr/local/lib/python3.10/dist-packages (from requests<3.0.0,>=2.31.0->yahooquery) (2024.7.4)\n",
            "Requirement already satisfied: six>=1.5 in /usr/local/lib/python3.10/dist-packages (from python-dateutil>=2.8.2->pandas<3.0.0,>=2.0.3->yahooquery) (1.16.0)\n",
            "Downloading yahooquery-2.3.7-py3-none-any.whl (52 kB)\n",
            "\u001b[2K   \u001b[90m━━━━━━━━━━━━━━━━━━━━━━━━━━━━━━━━━━━━━━━━\u001b[0m \u001b[32m52.7/52.7 kB\u001b[0m \u001b[31m3.5 MB/s\u001b[0m eta \u001b[36m0:00:00\u001b[0m\n",
            "\u001b[?25hDownloading requests_futures-1.0.1-py2.py3-none-any.whl (7.6 kB)\n",
            "Installing collected packages: requests-futures, yahooquery\n",
            "Successfully installed requests-futures-1.0.1 yahooquery-2.3.7\n"
          ]
        }
      ],
      "source": [
        "!pip install yahooquery"
      ]
    },
    {
      "cell_type": "code",
      "execution_count": null,
      "metadata": {
        "id": "48Zx8u3_qM-z"
      },
      "outputs": [],
      "source": [
        "#!pip install mpld3"
      ]
    },
    {
      "cell_type": "code",
      "execution_count": null,
      "metadata": {
        "id": "QrD7a1dBvewh"
      },
      "outputs": [],
      "source": [
        "#!pip install -i https://test.pypi.org/simple/ xardata"
      ]
    },
    {
      "cell_type": "markdown",
      "metadata": {
        "id": "mE7Pscc7PRyu"
      },
      "source": [
        "###Settings"
      ]
    },
    {
      "cell_type": "code",
      "execution_count": null,
      "metadata": {
        "id": "PkP0SoUkxEzK"
      },
      "outputs": [],
      "source": [
        "\n",
        "import datetime\n",
        "from datetime import date\n",
        "import numpy as np\n",
        "\n",
        "\"\"\"\n",
        "Settings\n",
        "\"\"\"\n",
        "portfolio_value = 5000.00\n",
        "perf_last_month = 5000.00\n",
        "\n",
        "#ranking_day = \"2024-07-17\"\n",
        "index_date = 'STX.csv'\n",
        "ranking_table =\"ranking_table_2024-07-17.csv\"\n",
        "portfolio = \"portfolio_2024-07-17.csv\"\n",
        "current_portfolio = \"current_portfolio.csv\"\n",
        "\n",
        "# Storing today's date into a variable\n",
        "today = date.today()\n",
        "# Storing the specific date\n",
        "trading_day = today\n",
        "# Calculate percent difference since last month\n",
        "perf_pct = (portfolio_value / perf_last_month) - 1\n",
        "# Print performance, format as percent with two decimals.\n",
        "print(\"{} - Last Month Result: {:.2%}\".format(trading_day, perf_pct))\n",
        "# Remember today's portfolio value for next month's calculation\n",
        "#perf_last_month = portfolio_value"
      ]
    },
    {
      "cell_type": "markdown",
      "metadata": {
        "id": "vE9ebbp65LdU"
      },
      "source": [
        "###Import Benchmark Data"
      ]
    },
    {
      "cell_type": "code",
      "execution_count": null,
      "metadata": {
        "colab": {
          "base_uri": "https://localhost:8080/",
          "height": 677
        },
        "id": "jMMdyGwmf3x0",
        "outputId": "7127bdb6-53e7-4475-824e-3ad42a09ef0b"
      },
      "outputs": [
        {
          "output_type": "stream",
          "name": "stderr",
          "text": [
            "<ipython-input-83-6febfe068174>:73: UserWarning: This figure includes Axes that are not compatible with tight_layout, so results might be incorrect.\n",
            "  plt.tight_layout()\n"
          ]
        },
        {
          "output_type": "display_data",
          "data": {
            "text/plain": [
              "<Figure size 1000x600 with 2 Axes>"
            ],
            "image/png": "[encoded data removed]"
          },
          "metadata": {}
        }
      ],
      "source": [
        "%matplotlib inline\n",
        "\n",
        "import pandas as pd\n",
        "from datetime import datetime\n",
        "import yfinance as yf\n",
        "import yahooquery\n",
        "import matplotlib.pyplot as plt\n",
        "from PIL import Image\n",
        "\n",
        "# Set length of history\n",
        "#now = datetime.now().strftime(\"%Y-%m-%d\")\n",
        "start = '2022-06-01'\n",
        "end = '2024-07-31'\n",
        "\n",
        "# Get price history\n",
        "data = yf.Ticker(\"STXCAP.JO\")\n",
        "index = data.history(start=start,\n",
        "                     end=end)\n",
        "\n",
        "# Covert Date Column to datetime\n",
        "# Set Date Column as index\n",
        "resetindex = index.reset_index(inplace = True)\n",
        "index['Date'] = pd.to_datetime(index['Date']).dt.strftime('%Y-%m-%d')\n",
        "index.set_index(\"Date\", inplace=True)\n",
        "\n",
        "# Save benchmark data\n",
        "index.to_csv('/content/drive/MyDrive/STX.csv')\n",
        "\n",
        "# Read benchmark data\n",
        "# Load data from CSV (replace with your actual data)\n",
        "index_data = pd.read_csv(\"/content/drive/MyDrive/STX.csv\")  # Replace with your file\n",
        "\n",
        "# Convert date column to datetime format\n",
        "index_data['Date'] = pd.to_datetime(index_data['Date'])\n",
        "\n",
        "# Extract relevant columns (date and close prices)\n",
        "dates = index_data['Date']\n",
        "close_prices = index_data['Close']\n",
        "\n",
        "# Calculate the 200-day moving average\n",
        "moving_average = close_prices.rolling(window=200).mean()\n",
        "\n",
        "# Select the last 100 days\n",
        "dates_last_100 = dates[-250:]\n",
        "close_prices_last_100 = close_prices[-250:]\n",
        "moving_average_last_100 = moving_average[-250:]\n",
        "\n",
        "# Create the line chart\n",
        "plt.figure(figsize=(10, 6))\n",
        "plt.plot(dates_last_100, close_prices_last_100, label='Close Prices', color='grey')\n",
        "plt.plot(dates_last_100, moving_average_last_100, label='200-day mean', color='black', linestyle='--')\n",
        "\n",
        "# Customize the chart\n",
        "plt.xlabel(\"Date\")\n",
        "plt.ylabel(\"Price\")\n",
        "plt.title(\"Satrix Capped All Share ETF (STXCAP)\")\n",
        "plt.xticks(rotation=0)\n",
        "plt.grid(True)\n",
        "plt.legend()\n",
        "\n",
        "# Add the logo\n",
        "logo_path = \"/content/drive/MyDrive/-j9g8q1.jpg\"  # Replace with your logo file path\n",
        "logo = Image.open(logo_path)\n",
        "logo.thumbnail((200, 200))  # Resize the logo to fit in the corner\n",
        "\n",
        "# Get the current figure and add a new axes for the logo\n",
        "fig = plt.gcf()\n",
        "newax = fig.add_axes([0.89, 0.0, 0.12, 0.1], anchor='SE', zorder=-1)\n",
        "newax.imshow(logo)\n",
        "newax.axis('off')\n",
        "\n",
        "\n",
        "plt.tight_layout()\n",
        "plt.show()"
      ]
    },
    {
      "cell_type": "markdown",
      "metadata": {
        "id": "zPY-0m3Gvs64"
      },
      "source": [
        "###Run XarData v0.1.0"
      ]
    },
    {
      "cell_type": "code",
      "execution_count": null,
      "metadata": {
        "cellView": "form",
        "id": "7IhAexWtwp3O"
      },
      "outputs": [],
      "source": [
        "# @title\n",
        "import pandas as pd\n",
        "import xardata.jse_tickers as jt\n",
        "import xardata.jse_data as jd\n",
        "import xardata.process_data as jpd\n",
        "\n",
        "my_access_key = 'e52cf3b93696352e880916f8c8adbf0c'\n",
        "\n",
        "tickers = jt.get_tickers(my_access_key)\n",
        "\n",
        "symbols = tickers\n",
        "start = '2023-07-01'\n",
        "end = '2024-07-17'\n",
        "\n",
        "output_folder_path = '/content/jsestocks'\n",
        "\n",
        "jd.get_data(symbols,\n",
        "            start,\n",
        "            end,\n",
        "            output_folder_path)\n",
        "\n",
        "jpd.clean('/content/jsestocks')"
      ]
    },
    {
      "cell_type": "markdown",
      "metadata": {
        "id": "PJFVtTcH91Cl"
      },
      "source": [
        "###data.py"
      ]
    },
    {
      "cell_type": "code",
      "execution_count": null,
      "metadata": {
        "id": "ZXgfhxocLcrz",
        "cellView": "form"
      },
      "outputs": [],
      "source": [
        "# @title\n",
        "\n",
        "# databundle.py\n",
        "\n",
        "import os\n",
        "import requests\n",
        "import json\n",
        "import pandas as pd\n",
        "import yfinance as yf\n",
        "\n",
        "def get_tickers(api_token):\n",
        "    \"\"\"\n",
        "    Fetches JSE stock tickers from an API and prepares them for further processing.\n",
        "\n",
        "    Args:\n",
        "        api_token (str): Your EOD Historical Data API token.\n",
        "\n",
        "    Returns:\n",
        "        list: List of JSE stock tickers with '.JO' suffix.\n",
        "    \"\"\"\n",
        "    url = f'https://eodhd.com/api/exchange-symbol-list/JSE?api_token={api_token}&fmt=json'\n",
        "    data = requests.get(url).json()\n",
        "\n",
        "    # Serialize JSON data\n",
        "    json_object = json.dumps(data, indent=4)\n",
        "    with open(\"jse.json\", \"w\") as outfile:\n",
        "        outfile.write(json_object)\n",
        "\n",
        "    # Read from JSON file\n",
        "    with open('jse.json', 'r') as openfile:\n",
        "        json_object = json.load(openfile)\n",
        "    df = pd.json_normalize(json_object)\n",
        "\n",
        "    # Create modified DataFrame\n",
        "    df['tickers'] = df['Code'].astype(str) + '.JO'\n",
        "    df = df[df['Code'].str.len() <= 3]\n",
        "\n",
        "    # Extract tickers\n",
        "    tickers = df['tickers'].tolist()\n",
        "    return tickers\n",
        "\n",
        "if __name__ == '__main__':\n",
        "    # Example usage\n",
        "    api_token = '668ec587b96b99.42475935'  # Replace with your actual API token\n",
        "    tickers = get_tickers(api_token)\n",
        "    print(f'JSE tickers: {tickers}')\n",
        "\n",
        "\n",
        "def download(tickers, start_date, end_date, output_dir='Stocks'):\n",
        "    \"\"\"\n",
        "    Downloads stock price data for a list of tickers and saves it to separate CSV files.\n",
        "\n",
        "    Args:\n",
        "        tickers (list): List of stock tickers (e.g., ['AAPL', 'MSFT', 'GOOGL']).\n",
        "        start_date (str): Start date in 'YYYY-MM-DD' format.\n",
        "        end_date (str): End date in 'YYYY-MM-DD' format.\n",
        "        output_dir (str, optional): Directory to save CSV files. Defaults to 'Stocks'.\n",
        "    \"\"\"\n",
        "    os.makedirs(output_dir, exist_ok=True)\n",
        "\n",
        "    for stock in tickers:\n",
        "        stock_data = yf.download(stock, start=start_date, end=end_date)\n",
        "        df = pd.DataFrame(stock_data)\n",
        "\n",
        "        # Parse the date column as datetime and set it as the index\n",
        "        df['Date'] = pd.to_datetime(df.index)\n",
        "        df.set_index('Date', inplace=True)\n",
        "\n",
        "        csv_filename = os.path.join(output_dir, f'{stock}.csv')\n",
        "        df.to_csv(csv_filename)\n",
        "        print(f'Saved data for {stock} to {csv_filename}')\n",
        "\n",
        "    print(f'All data saved in the \"{output_dir}\" directory.')\n",
        "\n",
        "if __name__ == '__main__':\n",
        "    # Example usage\n",
        "    tickers = tickers\n",
        "    start_date = '2022-06-01'\n",
        "    end_date = '2024-07-30'\n",
        "    download(tickers, start_date, end_date)\n",
        "\n",
        "def save_tickers(folder_path):\n",
        "    \"\"\"\n",
        "    Extracts unique tickers from CSV files in the hardcoded folder.\n",
        "\n",
        "    Returns:\n",
        "        pd.DataFrame: DataFrame with a single column 'tickers' containing unique tickers.\n",
        "    \"\"\"\n",
        "    folder_path = '/content/drive/MyDrive/Raw'\n",
        "\n",
        "    tickers = []\n",
        "    for filename in os.listdir(folder_path):\n",
        "        if filename.endswith('.csv'):\n",
        "            tickers.append(filename[:-4])\n",
        "\n",
        "    unique_tickers = list(dict.fromkeys(tickers))\n",
        "    df = pd.DataFrame(unique_tickers, columns=['tickers'])\n",
        "    df.columns=df.iloc[1]\n",
        "    df.to_csv(os.path.join(folder_path, 'tickers.csv'), index=False)\n",
        "    print(f'Saved unique tickers to {folder_path}/tickers.csv')\n",
        "    return df\n",
        "\n",
        "if __name__ == '__main__':\n",
        "    # Example usage\n",
        "    folder_path = '/content/drive/MyDrive/Raw'\n",
        "    df = save_tickers(folder_path)"
      ]
    },
    {
      "cell_type": "code",
      "source": [
        "\n",
        "import os\n",
        "import requests\n",
        "import json\n",
        "import pandas as pd\n",
        "import yfinance as yf\n",
        "import numpy as np\n",
        "from scipy import stats\n",
        "from pathlib import Path\n",
        "\n",
        "def get_tickers(api_token):\n",
        "    \"\"\"\n",
        "    Fetches JSE stock tickers from an API and prepares them for further processing.\n",
        "\n",
        "    Args:\n",
        "        api_token (str): Your EOD Historical Data API token.\n",
        "\n",
        "    Returns:\n",
        "        list: List of JSE stock tickers with '.JO' suffix.\n",
        "    \"\"\"\n",
        "    url = f'https://eodhd.com/api/exchange-symbol-list/JSE?api_token={api_token}&fmt=json'\n",
        "    data = requests.get(url).json()\n",
        "\n",
        "    # Serialize JSON data\n",
        "    json_object = json.dumps(data, indent=4)\n",
        "    with open(\"jse.json\", \"w\") as outfile:\n",
        "        outfile.write(json_object)\n",
        "\n",
        "    # Read from JSON file\n",
        "    with open('jse.json', 'r') as openfile:\n",
        "        json_object = json.load(openfile)\n",
        "    df = pd.json_normalize(json_object)\n",
        "\n",
        "    # Create modified DataFrame\n",
        "    df['tickers'] = df['Code'].astype(str) + '.JO'\n",
        "    df = df[df['Code'].str.len() <= 3]\n",
        "\n",
        "    # Extract tickers\n",
        "    tickers = df['tickers'].tolist()\n",
        "    return tickers\n",
        "\n",
        "if __name__ == '__main__':\n",
        "    # Example usage\n",
        "    api_token = '668ec587b96b99.42475935'  # Replace with your actual API token\n",
        "    tickers = get_tickers(api_token)\n",
        "    print(f'JSE tickers: {tickers}')\n",
        "\n",
        "\n",
        "def download_and_process(tickers, start_date, end_date, output_dir='Stocks'):\n",
        "    \"\"\"\n",
        "    Downloads stock price data for a list of tickers, processes it to handle outliers and missing data,\n",
        "    and saves the cleaned data to separate CSV files.\n",
        "\n",
        "    Args:\n",
        "        tickers (list): List of stock tickers (e.g., ['AAPL', 'MSFT', 'GOOGL']).\n",
        "        start_date (str): Start date in 'YYYY-MM-DD' format.\n",
        "        end_date (str): End date in 'YYYY-MM-DD' format.\n",
        "        output_dir (str, optional): Directory to save CSV files. Defaults to 'Stocks'.\n",
        "    \"\"\"\n",
        "    os.makedirs(output_dir, exist_ok=True)\n",
        "\n",
        "    for stock in tickers:\n",
        "        stock_data = yf.download(stock, start=start_date, end=end_date)\n",
        "        df = pd.DataFrame(stock_data)\n",
        "\n",
        "        # Parse the date column as datetime and set it as the index\n",
        "        df['Date'] = pd.to_datetime(df.index)\n",
        "        df.set_index('Date', inplace=True)\n",
        "\n",
        "        # Select OHLCV columns\n",
        "        df = df[[\"Open\", \"High\", \"Low\", \"Close\", \"Adj Close\", \"Volume\"]]\n",
        "\n",
        "        # Remove outliers using z-score\n",
        "        df = df[(np.abs(stats.zscore(df)) < 3).all(axis=1)]\n",
        "\n",
        "        # Handle missing data\n",
        "        df.fillna(method='ffill', inplace=True)  # Forward fill\n",
        "        df.fillna(method='bfill', inplace=True)  # Backward fill\n",
        "\n",
        "        # Save the cleaned data to a new CSV file\n",
        "        csv_filename = os.path.join(output_dir, f'{stock}.csv')\n",
        "        df.to_csv(csv_filename)\n",
        "        print(f'Processed and saved cleaned data for {stock} to {csv_filename}')\n",
        "\n",
        "    print(f'All data saved and processed in the \"{output_dir}\" directory.')\n",
        "\n",
        "if __name__ == '__main__':\n",
        "    # Example usage\n",
        "    tickers = tickers\n",
        "    start_date = '2022-06-01'\n",
        "    end_date = '2024-07-31'\n",
        "    download_and_process(tickers, start_date, end_date)\n",
        "\n",
        "def save_tickers(folder_path):\n",
        "    \"\"\"\n",
        "    Extracts unique tickers from CSV files in the specified folder.\n",
        "\n",
        "    Args:\n",
        "        folder_path (str): Path to the folder containing CSV files.\n",
        "\n",
        "    Returns:\n",
        "        pd.DataFrame: DataFrame with a single column 'tickers' containing unique tickers.\n",
        "    \"\"\"\n",
        "    tickers = []\n",
        "    for filename in os.listdir(folder_path):\n",
        "        if filename.endswith('.csv'):\n",
        "            tickers.append(filename[:-4])\n",
        "\n",
        "    unique_tickers = list(dict.fromkeys(tickers))\n",
        "    df = pd.DataFrame(unique_tickers, columns=['tickers'])\n",
        "    df.columns=df.iloc[1]\n",
        "    df.to_csv(os.path.join(folder_path, 'tickers.csv'), index=False)\n",
        "    print(f'Saved unique tickers to {folder_path}/tickers.csv')\n",
        "    return df\n",
        "\n",
        "if __name__ == '__main__':\n",
        "    # Example usage\n",
        "    folder_path = 'Stocks'\n",
        "    df = save_tickers(folder_path)"
      ],
      "metadata": {
        "id": "pZYJaZQpqr-S",
        "colab": {
          "base_uri": "https://localhost:8080/"
        },
        "outputId": "fa623aaa-6219-4840-c70c-f95c81a502f5"
      },
      "execution_count": null,
      "outputs": [
        {
          "output_type": "stream",
          "name": "stdout",
          "text": [
            "JSE tickers: ['4SI.JO', 'ABG.JO', 'ACL.JO', 'ACS.JO', 'ACT.JO', 'ADH.JO', 'ADR.JO', 'ADW.JO', 'AEG.JO', 'AEL.JO', 'AFE.JO', 'AFH.JO', 'AFT.JO', 'AGL.JO', 'AHL.JO', 'AIL.JO', 'AIP.JO', 'AME.JO', 'AMS.JO', 'ANG.JO', 'ANH.JO', 'ANI.JO', 'APF.JO', 'APH.JO', 'APN.JO', 'APO.JO', 'ARA.JO', 'ARI.JO', 'ARL.JO', 'ART.JO', 'ASC.JO', 'ATT.JO', 'AVI.JO', 'AYO.JO', 'BAT.JO', 'BAW.JO', 'BCF.JO', 'BEL.JO', 'BHG.JO', 'BID.JO', 'BIK.JO', 'BKI.JO', 'BLU.JO', 'BRN.JO', 'BRT.JO', 'BTI.JO', 'BTN.JO', 'BVT.JO', 'BWN.JO', 'BYI.JO', 'CAA.JO', 'CAT.JO', 'CFR.JO', 'CGR.JO', 'CHP.JO', 'CKS.JO', 'CLH.JO', 'CLI.JO', 'CLS.JO', 'CMH.JO', 'CML.JO', 'CMO.JO', 'CND.JO', 'COH.JO', 'CPI.JO', 'CPP.JO', 'CPR.JO', 'CRP.JO', 'CSB.JO', 'CTA.JO', 'DCP.JO', 'DIB.JO', 'DNB.JO', 'DRA.JO', 'DRD.JO', 'DSY.JO', 'DTC.JO', 'ELI.JO', 'EMH.JO', 'EMI.JO', 'EMN.JO', 'ENX.JO', 'EOH.JO', 'EPE.JO', 'EPS.JO', 'EQU.JO', 'EUZ.JO', 'EXP.JO', 'EXX.JO', 'FBR.JO', 'FFB.JO', 'FGL.JO', 'FSR.JO', 'FTA.JO', 'FTB.JO', 'FTH.JO', 'GFI.JO', 'GLD.JO', 'GLN.JO', 'GML.JO', 'GND.JO', 'GPL.JO', 'GRT.JO', 'GSH.JO', 'HAR.JO', 'HCI.JO', 'HDC.JO', 'HIL.JO', 'HLM.JO', 'HMN.JO', 'HUG.JO', 'HYP.JO', 'IMP.JO', 'INL.JO', 'INP.JO', 'ISA.JO', 'ISB.JO', 'ITE.JO', 'IVT.JO', 'JBL.JO', 'JSE.JO', 'KAL.JO', 'KAP.JO', 'KBO.JO', 'KIO.JO', 'KP2.JO', 'KRO.JO', 'KST.JO', 'LAB.JO', 'LBR.JO', 'LEW.JO', 'LHC.JO', 'LSK.JO', 'LTE.JO', 'LUX.JO', 'MCG.JO', 'MCZ.JO', 'MDI.JO', 'MFL.JO', 'MHB.JO', 'MKR.JO', 'MMP.JO', 'MNP.JO', 'MPT.JO', 'MRF.JO', 'MRP.JO', 'MSP.JO', 'MST.JO', 'MTA.JO', 'MTH.JO', 'MTM.JO', 'MTN.JO', 'MTU.JO', 'MUR.JO', 'N91.JO', 'NCS.JO', 'NED.JO', 'NPH.JO', 'NPK.JO', 'NPN.JO', 'NRP.JO', 'NTC.JO', 'NVS.JO', 'NWL.JO', 'NY1.JO', 'OAO.JO', 'OAS.JO', 'OCE.JO', 'OCT.JO', 'OMN.JO', 'OMU.JO', 'ORN.JO', 'OUT.JO', 'PAN.JO', 'PBG.JO', 'PIK.JO', 'PMR.JO', 'PMV.JO', 'PPC.JO', 'PPE.JO', 'PPH.JO', 'PPR.JO', 'PRX.JO', 'QFH.JO', 'QLT.JO', 'RBX.JO', 'RCL.JO', 'RDF.JO', 'REA.JO', 'REB.JO', 'REM.JO', 'REN.JO', 'RES.JO', 'RFG.JO', 'RHB.JO', 'RLO.JO', 'RMH.JO', 'RNG.JO', 'RNI.JO', 'RTN.JO', 'RTO.JO', 'S32.JO', 'SAC.JO', 'SAP.JO', 'SAR.JO', 'SBK.JO', 'SBP.JO', 'SCD.JO', 'SDL.JO', 'SDO.JO', 'SEA.JO', 'SEB.JO', 'SEP.JO', 'SFN.JO', 'SHC.JO', 'SHG.JO', 'SHP.JO', 'SLG.JO', 'SLM.JO', 'SNT.JO', 'SNV.JO', 'SOH.JO', 'SOL.JO', 'SPG.JO', 'SPP.JO', 'SRE.JO', 'SSK.JO', 'SSS.JO', 'SSU.JO', 'SSW.JO', 'SUI.JO', 'SUR.JO', 'SXM.JO', 'SYG.JO', 'SZK.JO', 'TBS.JO', 'TCP.JO', 'TEX.JO', 'TFG.JO', 'TGA.JO', 'THA.JO', 'TKG.JO', 'TLM.JO', 'TMT.JO', 'TON.JO', 'TPC.JO', 'TRE.JO', 'TRL.JO', 'TRU.JO', 'TSG.JO', 'TTO.JO', 'UPL.JO', 'VIS.JO', 'VKE.JO', 'VOD.JO', 'VUN.JO', 'WBC.JO', 'WBO.JO', 'WEZ.JO', 'WHL.JO', 'WKF.JO', 'YRK.JO', 'ZED.JO', 'ZZD.JO']\n"
          ]
        },
        {
          "output_type": "stream",
          "name": "stderr",
          "text": [
            "\r[*********************100%%**********************]  1 of 1 completed\n",
            "<ipython-input-63-4d37985907ae>:76: FutureWarning: DataFrame.fillna with 'method' is deprecated and will raise in a future version. Use obj.ffill() or obj.bfill() instead.\n",
            "  df.fillna(method='ffill', inplace=True)  # Forward fill\n",
            "<ipython-input-63-4d37985907ae>:77: FutureWarning: DataFrame.fillna with 'method' is deprecated and will raise in a future version. Use obj.ffill() or obj.bfill() instead.\n",
            "  df.fillna(method='bfill', inplace=True)  # Backward fill\n"
          ]
        },
        {
          "output_type": "stream",
          "name": "stdout",
          "text": [
            "Processed and saved cleaned data for 4SI.JO to Stocks/4SI.JO.csv\n"
          ]
        },
        {
          "output_type": "stream",
          "name": "stderr",
          "text": [
            "\r[*********************100%%**********************]  1 of 1 completed\n",
            "<ipython-input-63-4d37985907ae>:76: FutureWarning: DataFrame.fillna with 'method' is deprecated and will raise in a future version. Use obj.ffill() or obj.bfill() instead.\n",
            "  df.fillna(method='ffill', inplace=True)  # Forward fill\n",
            "<ipython-input-63-4d37985907ae>:77: FutureWarning: DataFrame.fillna with 'method' is deprecated and will raise in a future version. Use obj.ffill() or obj.bfill() instead.\n",
            "  df.fillna(method='bfill', inplace=True)  # Backward fill\n"
          ]
        },
        {
          "output_type": "stream",
          "name": "stdout",
          "text": [
            "Processed and saved cleaned data for ABG.JO to Stocks/ABG.JO.csv\n"
          ]
        },
        {
          "output_type": "stream",
          "name": "stderr",
          "text": [
            "\r[*********************100%%**********************]  1 of 1 completed\n",
            "<ipython-input-63-4d37985907ae>:76: FutureWarning: DataFrame.fillna with 'method' is deprecated and will raise in a future version. Use obj.ffill() or obj.bfill() instead.\n",
            "  df.fillna(method='ffill', inplace=True)  # Forward fill\n",
            "<ipython-input-63-4d37985907ae>:77: FutureWarning: DataFrame.fillna with 'method' is deprecated and will raise in a future version. Use obj.ffill() or obj.bfill() instead.\n",
            "  df.fillna(method='bfill', inplace=True)  # Backward fill\n"
          ]
        },
        {
          "output_type": "stream",
          "name": "stdout",
          "text": [
            "Processed and saved cleaned data for ACL.JO to Stocks/ACL.JO.csv\n"
          ]
        },
        {
          "output_type": "stream",
          "name": "stderr",
          "text": [
            "\r[*********************100%%**********************]  1 of 1 completed\n",
            "<ipython-input-63-4d37985907ae>:76: FutureWarning: DataFrame.fillna with 'method' is deprecated and will raise in a future version. Use obj.ffill() or obj.bfill() instead.\n",
            "  df.fillna(method='ffill', inplace=True)  # Forward fill\n",
            "<ipython-input-63-4d37985907ae>:77: FutureWarning: DataFrame.fillna with 'method' is deprecated and will raise in a future version. Use obj.ffill() or obj.bfill() instead.\n",
            "  df.fillna(method='bfill', inplace=True)  # Backward fill\n"
          ]
        },
        {
          "output_type": "stream",
          "name": "stdout",
          "text": [
            "Processed and saved cleaned data for ACS.JO to Stocks/ACS.JO.csv\n"
          ]
        },
        {
          "output_type": "stream",
          "name": "stderr",
          "text": [
            "\r[*********************100%%**********************]  1 of 1 completed\n",
            "<ipython-input-63-4d37985907ae>:76: FutureWarning: DataFrame.fillna with 'method' is deprecated and will raise in a future version. Use obj.ffill() or obj.bfill() instead.\n",
            "  df.fillna(method='ffill', inplace=True)  # Forward fill\n",
            "<ipython-input-63-4d37985907ae>:77: FutureWarning: DataFrame.fillna with 'method' is deprecated and will raise in a future version. Use obj.ffill() or obj.bfill() instead.\n",
            "  df.fillna(method='bfill', inplace=True)  # Backward fill\n"
          ]
        },
        {
          "output_type": "stream",
          "name": "stdout",
          "text": [
            "Processed and saved cleaned data for ACT.JO to Stocks/ACT.JO.csv\n"
          ]
        },
        {
          "output_type": "stream",
          "name": "stderr",
          "text": [
            "\r[*********************100%%**********************]  1 of 1 completed\n",
            "<ipython-input-63-4d37985907ae>:76: FutureWarning: DataFrame.fillna with 'method' is deprecated and will raise in a future version. Use obj.ffill() or obj.bfill() instead.\n",
            "  df.fillna(method='ffill', inplace=True)  # Forward fill\n",
            "<ipython-input-63-4d37985907ae>:77: FutureWarning: DataFrame.fillna with 'method' is deprecated and will raise in a future version. Use obj.ffill() or obj.bfill() instead.\n",
            "  df.fillna(method='bfill', inplace=True)  # Backward fill\n"
          ]
        },
        {
          "output_type": "stream",
          "name": "stdout",
          "text": [
            "Processed and saved cleaned data for ADH.JO to Stocks/ADH.JO.csv\n"
          ]
        },
        {
          "output_type": "stream",
          "name": "stderr",
          "text": [
            "[*********************100%%**********************]  1 of 1 completed\n",
            "<ipython-input-63-4d37985907ae>:76: FutureWarning: DataFrame.fillna with 'method' is deprecated and will raise in a future version. Use obj.ffill() or obj.bfill() instead.\n",
            "  df.fillna(method='ffill', inplace=True)  # Forward fill\n",
            "<ipython-input-63-4d37985907ae>:77: FutureWarning: DataFrame.fillna with 'method' is deprecated and will raise in a future version. Use obj.ffill() or obj.bfill() instead.\n",
            "  df.fillna(method='bfill', inplace=True)  # Backward fill\n",
            "[*********************100%%**********************]  1 of 1 completed\n",
            "<ipython-input-63-4d37985907ae>:76: FutureWarning: DataFrame.fillna with 'method' is deprecated and will raise in a future version. Use obj.ffill() or obj.bfill() instead.\n",
            "  df.fillna(method='ffill', inplace=True)  # Forward fill\n",
            "<ipython-input-63-4d37985907ae>:77: FutureWarning: DataFrame.fillna with 'method' is deprecated and will raise in a future version. Use obj.ffill() or obj.bfill() instead.\n",
            "  df.fillna(method='bfill', inplace=True)  # Backward fill\n"
          ]
        },
        {
          "output_type": "stream",
          "name": "stdout",
          "text": [
            "Processed and saved cleaned data for ADR.JO to Stocks/ADR.JO.csv\n",
            "Processed and saved cleaned data for ADW.JO to Stocks/ADW.JO.csv\n"
          ]
        },
        {
          "output_type": "stream",
          "name": "stderr",
          "text": [
            "\r[*********************100%%**********************]  1 of 1 completed\n",
            "<ipython-input-63-4d37985907ae>:76: FutureWarning: DataFrame.fillna with 'method' is deprecated and will raise in a future version. Use obj.ffill() or obj.bfill() instead.\n",
            "  df.fillna(method='ffill', inplace=True)  # Forward fill\n",
            "<ipython-input-63-4d37985907ae>:77: FutureWarning: DataFrame.fillna with 'method' is deprecated and will raise in a future version. Use obj.ffill() or obj.bfill() instead.\n",
            "  df.fillna(method='bfill', inplace=True)  # Backward fill\n"
          ]
        },
        {
          "output_type": "stream",
          "name": "stdout",
          "text": [
            "Processed and saved cleaned data for AEG.JO to Stocks/AEG.JO.csv\n"
          ]
        },
        {
          "output_type": "stream",
          "name": "stderr",
          "text": [
            "\r[*********************100%%**********************]  1 of 1 completed\n",
            "<ipython-input-63-4d37985907ae>:76: FutureWarning: DataFrame.fillna with 'method' is deprecated and will raise in a future version. Use obj.ffill() or obj.bfill() instead.\n",
            "  df.fillna(method='ffill', inplace=True)  # Forward fill\n",
            "<ipython-input-63-4d37985907ae>:77: FutureWarning: DataFrame.fillna with 'method' is deprecated and will raise in a future version. Use obj.ffill() or obj.bfill() instead.\n",
            "  df.fillna(method='bfill', inplace=True)  # Backward fill\n"
          ]
        },
        {
          "output_type": "stream",
          "name": "stdout",
          "text": [
            "Processed and saved cleaned data for AEL.JO to Stocks/AEL.JO.csv\n"
          ]
        },
        {
          "output_type": "stream",
          "name": "stderr",
          "text": [
            "\r[*********************100%%**********************]  1 of 1 completed\n",
            "<ipython-input-63-4d37985907ae>:76: FutureWarning: DataFrame.fillna with 'method' is deprecated and will raise in a future version. Use obj.ffill() or obj.bfill() instead.\n",
            "  df.fillna(method='ffill', inplace=True)  # Forward fill\n",
            "<ipython-input-63-4d37985907ae>:77: FutureWarning: DataFrame.fillna with 'method' is deprecated and will raise in a future version. Use obj.ffill() or obj.bfill() instead.\n",
            "  df.fillna(method='bfill', inplace=True)  # Backward fill\n"
          ]
        },
        {
          "output_type": "stream",
          "name": "stdout",
          "text": [
            "Processed and saved cleaned data for AFE.JO to Stocks/AFE.JO.csv\n"
          ]
        },
        {
          "output_type": "stream",
          "name": "stderr",
          "text": [
            "\r[*********************100%%**********************]  1 of 1 completed\n",
            "<ipython-input-63-4d37985907ae>:76: FutureWarning: DataFrame.fillna with 'method' is deprecated and will raise in a future version. Use obj.ffill() or obj.bfill() instead.\n",
            "  df.fillna(method='ffill', inplace=True)  # Forward fill\n",
            "<ipython-input-63-4d37985907ae>:77: FutureWarning: DataFrame.fillna with 'method' is deprecated and will raise in a future version. Use obj.ffill() or obj.bfill() instead.\n",
            "  df.fillna(method='bfill', inplace=True)  # Backward fill\n"
          ]
        },
        {
          "output_type": "stream",
          "name": "stdout",
          "text": [
            "Processed and saved cleaned data for AFH.JO to Stocks/AFH.JO.csv\n"
          ]
        },
        {
          "output_type": "stream",
          "name": "stderr",
          "text": [
            "\r[*********************100%%**********************]  1 of 1 completed\n",
            "<ipython-input-63-4d37985907ae>:76: FutureWarning: DataFrame.fillna with 'method' is deprecated and will raise in a future version. Use obj.ffill() or obj.bfill() instead.\n",
            "  df.fillna(method='ffill', inplace=True)  # Forward fill\n",
            "<ipython-input-63-4d37985907ae>:77: FutureWarning: DataFrame.fillna with 'method' is deprecated and will raise in a future version. Use obj.ffill() or obj.bfill() instead.\n",
            "  df.fillna(method='bfill', inplace=True)  # Backward fill\n"
          ]
        },
        {
          "output_type": "stream",
          "name": "stdout",
          "text": [
            "Processed and saved cleaned data for AFT.JO to Stocks/AFT.JO.csv\n"
          ]
        },
        {
          "output_type": "stream",
          "name": "stderr",
          "text": [
            "\r[*********************100%%**********************]  1 of 1 completed\n",
            "<ipython-input-63-4d37985907ae>:76: FutureWarning: DataFrame.fillna with 'method' is deprecated and will raise in a future version. Use obj.ffill() or obj.bfill() instead.\n",
            "  df.fillna(method='ffill', inplace=True)  # Forward fill\n",
            "<ipython-input-63-4d37985907ae>:77: FutureWarning: DataFrame.fillna with 'method' is deprecated and will raise in a future version. Use obj.ffill() or obj.bfill() instead.\n",
            "  df.fillna(method='bfill', inplace=True)  # Backward fill\n"
          ]
        },
        {
          "output_type": "stream",
          "name": "stdout",
          "text": [
            "Processed and saved cleaned data for AGL.JO to Stocks/AGL.JO.csv\n"
          ]
        },
        {
          "output_type": "stream",
          "name": "stderr",
          "text": [
            "\r[*********************100%%**********************]  1 of 1 completed\n",
            "<ipython-input-63-4d37985907ae>:76: FutureWarning: DataFrame.fillna with 'method' is deprecated and will raise in a future version. Use obj.ffill() or obj.bfill() instead.\n",
            "  df.fillna(method='ffill', inplace=True)  # Forward fill\n",
            "<ipython-input-63-4d37985907ae>:77: FutureWarning: DataFrame.fillna with 'method' is deprecated and will raise in a future version. Use obj.ffill() or obj.bfill() instead.\n",
            "  df.fillna(method='bfill', inplace=True)  # Backward fill\n"
          ]
        },
        {
          "output_type": "stream",
          "name": "stdout",
          "text": [
            "Processed and saved cleaned data for AHL.JO to Stocks/AHL.JO.csv\n"
          ]
        },
        {
          "output_type": "stream",
          "name": "stderr",
          "text": [
            "\r[*********************100%%**********************]  1 of 1 completed\n",
            "<ipython-input-63-4d37985907ae>:76: FutureWarning: DataFrame.fillna with 'method' is deprecated and will raise in a future version. Use obj.ffill() or obj.bfill() instead.\n",
            "  df.fillna(method='ffill', inplace=True)  # Forward fill\n",
            "<ipython-input-63-4d37985907ae>:77: FutureWarning: DataFrame.fillna with 'method' is deprecated and will raise in a future version. Use obj.ffill() or obj.bfill() instead.\n",
            "  df.fillna(method='bfill', inplace=True)  # Backward fill\n",
            "[*********************100%%**********************]  1 of 1 completed"
          ]
        },
        {
          "output_type": "stream",
          "name": "stdout",
          "text": [
            "Processed and saved cleaned data for AIL.JO to Stocks/AIL.JO.csv\n"
          ]
        },
        {
          "output_type": "stream",
          "name": "stderr",
          "text": [
            "\n",
            "<ipython-input-63-4d37985907ae>:76: FutureWarning: DataFrame.fillna with 'method' is deprecated and will raise in a future version. Use obj.ffill() or obj.bfill() instead.\n",
            "  df.fillna(method='ffill', inplace=True)  # Forward fill\n",
            "<ipython-input-63-4d37985907ae>:77: FutureWarning: DataFrame.fillna with 'method' is deprecated and will raise in a future version. Use obj.ffill() or obj.bfill() instead.\n",
            "  df.fillna(method='bfill', inplace=True)  # Backward fill\n"
          ]
        },
        {
          "output_type": "stream",
          "name": "stdout",
          "text": [
            "Processed and saved cleaned data for AIP.JO to Stocks/AIP.JO.csv\n"
          ]
        },
        {
          "output_type": "stream",
          "name": "stderr",
          "text": [
            "\r[*********************100%%**********************]  1 of 1 completed\n",
            "<ipython-input-63-4d37985907ae>:76: FutureWarning: DataFrame.fillna with 'method' is deprecated and will raise in a future version. Use obj.ffill() or obj.bfill() instead.\n",
            "  df.fillna(method='ffill', inplace=True)  # Forward fill\n",
            "<ipython-input-63-4d37985907ae>:77: FutureWarning: DataFrame.fillna with 'method' is deprecated and will raise in a future version. Use obj.ffill() or obj.bfill() instead.\n",
            "  df.fillna(method='bfill', inplace=True)  # Backward fill\n"
          ]
        },
        {
          "output_type": "stream",
          "name": "stdout",
          "text": [
            "Processed and saved cleaned data for AME.JO to Stocks/AME.JO.csv\n"
          ]
        },
        {
          "output_type": "stream",
          "name": "stderr",
          "text": [
            "\r[*********************100%%**********************]  1 of 1 completed\n",
            "<ipython-input-63-4d37985907ae>:76: FutureWarning: DataFrame.fillna with 'method' is deprecated and will raise in a future version. Use obj.ffill() or obj.bfill() instead.\n",
            "  df.fillna(method='ffill', inplace=True)  # Forward fill\n",
            "<ipython-input-63-4d37985907ae>:77: FutureWarning: DataFrame.fillna with 'method' is deprecated and will raise in a future version. Use obj.ffill() or obj.bfill() instead.\n",
            "  df.fillna(method='bfill', inplace=True)  # Backward fill\n"
          ]
        },
        {
          "output_type": "stream",
          "name": "stdout",
          "text": [
            "Processed and saved cleaned data for AMS.JO to Stocks/AMS.JO.csv\n"
          ]
        },
        {
          "output_type": "stream",
          "name": "stderr",
          "text": [
            "[*********************100%%**********************]  1 of 1 completed\n",
            "<ipython-input-63-4d37985907ae>:76: FutureWarning: DataFrame.fillna with 'method' is deprecated and will raise in a future version. Use obj.ffill() or obj.bfill() instead.\n",
            "  df.fillna(method='ffill', inplace=True)  # Forward fill\n",
            "<ipython-input-63-4d37985907ae>:77: FutureWarning: DataFrame.fillna with 'method' is deprecated and will raise in a future version. Use obj.ffill() or obj.bfill() instead.\n",
            "  df.fillna(method='bfill', inplace=True)  # Backward fill\n",
            "[*********************100%%**********************]  1 of 1 completed\n"
          ]
        },
        {
          "output_type": "stream",
          "name": "stdout",
          "text": [
            "Processed and saved cleaned data for ANG.JO to Stocks/ANG.JO.csv\n",
            "Processed and saved cleaned data for ANH.JO to Stocks/ANH.JO.csv\n"
          ]
        },
        {
          "output_type": "stream",
          "name": "stderr",
          "text": [
            "<ipython-input-63-4d37985907ae>:76: FutureWarning: DataFrame.fillna with 'method' is deprecated and will raise in a future version. Use obj.ffill() or obj.bfill() instead.\n",
            "  df.fillna(method='ffill', inplace=True)  # Forward fill\n",
            "<ipython-input-63-4d37985907ae>:77: FutureWarning: DataFrame.fillna with 'method' is deprecated and will raise in a future version. Use obj.ffill() or obj.bfill() instead.\n",
            "  df.fillna(method='bfill', inplace=True)  # Backward fill\n",
            "[*********************100%%**********************]  1 of 1 completed\n",
            "<ipython-input-63-4d37985907ae>:76: FutureWarning: DataFrame.fillna with 'method' is deprecated and will raise in a future version. Use obj.ffill() or obj.bfill() instead.\n",
            "  df.fillna(method='ffill', inplace=True)  # Forward fill\n",
            "<ipython-input-63-4d37985907ae>:77: FutureWarning: DataFrame.fillna with 'method' is deprecated and will raise in a future version. Use obj.ffill() or obj.bfill() instead.\n",
            "  df.fillna(method='bfill', inplace=True)  # Backward fill\n"
          ]
        },
        {
          "output_type": "stream",
          "name": "stdout",
          "text": [
            "Processed and saved cleaned data for ANI.JO to Stocks/ANI.JO.csv\n"
          ]
        },
        {
          "output_type": "stream",
          "name": "stderr",
          "text": [
            "\r[*********************100%%**********************]  1 of 1 completed\n",
            "<ipython-input-63-4d37985907ae>:76: FutureWarning: DataFrame.fillna with 'method' is deprecated and will raise in a future version. Use obj.ffill() or obj.bfill() instead.\n",
            "  df.fillna(method='ffill', inplace=True)  # Forward fill\n",
            "<ipython-input-63-4d37985907ae>:77: FutureWarning: DataFrame.fillna with 'method' is deprecated and will raise in a future version. Use obj.ffill() or obj.bfill() instead.\n",
            "  df.fillna(method='bfill', inplace=True)  # Backward fill\n"
          ]
        },
        {
          "output_type": "stream",
          "name": "stdout",
          "text": [
            "Processed and saved cleaned data for APF.JO to Stocks/APF.JO.csv\n"
          ]
        },
        {
          "output_type": "stream",
          "name": "stderr",
          "text": [
            "\r[*********************100%%**********************]  1 of 1 completed\n",
            "<ipython-input-63-4d37985907ae>:76: FutureWarning: DataFrame.fillna with 'method' is deprecated and will raise in a future version. Use obj.ffill() or obj.bfill() instead.\n",
            "  df.fillna(method='ffill', inplace=True)  # Forward fill\n",
            "<ipython-input-63-4d37985907ae>:77: FutureWarning: DataFrame.fillna with 'method' is deprecated and will raise in a future version. Use obj.ffill() or obj.bfill() instead.\n",
            "  df.fillna(method='bfill', inplace=True)  # Backward fill\n"
          ]
        },
        {
          "output_type": "stream",
          "name": "stdout",
          "text": [
            "Processed and saved cleaned data for APH.JO to Stocks/APH.JO.csv\n"
          ]
        },
        {
          "output_type": "stream",
          "name": "stderr",
          "text": [
            "\r[*********************100%%**********************]  1 of 1 completed\n",
            "<ipython-input-63-4d37985907ae>:76: FutureWarning: DataFrame.fillna with 'method' is deprecated and will raise in a future version. Use obj.ffill() or obj.bfill() instead.\n",
            "  df.fillna(method='ffill', inplace=True)  # Forward fill\n",
            "<ipython-input-63-4d37985907ae>:77: FutureWarning: DataFrame.fillna with 'method' is deprecated and will raise in a future version. Use obj.ffill() or obj.bfill() instead.\n",
            "  df.fillna(method='bfill', inplace=True)  # Backward fill\n",
            "[*********************100%%**********************]  1 of 1 completed"
          ]
        },
        {
          "output_type": "stream",
          "name": "stdout",
          "text": [
            "Processed and saved cleaned data for APN.JO to Stocks/APN.JO.csv\n"
          ]
        },
        {
          "output_type": "stream",
          "name": "stderr",
          "text": [
            "\n",
            "<ipython-input-63-4d37985907ae>:76: FutureWarning: DataFrame.fillna with 'method' is deprecated and will raise in a future version. Use obj.ffill() or obj.bfill() instead.\n",
            "  df.fillna(method='ffill', inplace=True)  # Forward fill\n",
            "<ipython-input-63-4d37985907ae>:77: FutureWarning: DataFrame.fillna with 'method' is deprecated and will raise in a future version. Use obj.ffill() or obj.bfill() instead.\n",
            "  df.fillna(method='bfill', inplace=True)  # Backward fill\n"
          ]
        },
        {
          "output_type": "stream",
          "name": "stdout",
          "text": [
            "Processed and saved cleaned data for APO.JO to Stocks/APO.JO.csv\n"
          ]
        },
        {
          "output_type": "stream",
          "name": "stderr",
          "text": [
            "\r[*********************100%%**********************]  1 of 1 completed\n",
            "<ipython-input-63-4d37985907ae>:76: FutureWarning: DataFrame.fillna with 'method' is deprecated and will raise in a future version. Use obj.ffill() or obj.bfill() instead.\n",
            "  df.fillna(method='ffill', inplace=True)  # Forward fill\n",
            "<ipython-input-63-4d37985907ae>:77: FutureWarning: DataFrame.fillna with 'method' is deprecated and will raise in a future version. Use obj.ffill() or obj.bfill() instead.\n",
            "  df.fillna(method='bfill', inplace=True)  # Backward fill\n"
          ]
        },
        {
          "output_type": "stream",
          "name": "stdout",
          "text": [
            "Processed and saved cleaned data for ARA.JO to Stocks/ARA.JO.csv\n"
          ]
        },
        {
          "output_type": "stream",
          "name": "stderr",
          "text": [
            "\r[*********************100%%**********************]  1 of 1 completed\n",
            "<ipython-input-63-4d37985907ae>:76: FutureWarning: DataFrame.fillna with 'method' is deprecated and will raise in a future version. Use obj.ffill() or obj.bfill() instead.\n",
            "  df.fillna(method='ffill', inplace=True)  # Forward fill\n",
            "<ipython-input-63-4d37985907ae>:77: FutureWarning: DataFrame.fillna with 'method' is deprecated and will raise in a future version. Use obj.ffill() or obj.bfill() instead.\n",
            "  df.fillna(method='bfill', inplace=True)  # Backward fill\n"
          ]
        },
        {
          "output_type": "stream",
          "name": "stdout",
          "text": [
            "Processed and saved cleaned data for ARI.JO to Stocks/ARI.JO.csv\n"
          ]
        },
        {
          "output_type": "stream",
          "name": "stderr",
          "text": [
            "\r[*********************100%%**********************]  1 of 1 completed\n",
            "<ipython-input-63-4d37985907ae>:76: FutureWarning: DataFrame.fillna with 'method' is deprecated and will raise in a future version. Use obj.ffill() or obj.bfill() instead.\n",
            "  df.fillna(method='ffill', inplace=True)  # Forward fill\n",
            "<ipython-input-63-4d37985907ae>:77: FutureWarning: DataFrame.fillna with 'method' is deprecated and will raise in a future version. Use obj.ffill() or obj.bfill() instead.\n",
            "  df.fillna(method='bfill', inplace=True)  # Backward fill\n"
          ]
        },
        {
          "output_type": "stream",
          "name": "stdout",
          "text": [
            "Processed and saved cleaned data for ARL.JO to Stocks/ARL.JO.csv\n"
          ]
        },
        {
          "output_type": "stream",
          "name": "stderr",
          "text": [
            "\r[*********************100%%**********************]  1 of 1 completed\n",
            "<ipython-input-63-4d37985907ae>:76: FutureWarning: DataFrame.fillna with 'method' is deprecated and will raise in a future version. Use obj.ffill() or obj.bfill() instead.\n",
            "  df.fillna(method='ffill', inplace=True)  # Forward fill\n",
            "<ipython-input-63-4d37985907ae>:77: FutureWarning: DataFrame.fillna with 'method' is deprecated and will raise in a future version. Use obj.ffill() or obj.bfill() instead.\n",
            "  df.fillna(method='bfill', inplace=True)  # Backward fill\n"
          ]
        },
        {
          "output_type": "stream",
          "name": "stdout",
          "text": [
            "Processed and saved cleaned data for ART.JO to Stocks/ART.JO.csv\n"
          ]
        },
        {
          "output_type": "stream",
          "name": "stderr",
          "text": [
            "\r[*********************100%%**********************]  1 of 1 completed\n",
            "<ipython-input-63-4d37985907ae>:76: FutureWarning: DataFrame.fillna with 'method' is deprecated and will raise in a future version. Use obj.ffill() or obj.bfill() instead.\n",
            "  df.fillna(method='ffill', inplace=True)  # Forward fill\n",
            "<ipython-input-63-4d37985907ae>:77: FutureWarning: DataFrame.fillna with 'method' is deprecated and will raise in a future version. Use obj.ffill() or obj.bfill() instead.\n",
            "  df.fillna(method='bfill', inplace=True)  # Backward fill\n"
          ]
        },
        {
          "output_type": "stream",
          "name": "stdout",
          "text": [
            "Processed and saved cleaned data for ASC.JO to Stocks/ASC.JO.csv\n"
          ]
        },
        {
          "output_type": "stream",
          "name": "stderr",
          "text": [
            "\r[*********************100%%**********************]  1 of 1 completed\n",
            "<ipython-input-63-4d37985907ae>:76: FutureWarning: DataFrame.fillna with 'method' is deprecated and will raise in a future version. Use obj.ffill() or obj.bfill() instead.\n",
            "  df.fillna(method='ffill', inplace=True)  # Forward fill\n",
            "<ipython-input-63-4d37985907ae>:77: FutureWarning: DataFrame.fillna with 'method' is deprecated and will raise in a future version. Use obj.ffill() or obj.bfill() instead.\n",
            "  df.fillna(method='bfill', inplace=True)  # Backward fill\n"
          ]
        },
        {
          "output_type": "stream",
          "name": "stdout",
          "text": [
            "Processed and saved cleaned data for ATT.JO to Stocks/ATT.JO.csv\n"
          ]
        },
        {
          "output_type": "stream",
          "name": "stderr",
          "text": [
            "\r[*********************100%%**********************]  1 of 1 completed\n",
            "<ipython-input-63-4d37985907ae>:76: FutureWarning: DataFrame.fillna with 'method' is deprecated and will raise in a future version. Use obj.ffill() or obj.bfill() instead.\n",
            "  df.fillna(method='ffill', inplace=True)  # Forward fill\n",
            "<ipython-input-63-4d37985907ae>:77: FutureWarning: DataFrame.fillna with 'method' is deprecated and will raise in a future version. Use obj.ffill() or obj.bfill() instead.\n",
            "  df.fillna(method='bfill', inplace=True)  # Backward fill\n",
            "[*********************100%%**********************]  1 of 1 completed"
          ]
        },
        {
          "output_type": "stream",
          "name": "stdout",
          "text": [
            "Processed and saved cleaned data for AVI.JO to Stocks/AVI.JO.csv\n"
          ]
        },
        {
          "output_type": "stream",
          "name": "stderr",
          "text": [
            "\n",
            "<ipython-input-63-4d37985907ae>:76: FutureWarning: DataFrame.fillna with 'method' is deprecated and will raise in a future version. Use obj.ffill() or obj.bfill() instead.\n",
            "  df.fillna(method='ffill', inplace=True)  # Forward fill\n",
            "<ipython-input-63-4d37985907ae>:77: FutureWarning: DataFrame.fillna with 'method' is deprecated and will raise in a future version. Use obj.ffill() or obj.bfill() instead.\n",
            "  df.fillna(method='bfill', inplace=True)  # Backward fill\n",
            "[*********************100%%**********************]  1 of 1 completed\n"
          ]
        },
        {
          "output_type": "stream",
          "name": "stdout",
          "text": [
            "Processed and saved cleaned data for AYO.JO to Stocks/AYO.JO.csv\n",
            "Processed and saved cleaned data for BAT.JO to Stocks/BAT.JO.csv\n"
          ]
        },
        {
          "output_type": "stream",
          "name": "stderr",
          "text": [
            "<ipython-input-63-4d37985907ae>:76: FutureWarning: DataFrame.fillna with 'method' is deprecated and will raise in a future version. Use obj.ffill() or obj.bfill() instead.\n",
            "  df.fillna(method='ffill', inplace=True)  # Forward fill\n",
            "<ipython-input-63-4d37985907ae>:77: FutureWarning: DataFrame.fillna with 'method' is deprecated and will raise in a future version. Use obj.ffill() or obj.bfill() instead.\n",
            "  df.fillna(method='bfill', inplace=True)  # Backward fill\n",
            "[*********************100%%**********************]  1 of 1 completed\n",
            "<ipython-input-63-4d37985907ae>:76: FutureWarning: DataFrame.fillna with 'method' is deprecated and will raise in a future version. Use obj.ffill() or obj.bfill() instead.\n",
            "  df.fillna(method='ffill', inplace=True)  # Forward fill\n",
            "<ipython-input-63-4d37985907ae>:77: FutureWarning: DataFrame.fillna with 'method' is deprecated and will raise in a future version. Use obj.ffill() or obj.bfill() instead.\n",
            "  df.fillna(method='bfill', inplace=True)  # Backward fill\n"
          ]
        },
        {
          "output_type": "stream",
          "name": "stdout",
          "text": [
            "Processed and saved cleaned data for BAW.JO to Stocks/BAW.JO.csv\n"
          ]
        },
        {
          "output_type": "stream",
          "name": "stderr",
          "text": [
            "\r[*********************100%%**********************]  1 of 1 completed\n",
            "<ipython-input-63-4d37985907ae>:76: FutureWarning: DataFrame.fillna with 'method' is deprecated and will raise in a future version. Use obj.ffill() or obj.bfill() instead.\n",
            "  df.fillna(method='ffill', inplace=True)  # Forward fill\n",
            "<ipython-input-63-4d37985907ae>:77: FutureWarning: DataFrame.fillna with 'method' is deprecated and will raise in a future version. Use obj.ffill() or obj.bfill() instead.\n",
            "  df.fillna(method='bfill', inplace=True)  # Backward fill\n"
          ]
        },
        {
          "output_type": "stream",
          "name": "stdout",
          "text": [
            "Processed and saved cleaned data for BCF.JO to Stocks/BCF.JO.csv\n"
          ]
        },
        {
          "output_type": "stream",
          "name": "stderr",
          "text": [
            "\r[*********************100%%**********************]  1 of 1 completed\n",
            "<ipython-input-63-4d37985907ae>:76: FutureWarning: DataFrame.fillna with 'method' is deprecated and will raise in a future version. Use obj.ffill() or obj.bfill() instead.\n",
            "  df.fillna(method='ffill', inplace=True)  # Forward fill\n",
            "<ipython-input-63-4d37985907ae>:77: FutureWarning: DataFrame.fillna with 'method' is deprecated and will raise in a future version. Use obj.ffill() or obj.bfill() instead.\n",
            "  df.fillna(method='bfill', inplace=True)  # Backward fill\n"
          ]
        },
        {
          "output_type": "stream",
          "name": "stdout",
          "text": [
            "Processed and saved cleaned data for BEL.JO to Stocks/BEL.JO.csv\n"
          ]
        },
        {
          "output_type": "stream",
          "name": "stderr",
          "text": [
            "\r[*********************100%%**********************]  1 of 1 completed\n",
            "<ipython-input-63-4d37985907ae>:76: FutureWarning: DataFrame.fillna with 'method' is deprecated and will raise in a future version. Use obj.ffill() or obj.bfill() instead.\n",
            "  df.fillna(method='ffill', inplace=True)  # Forward fill\n",
            "<ipython-input-63-4d37985907ae>:77: FutureWarning: DataFrame.fillna with 'method' is deprecated and will raise in a future version. Use obj.ffill() or obj.bfill() instead.\n",
            "  df.fillna(method='bfill', inplace=True)  # Backward fill\n"
          ]
        },
        {
          "output_type": "stream",
          "name": "stdout",
          "text": [
            "Processed and saved cleaned data for BHG.JO to Stocks/BHG.JO.csv\n"
          ]
        },
        {
          "output_type": "stream",
          "name": "stderr",
          "text": [
            "\r[*********************100%%**********************]  1 of 1 completed\n",
            "<ipython-input-63-4d37985907ae>:76: FutureWarning: DataFrame.fillna with 'method' is deprecated and will raise in a future version. Use obj.ffill() or obj.bfill() instead.\n",
            "  df.fillna(method='ffill', inplace=True)  # Forward fill\n",
            "<ipython-input-63-4d37985907ae>:77: FutureWarning: DataFrame.fillna with 'method' is deprecated and will raise in a future version. Use obj.ffill() or obj.bfill() instead.\n",
            "  df.fillna(method='bfill', inplace=True)  # Backward fill\n"
          ]
        },
        {
          "output_type": "stream",
          "name": "stdout",
          "text": [
            "Processed and saved cleaned data for BID.JO to Stocks/BID.JO.csv\n"
          ]
        },
        {
          "output_type": "stream",
          "name": "stderr",
          "text": [
            "\r[*********************100%%**********************]  1 of 1 completed\n",
            "<ipython-input-63-4d37985907ae>:76: FutureWarning: DataFrame.fillna with 'method' is deprecated and will raise in a future version. Use obj.ffill() or obj.bfill() instead.\n",
            "  df.fillna(method='ffill', inplace=True)  # Forward fill\n",
            "<ipython-input-63-4d37985907ae>:77: FutureWarning: DataFrame.fillna with 'method' is deprecated and will raise in a future version. Use obj.ffill() or obj.bfill() instead.\n",
            "  df.fillna(method='bfill', inplace=True)  # Backward fill\n",
            "[*********************100%%**********************]  1 of 1 completed\n"
          ]
        },
        {
          "output_type": "stream",
          "name": "stdout",
          "text": [
            "Processed and saved cleaned data for BIK.JO to Stocks/BIK.JO.csv\n"
          ]
        },
        {
          "output_type": "stream",
          "name": "stderr",
          "text": [
            "<ipython-input-63-4d37985907ae>:76: FutureWarning: DataFrame.fillna with 'method' is deprecated and will raise in a future version. Use obj.ffill() or obj.bfill() instead.\n",
            "  df.fillna(method='ffill', inplace=True)  # Forward fill\n",
            "<ipython-input-63-4d37985907ae>:77: FutureWarning: DataFrame.fillna with 'method' is deprecated and will raise in a future version. Use obj.ffill() or obj.bfill() instead.\n",
            "  df.fillna(method='bfill', inplace=True)  # Backward fill\n",
            "[*********************100%%**********************]  1 of 1 completed"
          ]
        },
        {
          "output_type": "stream",
          "name": "stdout",
          "text": [
            "Processed and saved cleaned data for BKI.JO to Stocks/BKI.JO.csv\n"
          ]
        },
        {
          "output_type": "stream",
          "name": "stderr",
          "text": [
            "\n",
            "<ipython-input-63-4d37985907ae>:76: FutureWarning: DataFrame.fillna with 'method' is deprecated and will raise in a future version. Use obj.ffill() or obj.bfill() instead.\n",
            "  df.fillna(method='ffill', inplace=True)  # Forward fill\n",
            "<ipython-input-63-4d37985907ae>:77: FutureWarning: DataFrame.fillna with 'method' is deprecated and will raise in a future version. Use obj.ffill() or obj.bfill() instead.\n",
            "  df.fillna(method='bfill', inplace=True)  # Backward fill\n"
          ]
        },
        {
          "output_type": "stream",
          "name": "stdout",
          "text": [
            "Processed and saved cleaned data for BLU.JO to Stocks/BLU.JO.csv\n"
          ]
        },
        {
          "output_type": "stream",
          "name": "stderr",
          "text": [
            "\r[*********************100%%**********************]  1 of 1 completed\n",
            "<ipython-input-63-4d37985907ae>:76: FutureWarning: DataFrame.fillna with 'method' is deprecated and will raise in a future version. Use obj.ffill() or obj.bfill() instead.\n",
            "  df.fillna(method='ffill', inplace=True)  # Forward fill\n",
            "<ipython-input-63-4d37985907ae>:77: FutureWarning: DataFrame.fillna with 'method' is deprecated and will raise in a future version. Use obj.ffill() or obj.bfill() instead.\n",
            "  df.fillna(method='bfill', inplace=True)  # Backward fill\n",
            "[*********************100%%**********************]  1 of 1 completed"
          ]
        },
        {
          "output_type": "stream",
          "name": "stdout",
          "text": [
            "Processed and saved cleaned data for BRN.JO to Stocks/BRN.JO.csv\n"
          ]
        },
        {
          "output_type": "stream",
          "name": "stderr",
          "text": [
            "\n",
            "<ipython-input-63-4d37985907ae>:76: FutureWarning: DataFrame.fillna with 'method' is deprecated and will raise in a future version. Use obj.ffill() or obj.bfill() instead.\n",
            "  df.fillna(method='ffill', inplace=True)  # Forward fill\n",
            "<ipython-input-63-4d37985907ae>:77: FutureWarning: DataFrame.fillna with 'method' is deprecated and will raise in a future version. Use obj.ffill() or obj.bfill() instead.\n",
            "  df.fillna(method='bfill', inplace=True)  # Backward fill\n"
          ]
        },
        {
          "output_type": "stream",
          "name": "stdout",
          "text": [
            "Processed and saved cleaned data for BRT.JO to Stocks/BRT.JO.csv\n"
          ]
        },
        {
          "output_type": "stream",
          "name": "stderr",
          "text": [
            "\r[*********************100%%**********************]  1 of 1 completed\n",
            "<ipython-input-63-4d37985907ae>:76: FutureWarning: DataFrame.fillna with 'method' is deprecated and will raise in a future version. Use obj.ffill() or obj.bfill() instead.\n",
            "  df.fillna(method='ffill', inplace=True)  # Forward fill\n",
            "<ipython-input-63-4d37985907ae>:77: FutureWarning: DataFrame.fillna with 'method' is deprecated and will raise in a future version. Use obj.ffill() or obj.bfill() instead.\n",
            "  df.fillna(method='bfill', inplace=True)  # Backward fill\n",
            "[*********************100%%**********************]  1 of 1 completed"
          ]
        },
        {
          "output_type": "stream",
          "name": "stdout",
          "text": [
            "Processed and saved cleaned data for BTI.JO to Stocks/BTI.JO.csv\n"
          ]
        },
        {
          "output_type": "stream",
          "name": "stderr",
          "text": [
            "\n",
            "<ipython-input-63-4d37985907ae>:76: FutureWarning: DataFrame.fillna with 'method' is deprecated and will raise in a future version. Use obj.ffill() or obj.bfill() instead.\n",
            "  df.fillna(method='ffill', inplace=True)  # Forward fill\n",
            "<ipython-input-63-4d37985907ae>:77: FutureWarning: DataFrame.fillna with 'method' is deprecated and will raise in a future version. Use obj.ffill() or obj.bfill() instead.\n",
            "  df.fillna(method='bfill', inplace=True)  # Backward fill\n"
          ]
        },
        {
          "output_type": "stream",
          "name": "stdout",
          "text": [
            "Processed and saved cleaned data for BTN.JO to Stocks/BTN.JO.csv\n"
          ]
        },
        {
          "output_type": "stream",
          "name": "stderr",
          "text": [
            "\r[*********************100%%**********************]  1 of 1 completed\n",
            "<ipython-input-63-4d37985907ae>:76: FutureWarning: DataFrame.fillna with 'method' is deprecated and will raise in a future version. Use obj.ffill() or obj.bfill() instead.\n",
            "  df.fillna(method='ffill', inplace=True)  # Forward fill\n",
            "<ipython-input-63-4d37985907ae>:77: FutureWarning: DataFrame.fillna with 'method' is deprecated and will raise in a future version. Use obj.ffill() or obj.bfill() instead.\n",
            "  df.fillna(method='bfill', inplace=True)  # Backward fill\n"
          ]
        },
        {
          "output_type": "stream",
          "name": "stdout",
          "text": [
            "Processed and saved cleaned data for BVT.JO to Stocks/BVT.JO.csv\n"
          ]
        },
        {
          "output_type": "stream",
          "name": "stderr",
          "text": [
            "[*********************100%%**********************]  1 of 1 completed\n",
            "<ipython-input-63-4d37985907ae>:76: FutureWarning: DataFrame.fillna with 'method' is deprecated and will raise in a future version. Use obj.ffill() or obj.bfill() instead.\n",
            "  df.fillna(method='ffill', inplace=True)  # Forward fill\n",
            "<ipython-input-63-4d37985907ae>:77: FutureWarning: DataFrame.fillna with 'method' is deprecated and will raise in a future version. Use obj.ffill() or obj.bfill() instead.\n",
            "  df.fillna(method='bfill', inplace=True)  # Backward fill\n",
            "[*********************100%%**********************]  1 of 1 completed\n",
            "<ipython-input-63-4d37985907ae>:76: FutureWarning: DataFrame.fillna with 'method' is deprecated and will raise in a future version. Use obj.ffill() or obj.bfill() instead.\n",
            "  df.fillna(method='ffill', inplace=True)  # Forward fill\n",
            "<ipython-input-63-4d37985907ae>:77: FutureWarning: DataFrame.fillna with 'method' is deprecated and will raise in a future version. Use obj.ffill() or obj.bfill() instead.\n",
            "  df.fillna(method='bfill', inplace=True)  # Backward fill\n"
          ]
        },
        {
          "output_type": "stream",
          "name": "stdout",
          "text": [
            "Processed and saved cleaned data for BWN.JO to Stocks/BWN.JO.csv\n",
            "Processed and saved cleaned data for BYI.JO to Stocks/BYI.JO.csv\n"
          ]
        },
        {
          "output_type": "stream",
          "name": "stderr",
          "text": [
            "\r[*********************100%%**********************]  1 of 1 completed\n",
            "<ipython-input-63-4d37985907ae>:76: FutureWarning: DataFrame.fillna with 'method' is deprecated and will raise in a future version. Use obj.ffill() or obj.bfill() instead.\n",
            "  df.fillna(method='ffill', inplace=True)  # Forward fill\n",
            "<ipython-input-63-4d37985907ae>:77: FutureWarning: DataFrame.fillna with 'method' is deprecated and will raise in a future version. Use obj.ffill() or obj.bfill() instead.\n",
            "  df.fillna(method='bfill', inplace=True)  # Backward fill\n"
          ]
        },
        {
          "output_type": "stream",
          "name": "stdout",
          "text": [
            "Processed and saved cleaned data for CAA.JO to Stocks/CAA.JO.csv\n"
          ]
        },
        {
          "output_type": "stream",
          "name": "stderr",
          "text": [
            "\r[*********************100%%**********************]  1 of 1 completed\n",
            "<ipython-input-63-4d37985907ae>:76: FutureWarning: DataFrame.fillna with 'method' is deprecated and will raise in a future version. Use obj.ffill() or obj.bfill() instead.\n",
            "  df.fillna(method='ffill', inplace=True)  # Forward fill\n",
            "<ipython-input-63-4d37985907ae>:77: FutureWarning: DataFrame.fillna with 'method' is deprecated and will raise in a future version. Use obj.ffill() or obj.bfill() instead.\n",
            "  df.fillna(method='bfill', inplace=True)  # Backward fill\n"
          ]
        },
        {
          "output_type": "stream",
          "name": "stdout",
          "text": [
            "Processed and saved cleaned data for CAT.JO to Stocks/CAT.JO.csv\n"
          ]
        },
        {
          "output_type": "stream",
          "name": "stderr",
          "text": [
            "[*********************100%%**********************]  1 of 1 completed\n",
            "<ipython-input-63-4d37985907ae>:76: FutureWarning: DataFrame.fillna with 'method' is deprecated and will raise in a future version. Use obj.ffill() or obj.bfill() instead.\n",
            "  df.fillna(method='ffill', inplace=True)  # Forward fill\n",
            "<ipython-input-63-4d37985907ae>:77: FutureWarning: DataFrame.fillna with 'method' is deprecated and will raise in a future version. Use obj.ffill() or obj.bfill() instead.\n",
            "  df.fillna(method='bfill', inplace=True)  # Backward fill\n",
            "[*********************100%%**********************]  1 of 1 completed\n",
            "<ipython-input-63-4d37985907ae>:76: FutureWarning: DataFrame.fillna with 'method' is deprecated and will raise in a future version. Use obj.ffill() or obj.bfill() instead.\n",
            "  df.fillna(method='ffill', inplace=True)  # Forward fill\n",
            "<ipython-input-63-4d37985907ae>:77: FutureWarning: DataFrame.fillna with 'method' is deprecated and will raise in a future version. Use obj.ffill() or obj.bfill() instead.\n",
            "  df.fillna(method='bfill', inplace=True)  # Backward fill\n"
          ]
        },
        {
          "output_type": "stream",
          "name": "stdout",
          "text": [
            "Processed and saved cleaned data for CFR.JO to Stocks/CFR.JO.csv\n",
            "Processed and saved cleaned data for CGR.JO to Stocks/CGR.JO.csv"
          ]
        },
        {
          "output_type": "stream",
          "name": "stderr",
          "text": [
            "\r[*********************100%%**********************]  1 of 1 completed"
          ]
        },
        {
          "output_type": "stream",
          "name": "stdout",
          "text": [
            "\n"
          ]
        },
        {
          "output_type": "stream",
          "name": "stderr",
          "text": [
            "\n",
            "<ipython-input-63-4d37985907ae>:76: FutureWarning: DataFrame.fillna with 'method' is deprecated and will raise in a future version. Use obj.ffill() or obj.bfill() instead.\n",
            "  df.fillna(method='ffill', inplace=True)  # Forward fill\n",
            "<ipython-input-63-4d37985907ae>:77: FutureWarning: DataFrame.fillna with 'method' is deprecated and will raise in a future version. Use obj.ffill() or obj.bfill() instead.\n",
            "  df.fillna(method='bfill', inplace=True)  # Backward fill\n"
          ]
        },
        {
          "output_type": "stream",
          "name": "stdout",
          "text": [
            "Processed and saved cleaned data for CHP.JO to Stocks/CHP.JO.csv\n"
          ]
        },
        {
          "output_type": "stream",
          "name": "stderr",
          "text": [
            "\r[*********************100%%**********************]  1 of 1 completed\n",
            "<ipython-input-63-4d37985907ae>:76: FutureWarning: DataFrame.fillna with 'method' is deprecated and will raise in a future version. Use obj.ffill() or obj.bfill() instead.\n",
            "  df.fillna(method='ffill', inplace=True)  # Forward fill\n",
            "<ipython-input-63-4d37985907ae>:77: FutureWarning: DataFrame.fillna with 'method' is deprecated and will raise in a future version. Use obj.ffill() or obj.bfill() instead.\n",
            "  df.fillna(method='bfill', inplace=True)  # Backward fill\n"
          ]
        },
        {
          "output_type": "stream",
          "name": "stdout",
          "text": [
            "Processed and saved cleaned data for CKS.JO to Stocks/CKS.JO.csv\n"
          ]
        },
        {
          "output_type": "stream",
          "name": "stderr",
          "text": [
            "\r[*********************100%%**********************]  1 of 1 completed\n",
            "<ipython-input-63-4d37985907ae>:76: FutureWarning: DataFrame.fillna with 'method' is deprecated and will raise in a future version. Use obj.ffill() or obj.bfill() instead.\n",
            "  df.fillna(method='ffill', inplace=True)  # Forward fill\n",
            "<ipython-input-63-4d37985907ae>:77: FutureWarning: DataFrame.fillna with 'method' is deprecated and will raise in a future version. Use obj.ffill() or obj.bfill() instead.\n",
            "  df.fillna(method='bfill', inplace=True)  # Backward fill\n"
          ]
        },
        {
          "output_type": "stream",
          "name": "stdout",
          "text": [
            "Processed and saved cleaned data for CLH.JO to Stocks/CLH.JO.csv\n"
          ]
        },
        {
          "output_type": "stream",
          "name": "stderr",
          "text": [
            "\r[*********************100%%**********************]  1 of 1 completed\n",
            "<ipython-input-63-4d37985907ae>:76: FutureWarning: DataFrame.fillna with 'method' is deprecated and will raise in a future version. Use obj.ffill() or obj.bfill() instead.\n",
            "  df.fillna(method='ffill', inplace=True)  # Forward fill\n",
            "<ipython-input-63-4d37985907ae>:77: FutureWarning: DataFrame.fillna with 'method' is deprecated and will raise in a future version. Use obj.ffill() or obj.bfill() instead.\n",
            "  df.fillna(method='bfill', inplace=True)  # Backward fill\n"
          ]
        },
        {
          "output_type": "stream",
          "name": "stdout",
          "text": [
            "Processed and saved cleaned data for CLI.JO to Stocks/CLI.JO.csv\n"
          ]
        },
        {
          "output_type": "stream",
          "name": "stderr",
          "text": [
            "\r[*********************100%%**********************]  1 of 1 completed\n",
            "<ipython-input-63-4d37985907ae>:76: FutureWarning: DataFrame.fillna with 'method' is deprecated and will raise in a future version. Use obj.ffill() or obj.bfill() instead.\n",
            "  df.fillna(method='ffill', inplace=True)  # Forward fill\n",
            "<ipython-input-63-4d37985907ae>:77: FutureWarning: DataFrame.fillna with 'method' is deprecated and will raise in a future version. Use obj.ffill() or obj.bfill() instead.\n",
            "  df.fillna(method='bfill', inplace=True)  # Backward fill\n"
          ]
        },
        {
          "output_type": "stream",
          "name": "stdout",
          "text": [
            "Processed and saved cleaned data for CLS.JO to Stocks/CLS.JO.csv\n"
          ]
        },
        {
          "output_type": "stream",
          "name": "stderr",
          "text": [
            "\r[*********************100%%**********************]  1 of 1 completed\n",
            "<ipython-input-63-4d37985907ae>:76: FutureWarning: DataFrame.fillna with 'method' is deprecated and will raise in a future version. Use obj.ffill() or obj.bfill() instead.\n",
            "  df.fillna(method='ffill', inplace=True)  # Forward fill\n",
            "<ipython-input-63-4d37985907ae>:77: FutureWarning: DataFrame.fillna with 'method' is deprecated and will raise in a future version. Use obj.ffill() or obj.bfill() instead.\n",
            "  df.fillna(method='bfill', inplace=True)  # Backward fill\n"
          ]
        },
        {
          "output_type": "stream",
          "name": "stdout",
          "text": [
            "Processed and saved cleaned data for CMH.JO to Stocks/CMH.JO.csv\n"
          ]
        },
        {
          "output_type": "stream",
          "name": "stderr",
          "text": [
            "\r[*********************100%%**********************]  1 of 1 completed\n",
            "<ipython-input-63-4d37985907ae>:76: FutureWarning: DataFrame.fillna with 'method' is deprecated and will raise in a future version. Use obj.ffill() or obj.bfill() instead.\n",
            "  df.fillna(method='ffill', inplace=True)  # Forward fill\n",
            "<ipython-input-63-4d37985907ae>:77: FutureWarning: DataFrame.fillna with 'method' is deprecated and will raise in a future version. Use obj.ffill() or obj.bfill() instead.\n",
            "  df.fillna(method='bfill', inplace=True)  # Backward fill\n"
          ]
        },
        {
          "output_type": "stream",
          "name": "stdout",
          "text": [
            "Processed and saved cleaned data for CML.JO to Stocks/CML.JO.csv\n"
          ]
        },
        {
          "output_type": "stream",
          "name": "stderr",
          "text": [
            "\r[*********************100%%**********************]  1 of 1 completed\n",
            "<ipython-input-63-4d37985907ae>:76: FutureWarning: DataFrame.fillna with 'method' is deprecated and will raise in a future version. Use obj.ffill() or obj.bfill() instead.\n",
            "  df.fillna(method='ffill', inplace=True)  # Forward fill\n",
            "<ipython-input-63-4d37985907ae>:77: FutureWarning: DataFrame.fillna with 'method' is deprecated and will raise in a future version. Use obj.ffill() or obj.bfill() instead.\n",
            "  df.fillna(method='bfill', inplace=True)  # Backward fill\n"
          ]
        },
        {
          "output_type": "stream",
          "name": "stdout",
          "text": [
            "Processed and saved cleaned data for CMO.JO to Stocks/CMO.JO.csv\n"
          ]
        },
        {
          "output_type": "stream",
          "name": "stderr",
          "text": [
            "[*********************100%%**********************]  1 of 1 completed\n",
            "<ipython-input-63-4d37985907ae>:76: FutureWarning: DataFrame.fillna with 'method' is deprecated and will raise in a future version. Use obj.ffill() or obj.bfill() instead.\n",
            "  df.fillna(method='ffill', inplace=True)  # Forward fill\n",
            "<ipython-input-63-4d37985907ae>:77: FutureWarning: DataFrame.fillna with 'method' is deprecated and will raise in a future version. Use obj.ffill() or obj.bfill() instead.\n",
            "  df.fillna(method='bfill', inplace=True)  # Backward fill\n",
            "[*********************100%%**********************]  1 of 1 completed\n"
          ]
        },
        {
          "output_type": "stream",
          "name": "stdout",
          "text": [
            "Processed and saved cleaned data for CND.JO to Stocks/CND.JO.csv\n",
            "Processed and saved cleaned data for COH.JO to Stocks/COH.JO.csv\n"
          ]
        },
        {
          "output_type": "stream",
          "name": "stderr",
          "text": [
            "<ipython-input-63-4d37985907ae>:76: FutureWarning: DataFrame.fillna with 'method' is deprecated and will raise in a future version. Use obj.ffill() or obj.bfill() instead.\n",
            "  df.fillna(method='ffill', inplace=True)  # Forward fill\n",
            "<ipython-input-63-4d37985907ae>:77: FutureWarning: DataFrame.fillna with 'method' is deprecated and will raise in a future version. Use obj.ffill() or obj.bfill() instead.\n",
            "  df.fillna(method='bfill', inplace=True)  # Backward fill\n",
            "[*********************100%%**********************]  1 of 1 completed\n",
            "<ipython-input-63-4d37985907ae>:76: FutureWarning: DataFrame.fillna with 'method' is deprecated and will raise in a future version. Use obj.ffill() or obj.bfill() instead.\n",
            "  df.fillna(method='ffill', inplace=True)  # Forward fill\n",
            "<ipython-input-63-4d37985907ae>:77: FutureWarning: DataFrame.fillna with 'method' is deprecated and will raise in a future version. Use obj.ffill() or obj.bfill() instead.\n",
            "  df.fillna(method='bfill', inplace=True)  # Backward fill\n",
            "[*********************100%%**********************]  1 of 1 completed"
          ]
        },
        {
          "output_type": "stream",
          "name": "stdout",
          "text": [
            "Processed and saved cleaned data for CPI.JO to Stocks/CPI.JO.csv\n"
          ]
        },
        {
          "output_type": "stream",
          "name": "stderr",
          "text": [
            "\n",
            "<ipython-input-63-4d37985907ae>:76: FutureWarning: DataFrame.fillna with 'method' is deprecated and will raise in a future version. Use obj.ffill() or obj.bfill() instead.\n",
            "  df.fillna(method='ffill', inplace=True)  # Forward fill\n",
            "<ipython-input-63-4d37985907ae>:77: FutureWarning: DataFrame.fillna with 'method' is deprecated and will raise in a future version. Use obj.ffill() or obj.bfill() instead.\n",
            "  df.fillna(method='bfill', inplace=True)  # Backward fill\n",
            "[*********************100%%**********************]  1 of 1 completed"
          ]
        },
        {
          "output_type": "stream",
          "name": "stdout",
          "text": [
            "Processed and saved cleaned data for CPP.JO to Stocks/CPP.JO.csv\n"
          ]
        },
        {
          "output_type": "stream",
          "name": "stderr",
          "text": [
            "\n",
            "<ipython-input-63-4d37985907ae>:76: FutureWarning: DataFrame.fillna with 'method' is deprecated and will raise in a future version. Use obj.ffill() or obj.bfill() instead.\n",
            "  df.fillna(method='ffill', inplace=True)  # Forward fill\n",
            "<ipython-input-63-4d37985907ae>:77: FutureWarning: DataFrame.fillna with 'method' is deprecated and will raise in a future version. Use obj.ffill() or obj.bfill() instead.\n",
            "  df.fillna(method='bfill', inplace=True)  # Backward fill\n"
          ]
        },
        {
          "output_type": "stream",
          "name": "stdout",
          "text": [
            "Processed and saved cleaned data for CPR.JO to Stocks/CPR.JO.csv\n"
          ]
        },
        {
          "output_type": "stream",
          "name": "stderr",
          "text": [
            "\r[*********************100%%**********************]  1 of 1 completed\n",
            "<ipython-input-63-4d37985907ae>:76: FutureWarning: DataFrame.fillna with 'method' is deprecated and will raise in a future version. Use obj.ffill() or obj.bfill() instead.\n",
            "  df.fillna(method='ffill', inplace=True)  # Forward fill\n",
            "<ipython-input-63-4d37985907ae>:77: FutureWarning: DataFrame.fillna with 'method' is deprecated and will raise in a future version. Use obj.ffill() or obj.bfill() instead.\n",
            "  df.fillna(method='bfill', inplace=True)  # Backward fill\n"
          ]
        },
        {
          "output_type": "stream",
          "name": "stdout",
          "text": [
            "Processed and saved cleaned data for CRP.JO to Stocks/CRP.JO.csv\n"
          ]
        },
        {
          "output_type": "stream",
          "name": "stderr",
          "text": [
            "\r[*********************100%%**********************]  1 of 1 completed\n",
            "<ipython-input-63-4d37985907ae>:76: FutureWarning: DataFrame.fillna with 'method' is deprecated and will raise in a future version. Use obj.ffill() or obj.bfill() instead.\n",
            "  df.fillna(method='ffill', inplace=True)  # Forward fill\n",
            "<ipython-input-63-4d37985907ae>:77: FutureWarning: DataFrame.fillna with 'method' is deprecated and will raise in a future version. Use obj.ffill() or obj.bfill() instead.\n",
            "  df.fillna(method='bfill', inplace=True)  # Backward fill\n",
            "[*********************100%%**********************]  1 of 1 completed"
          ]
        },
        {
          "output_type": "stream",
          "name": "stdout",
          "text": [
            "Processed and saved cleaned data for CSB.JO to Stocks/CSB.JO.csv\n"
          ]
        },
        {
          "output_type": "stream",
          "name": "stderr",
          "text": [
            "\n",
            "<ipython-input-63-4d37985907ae>:76: FutureWarning: DataFrame.fillna with 'method' is deprecated and will raise in a future version. Use obj.ffill() or obj.bfill() instead.\n",
            "  df.fillna(method='ffill', inplace=True)  # Forward fill\n",
            "<ipython-input-63-4d37985907ae>:77: FutureWarning: DataFrame.fillna with 'method' is deprecated and will raise in a future version. Use obj.ffill() or obj.bfill() instead.\n",
            "  df.fillna(method='bfill', inplace=True)  # Backward fill\n",
            "\r[*********************100%%**********************]  1 of 1 completed\n",
            "<ipython-input-63-4d37985907ae>:76: FutureWarning: DataFrame.fillna with 'method' is deprecated and will raise in a future version. Use obj.ffill() or obj.bfill() instead.\n",
            "  df.fillna(method='ffill', inplace=True)  # Forward fill\n",
            "<ipython-input-63-4d37985907ae>:77: FutureWarning: DataFrame.fillna with 'method' is deprecated and will raise in a future version. Use obj.ffill() or obj.bfill() instead.\n",
            "  df.fillna(method='bfill', inplace=True)  # Backward fill\n"
          ]
        },
        {
          "output_type": "stream",
          "name": "stdout",
          "text": [
            "Processed and saved cleaned data for CTA.JO to Stocks/CTA.JO.csv\n",
            "Processed and saved cleaned data for DCP.JO to Stocks/DCP.JO.csv\n"
          ]
        },
        {
          "output_type": "stream",
          "name": "stderr",
          "text": [
            "\r[*********************100%%**********************]  1 of 1 completed\n",
            "<ipython-input-63-4d37985907ae>:76: FutureWarning: DataFrame.fillna with 'method' is deprecated and will raise in a future version. Use obj.ffill() or obj.bfill() instead.\n",
            "  df.fillna(method='ffill', inplace=True)  # Forward fill\n",
            "<ipython-input-63-4d37985907ae>:77: FutureWarning: DataFrame.fillna with 'method' is deprecated and will raise in a future version. Use obj.ffill() or obj.bfill() instead.\n",
            "  df.fillna(method='bfill', inplace=True)  # Backward fill\n"
          ]
        },
        {
          "output_type": "stream",
          "name": "stdout",
          "text": [
            "Processed and saved cleaned data for DIB.JO to Stocks/DIB.JO.csv\n"
          ]
        },
        {
          "output_type": "stream",
          "name": "stderr",
          "text": [
            "[*********************100%%**********************]  1 of 1 completed\n",
            "<ipython-input-63-4d37985907ae>:76: FutureWarning: DataFrame.fillna with 'method' is deprecated and will raise in a future version. Use obj.ffill() or obj.bfill() instead.\n",
            "  df.fillna(method='ffill', inplace=True)  # Forward fill\n",
            "<ipython-input-63-4d37985907ae>:77: FutureWarning: DataFrame.fillna with 'method' is deprecated and will raise in a future version. Use obj.ffill() or obj.bfill() instead.\n",
            "  df.fillna(method='bfill', inplace=True)  # Backward fill\n",
            "[*********************100%%**********************]  1 of 1 completed\n",
            "<ipython-input-63-4d37985907ae>:76: FutureWarning: DataFrame.fillna with 'method' is deprecated and will raise in a future version. Use obj.ffill() or obj.bfill() instead.\n",
            "  df.fillna(method='ffill', inplace=True)  # Forward fill\n",
            "<ipython-input-63-4d37985907ae>:77: FutureWarning: DataFrame.fillna with 'method' is deprecated and will raise in a future version. Use obj.ffill() or obj.bfill() instead.\n",
            "  df.fillna(method='bfill', inplace=True)  # Backward fill\n"
          ]
        },
        {
          "output_type": "stream",
          "name": "stdout",
          "text": [
            "Processed and saved cleaned data for DNB.JO to Stocks/DNB.JO.csv\n",
            "Processed and saved cleaned data for DRA.JO to Stocks/DRA.JO.csv\n"
          ]
        },
        {
          "output_type": "stream",
          "name": "stderr",
          "text": [
            "\r[*********************100%%**********************]  1 of 1 completed\n",
            "<ipython-input-63-4d37985907ae>:76: FutureWarning: DataFrame.fillna with 'method' is deprecated and will raise in a future version. Use obj.ffill() or obj.bfill() instead.\n",
            "  df.fillna(method='ffill', inplace=True)  # Forward fill\n",
            "<ipython-input-63-4d37985907ae>:77: FutureWarning: DataFrame.fillna with 'method' is deprecated and will raise in a future version. Use obj.ffill() or obj.bfill() instead.\n",
            "  df.fillna(method='bfill', inplace=True)  # Backward fill\n"
          ]
        },
        {
          "output_type": "stream",
          "name": "stdout",
          "text": [
            "Processed and saved cleaned data for DRD.JO to Stocks/DRD.JO.csv\n"
          ]
        },
        {
          "output_type": "stream",
          "name": "stderr",
          "text": [
            "\r[*********************100%%**********************]  1 of 1 completed\n",
            "<ipython-input-63-4d37985907ae>:76: FutureWarning: DataFrame.fillna with 'method' is deprecated and will raise in a future version. Use obj.ffill() or obj.bfill() instead.\n",
            "  df.fillna(method='ffill', inplace=True)  # Forward fill\n",
            "<ipython-input-63-4d37985907ae>:77: FutureWarning: DataFrame.fillna with 'method' is deprecated and will raise in a future version. Use obj.ffill() or obj.bfill() instead.\n",
            "  df.fillna(method='bfill', inplace=True)  # Backward fill\n"
          ]
        },
        {
          "output_type": "stream",
          "name": "stdout",
          "text": [
            "Processed and saved cleaned data for DSY.JO to Stocks/DSY.JO.csv\n"
          ]
        },
        {
          "output_type": "stream",
          "name": "stderr",
          "text": [
            "[*********************100%%**********************]  1 of 1 completed\n",
            "<ipython-input-63-4d37985907ae>:76: FutureWarning: DataFrame.fillna with 'method' is deprecated and will raise in a future version. Use obj.ffill() or obj.bfill() instead.\n",
            "  df.fillna(method='ffill', inplace=True)  # Forward fill\n",
            "<ipython-input-63-4d37985907ae>:77: FutureWarning: DataFrame.fillna with 'method' is deprecated and will raise in a future version. Use obj.ffill() or obj.bfill() instead.\n",
            "  df.fillna(method='bfill', inplace=True)  # Backward fill\n",
            "[*********************100%%**********************]  1 of 1 completed\n",
            "<ipython-input-63-4d37985907ae>:76: FutureWarning: DataFrame.fillna with 'method' is deprecated and will raise in a future version. Use obj.ffill() or obj.bfill() instead.\n",
            "  df.fillna(method='ffill', inplace=True)  # Forward fill\n",
            "<ipython-input-63-4d37985907ae>:77: FutureWarning: DataFrame.fillna with 'method' is deprecated and will raise in a future version. Use obj.ffill() or obj.bfill() instead.\n",
            "  df.fillna(method='bfill', inplace=True)  # Backward fill\n"
          ]
        },
        {
          "output_type": "stream",
          "name": "stdout",
          "text": [
            "Processed and saved cleaned data for DTC.JO to Stocks/DTC.JO.csv\n",
            "Processed and saved cleaned data for ELI.JO to Stocks/ELI.JO.csv\n"
          ]
        },
        {
          "output_type": "stream",
          "name": "stderr",
          "text": [
            "\r[*********************100%%**********************]  1 of 1 completed\n",
            "<ipython-input-63-4d37985907ae>:76: FutureWarning: DataFrame.fillna with 'method' is deprecated and will raise in a future version. Use obj.ffill() or obj.bfill() instead.\n",
            "  df.fillna(method='ffill', inplace=True)  # Forward fill\n",
            "<ipython-input-63-4d37985907ae>:77: FutureWarning: DataFrame.fillna with 'method' is deprecated and will raise in a future version. Use obj.ffill() or obj.bfill() instead.\n",
            "  df.fillna(method='bfill', inplace=True)  # Backward fill\n"
          ]
        },
        {
          "output_type": "stream",
          "name": "stdout",
          "text": [
            "Processed and saved cleaned data for EMH.JO to Stocks/EMH.JO.csv\n"
          ]
        },
        {
          "output_type": "stream",
          "name": "stderr",
          "text": [
            "\r[*********************100%%**********************]  1 of 1 completed\n",
            "<ipython-input-63-4d37985907ae>:76: FutureWarning: DataFrame.fillna with 'method' is deprecated and will raise in a future version. Use obj.ffill() or obj.bfill() instead.\n",
            "  df.fillna(method='ffill', inplace=True)  # Forward fill\n",
            "<ipython-input-63-4d37985907ae>:77: FutureWarning: DataFrame.fillna with 'method' is deprecated and will raise in a future version. Use obj.ffill() or obj.bfill() instead.\n",
            "  df.fillna(method='bfill', inplace=True)  # Backward fill\n"
          ]
        },
        {
          "output_type": "stream",
          "name": "stdout",
          "text": [
            "Processed and saved cleaned data for EMI.JO to Stocks/EMI.JO.csv\n"
          ]
        },
        {
          "output_type": "stream",
          "name": "stderr",
          "text": [
            "\r[*********************100%%**********************]  1 of 1 completed\n",
            "<ipython-input-63-4d37985907ae>:76: FutureWarning: DataFrame.fillna with 'method' is deprecated and will raise in a future version. Use obj.ffill() or obj.bfill() instead.\n",
            "  df.fillna(method='ffill', inplace=True)  # Forward fill\n",
            "<ipython-input-63-4d37985907ae>:77: FutureWarning: DataFrame.fillna with 'method' is deprecated and will raise in a future version. Use obj.ffill() or obj.bfill() instead.\n",
            "  df.fillna(method='bfill', inplace=True)  # Backward fill\n"
          ]
        },
        {
          "output_type": "stream",
          "name": "stdout",
          "text": [
            "Processed and saved cleaned data for EMN.JO to Stocks/EMN.JO.csv\n"
          ]
        },
        {
          "output_type": "stream",
          "name": "stderr",
          "text": [
            "\r[*********************100%%**********************]  1 of 1 completed\n",
            "<ipython-input-63-4d37985907ae>:76: FutureWarning: DataFrame.fillna with 'method' is deprecated and will raise in a future version. Use obj.ffill() or obj.bfill() instead.\n",
            "  df.fillna(method='ffill', inplace=True)  # Forward fill\n",
            "<ipython-input-63-4d37985907ae>:77: FutureWarning: DataFrame.fillna with 'method' is deprecated and will raise in a future version. Use obj.ffill() or obj.bfill() instead.\n",
            "  df.fillna(method='bfill', inplace=True)  # Backward fill\n"
          ]
        },
        {
          "output_type": "stream",
          "name": "stdout",
          "text": [
            "Processed and saved cleaned data for ENX.JO to Stocks/ENX.JO.csv\n"
          ]
        },
        {
          "output_type": "stream",
          "name": "stderr",
          "text": [
            "\r[*********************100%%**********************]  1 of 1 completed\n",
            "<ipython-input-63-4d37985907ae>:76: FutureWarning: DataFrame.fillna with 'method' is deprecated and will raise in a future version. Use obj.ffill() or obj.bfill() instead.\n",
            "  df.fillna(method='ffill', inplace=True)  # Forward fill\n",
            "<ipython-input-63-4d37985907ae>:77: FutureWarning: DataFrame.fillna with 'method' is deprecated and will raise in a future version. Use obj.ffill() or obj.bfill() instead.\n",
            "  df.fillna(method='bfill', inplace=True)  # Backward fill\n"
          ]
        },
        {
          "output_type": "stream",
          "name": "stdout",
          "text": [
            "Processed and saved cleaned data for EOH.JO to Stocks/EOH.JO.csv\n"
          ]
        },
        {
          "output_type": "stream",
          "name": "stderr",
          "text": [
            "[*********************100%%**********************]  1 of 1 completed\n",
            "<ipython-input-63-4d37985907ae>:76: FutureWarning: DataFrame.fillna with 'method' is deprecated and will raise in a future version. Use obj.ffill() or obj.bfill() instead.\n",
            "  df.fillna(method='ffill', inplace=True)  # Forward fill\n",
            "<ipython-input-63-4d37985907ae>:77: FutureWarning: DataFrame.fillna with 'method' is deprecated and will raise in a future version. Use obj.ffill() or obj.bfill() instead.\n",
            "  df.fillna(method='bfill', inplace=True)  # Backward fill\n",
            "[*********************100%%**********************]  1 of 1 completed\n",
            "<ipython-input-63-4d37985907ae>:76: FutureWarning: DataFrame.fillna with 'method' is deprecated and will raise in a future version. Use obj.ffill() or obj.bfill() instead.\n",
            "  df.fillna(method='ffill', inplace=True)  # Forward fill\n",
            "<ipython-input-63-4d37985907ae>:77: FutureWarning: DataFrame.fillna with 'method' is deprecated and will raise in a future version. Use obj.ffill() or obj.bfill() instead.\n",
            "  df.fillna(method='bfill', inplace=True)  # Backward fill\n"
          ]
        },
        {
          "output_type": "stream",
          "name": "stdout",
          "text": [
            "Processed and saved cleaned data for EPE.JO to Stocks/EPE.JO.csv\n",
            "Processed and saved cleaned data for EPS.JO to Stocks/EPS.JO.csv\n"
          ]
        },
        {
          "output_type": "stream",
          "name": "stderr",
          "text": [
            "[*********************100%%**********************]  1 of 1 completed\n",
            "<ipython-input-63-4d37985907ae>:76: FutureWarning: DataFrame.fillna with 'method' is deprecated and will raise in a future version. Use obj.ffill() or obj.bfill() instead.\n",
            "  df.fillna(method='ffill', inplace=True)  # Forward fill\n",
            "<ipython-input-63-4d37985907ae>:77: FutureWarning: DataFrame.fillna with 'method' is deprecated and will raise in a future version. Use obj.ffill() or obj.bfill() instead.\n",
            "  df.fillna(method='bfill', inplace=True)  # Backward fill\n",
            "[*********************100%%**********************]  1 of 1 completed\n",
            "<ipython-input-63-4d37985907ae>:76: FutureWarning: DataFrame.fillna with 'method' is deprecated and will raise in a future version. Use obj.ffill() or obj.bfill() instead.\n",
            "  df.fillna(method='ffill', inplace=True)  # Forward fill\n",
            "<ipython-input-63-4d37985907ae>:77: FutureWarning: DataFrame.fillna with 'method' is deprecated and will raise in a future version. Use obj.ffill() or obj.bfill() instead.\n",
            "  df.fillna(method='bfill', inplace=True)  # Backward fill\n"
          ]
        },
        {
          "output_type": "stream",
          "name": "stdout",
          "text": [
            "Processed and saved cleaned data for EQU.JO to Stocks/EQU.JO.csv\n",
            "Processed and saved cleaned data for EUZ.JO to Stocks/EUZ.JO.csv\n"
          ]
        },
        {
          "output_type": "stream",
          "name": "stderr",
          "text": [
            "\r[*********************100%%**********************]  1 of 1 completed\n",
            "<ipython-input-63-4d37985907ae>:76: FutureWarning: DataFrame.fillna with 'method' is deprecated and will raise in a future version. Use obj.ffill() or obj.bfill() instead.\n",
            "  df.fillna(method='ffill', inplace=True)  # Forward fill\n",
            "<ipython-input-63-4d37985907ae>:77: FutureWarning: DataFrame.fillna with 'method' is deprecated and will raise in a future version. Use obj.ffill() or obj.bfill() instead.\n",
            "  df.fillna(method='bfill', inplace=True)  # Backward fill\n"
          ]
        },
        {
          "output_type": "stream",
          "name": "stdout",
          "text": [
            "Processed and saved cleaned data for EXP.JO to Stocks/EXP.JO.csv\n"
          ]
        },
        {
          "output_type": "stream",
          "name": "stderr",
          "text": [
            "\r[*********************100%%**********************]  1 of 1 completed\n",
            "<ipython-input-63-4d37985907ae>:76: FutureWarning: DataFrame.fillna with 'method' is deprecated and will raise in a future version. Use obj.ffill() or obj.bfill() instead.\n",
            "  df.fillna(method='ffill', inplace=True)  # Forward fill\n",
            "<ipython-input-63-4d37985907ae>:77: FutureWarning: DataFrame.fillna with 'method' is deprecated and will raise in a future version. Use obj.ffill() or obj.bfill() instead.\n",
            "  df.fillna(method='bfill', inplace=True)  # Backward fill\n"
          ]
        },
        {
          "output_type": "stream",
          "name": "stdout",
          "text": [
            "Processed and saved cleaned data for EXX.JO to Stocks/EXX.JO.csv\n"
          ]
        },
        {
          "output_type": "stream",
          "name": "stderr",
          "text": [
            "\r[*********************100%%**********************]  1 of 1 completed\n",
            "<ipython-input-63-4d37985907ae>:76: FutureWarning: DataFrame.fillna with 'method' is deprecated and will raise in a future version. Use obj.ffill() or obj.bfill() instead.\n",
            "  df.fillna(method='ffill', inplace=True)  # Forward fill\n",
            "<ipython-input-63-4d37985907ae>:77: FutureWarning: DataFrame.fillna with 'method' is deprecated and will raise in a future version. Use obj.ffill() or obj.bfill() instead.\n",
            "  df.fillna(method='bfill', inplace=True)  # Backward fill\n"
          ]
        },
        {
          "output_type": "stream",
          "name": "stdout",
          "text": [
            "Processed and saved cleaned data for FBR.JO to Stocks/FBR.JO.csv\n"
          ]
        },
        {
          "output_type": "stream",
          "name": "stderr",
          "text": [
            "\r[*********************100%%**********************]  1 of 1 completed\n",
            "<ipython-input-63-4d37985907ae>:76: FutureWarning: DataFrame.fillna with 'method' is deprecated and will raise in a future version. Use obj.ffill() or obj.bfill() instead.\n",
            "  df.fillna(method='ffill', inplace=True)  # Forward fill\n",
            "<ipython-input-63-4d37985907ae>:77: FutureWarning: DataFrame.fillna with 'method' is deprecated and will raise in a future version. Use obj.ffill() or obj.bfill() instead.\n",
            "  df.fillna(method='bfill', inplace=True)  # Backward fill\n"
          ]
        },
        {
          "output_type": "stream",
          "name": "stdout",
          "text": [
            "Processed and saved cleaned data for FFB.JO to Stocks/FFB.JO.csv\n"
          ]
        },
        {
          "output_type": "stream",
          "name": "stderr",
          "text": [
            "\r[*********************100%%**********************]  1 of 1 completed\n",
            "<ipython-input-63-4d37985907ae>:76: FutureWarning: DataFrame.fillna with 'method' is deprecated and will raise in a future version. Use obj.ffill() or obj.bfill() instead.\n",
            "  df.fillna(method='ffill', inplace=True)  # Forward fill\n",
            "<ipython-input-63-4d37985907ae>:77: FutureWarning: DataFrame.fillna with 'method' is deprecated and will raise in a future version. Use obj.ffill() or obj.bfill() instead.\n",
            "  df.fillna(method='bfill', inplace=True)  # Backward fill\n"
          ]
        },
        {
          "output_type": "stream",
          "name": "stdout",
          "text": [
            "Processed and saved cleaned data for FGL.JO to Stocks/FGL.JO.csv\n"
          ]
        },
        {
          "output_type": "stream",
          "name": "stderr",
          "text": [
            "\r[*********************100%%**********************]  1 of 1 completed\n",
            "<ipython-input-63-4d37985907ae>:76: FutureWarning: DataFrame.fillna with 'method' is deprecated and will raise in a future version. Use obj.ffill() or obj.bfill() instead.\n",
            "  df.fillna(method='ffill', inplace=True)  # Forward fill\n",
            "<ipython-input-63-4d37985907ae>:77: FutureWarning: DataFrame.fillna with 'method' is deprecated and will raise in a future version. Use obj.ffill() or obj.bfill() instead.\n",
            "  df.fillna(method='bfill', inplace=True)  # Backward fill\n"
          ]
        },
        {
          "output_type": "stream",
          "name": "stdout",
          "text": [
            "Processed and saved cleaned data for FSR.JO to Stocks/FSR.JO.csv\n"
          ]
        },
        {
          "output_type": "stream",
          "name": "stderr",
          "text": [
            "\r[*********************100%%**********************]  1 of 1 completed\n",
            "<ipython-input-63-4d37985907ae>:76: FutureWarning: DataFrame.fillna with 'method' is deprecated and will raise in a future version. Use obj.ffill() or obj.bfill() instead.\n",
            "  df.fillna(method='ffill', inplace=True)  # Forward fill\n",
            "<ipython-input-63-4d37985907ae>:77: FutureWarning: DataFrame.fillna with 'method' is deprecated and will raise in a future version. Use obj.ffill() or obj.bfill() instead.\n",
            "  df.fillna(method='bfill', inplace=True)  # Backward fill\n"
          ]
        },
        {
          "output_type": "stream",
          "name": "stdout",
          "text": [
            "Processed and saved cleaned data for FTA.JO to Stocks/FTA.JO.csv\n"
          ]
        },
        {
          "output_type": "stream",
          "name": "stderr",
          "text": [
            "\r[*********************100%%**********************]  1 of 1 completed\n",
            "<ipython-input-63-4d37985907ae>:76: FutureWarning: DataFrame.fillna with 'method' is deprecated and will raise in a future version. Use obj.ffill() or obj.bfill() instead.\n",
            "  df.fillna(method='ffill', inplace=True)  # Forward fill\n",
            "<ipython-input-63-4d37985907ae>:77: FutureWarning: DataFrame.fillna with 'method' is deprecated and will raise in a future version. Use obj.ffill() or obj.bfill() instead.\n",
            "  df.fillna(method='bfill', inplace=True)  # Backward fill\n"
          ]
        },
        {
          "output_type": "stream",
          "name": "stdout",
          "text": [
            "Processed and saved cleaned data for FTB.JO to Stocks/FTB.JO.csv\n"
          ]
        },
        {
          "output_type": "stream",
          "name": "stderr",
          "text": [
            "\r[*********************100%%**********************]  1 of 1 completed\n",
            "<ipython-input-63-4d37985907ae>:76: FutureWarning: DataFrame.fillna with 'method' is deprecated and will raise in a future version. Use obj.ffill() or obj.bfill() instead.\n",
            "  df.fillna(method='ffill', inplace=True)  # Forward fill\n",
            "<ipython-input-63-4d37985907ae>:77: FutureWarning: DataFrame.fillna with 'method' is deprecated and will raise in a future version. Use obj.ffill() or obj.bfill() instead.\n",
            "  df.fillna(method='bfill', inplace=True)  # Backward fill\n"
          ]
        },
        {
          "output_type": "stream",
          "name": "stdout",
          "text": [
            "Processed and saved cleaned data for FTH.JO to Stocks/FTH.JO.csv\n"
          ]
        },
        {
          "output_type": "stream",
          "name": "stderr",
          "text": [
            "\r[*********************100%%**********************]  1 of 1 completed\n",
            "<ipython-input-63-4d37985907ae>:76: FutureWarning: DataFrame.fillna with 'method' is deprecated and will raise in a future version. Use obj.ffill() or obj.bfill() instead.\n",
            "  df.fillna(method='ffill', inplace=True)  # Forward fill\n",
            "<ipython-input-63-4d37985907ae>:77: FutureWarning: DataFrame.fillna with 'method' is deprecated and will raise in a future version. Use obj.ffill() or obj.bfill() instead.\n",
            "  df.fillna(method='bfill', inplace=True)  # Backward fill\n"
          ]
        },
        {
          "output_type": "stream",
          "name": "stdout",
          "text": [
            "Processed and saved cleaned data for GFI.JO to Stocks/GFI.JO.csv\n"
          ]
        },
        {
          "output_type": "stream",
          "name": "stderr",
          "text": [
            "\r[*********************100%%**********************]  1 of 1 completed\n",
            "<ipython-input-63-4d37985907ae>:76: FutureWarning: DataFrame.fillna with 'method' is deprecated and will raise in a future version. Use obj.ffill() or obj.bfill() instead.\n",
            "  df.fillna(method='ffill', inplace=True)  # Forward fill\n",
            "<ipython-input-63-4d37985907ae>:77: FutureWarning: DataFrame.fillna with 'method' is deprecated and will raise in a future version. Use obj.ffill() or obj.bfill() instead.\n",
            "  df.fillna(method='bfill', inplace=True)  # Backward fill\n"
          ]
        },
        {
          "output_type": "stream",
          "name": "stdout",
          "text": [
            "Processed and saved cleaned data for GLD.JO to Stocks/GLD.JO.csv\n"
          ]
        },
        {
          "output_type": "stream",
          "name": "stderr",
          "text": [
            "\r[*********************100%%**********************]  1 of 1 completed\n",
            "<ipython-input-63-4d37985907ae>:76: FutureWarning: DataFrame.fillna with 'method' is deprecated and will raise in a future version. Use obj.ffill() or obj.bfill() instead.\n",
            "  df.fillna(method='ffill', inplace=True)  # Forward fill\n",
            "<ipython-input-63-4d37985907ae>:77: FutureWarning: DataFrame.fillna with 'method' is deprecated and will raise in a future version. Use obj.ffill() or obj.bfill() instead.\n",
            "  df.fillna(method='bfill', inplace=True)  # Backward fill\n"
          ]
        },
        {
          "output_type": "stream",
          "name": "stdout",
          "text": [
            "Processed and saved cleaned data for GLN.JO to Stocks/GLN.JO.csv\n"
          ]
        },
        {
          "output_type": "stream",
          "name": "stderr",
          "text": [
            "\r[*********************100%%**********************]  1 of 1 completed\n",
            "<ipython-input-63-4d37985907ae>:76: FutureWarning: DataFrame.fillna with 'method' is deprecated and will raise in a future version. Use obj.ffill() or obj.bfill() instead.\n",
            "  df.fillna(method='ffill', inplace=True)  # Forward fill\n",
            "<ipython-input-63-4d37985907ae>:77: FutureWarning: DataFrame.fillna with 'method' is deprecated and will raise in a future version. Use obj.ffill() or obj.bfill() instead.\n",
            "  df.fillna(method='bfill', inplace=True)  # Backward fill\n"
          ]
        },
        {
          "output_type": "stream",
          "name": "stdout",
          "text": [
            "Processed and saved cleaned data for GML.JO to Stocks/GML.JO.csv\n"
          ]
        },
        {
          "output_type": "stream",
          "name": "stderr",
          "text": [
            "\r[*********************100%%**********************]  1 of 1 completed\n",
            "<ipython-input-63-4d37985907ae>:76: FutureWarning: DataFrame.fillna with 'method' is deprecated and will raise in a future version. Use obj.ffill() or obj.bfill() instead.\n",
            "  df.fillna(method='ffill', inplace=True)  # Forward fill\n",
            "<ipython-input-63-4d37985907ae>:77: FutureWarning: DataFrame.fillna with 'method' is deprecated and will raise in a future version. Use obj.ffill() or obj.bfill() instead.\n",
            "  df.fillna(method='bfill', inplace=True)  # Backward fill\n"
          ]
        },
        {
          "output_type": "stream",
          "name": "stdout",
          "text": [
            "Processed and saved cleaned data for GND.JO to Stocks/GND.JO.csv\n"
          ]
        },
        {
          "output_type": "stream",
          "name": "stderr",
          "text": [
            "\r[*********************100%%**********************]  1 of 1 completed\n",
            "<ipython-input-63-4d37985907ae>:76: FutureWarning: DataFrame.fillna with 'method' is deprecated and will raise in a future version. Use obj.ffill() or obj.bfill() instead.\n",
            "  df.fillna(method='ffill', inplace=True)  # Forward fill\n",
            "<ipython-input-63-4d37985907ae>:77: FutureWarning: DataFrame.fillna with 'method' is deprecated and will raise in a future version. Use obj.ffill() or obj.bfill() instead.\n",
            "  df.fillna(method='bfill', inplace=True)  # Backward fill\n"
          ]
        },
        {
          "output_type": "stream",
          "name": "stdout",
          "text": [
            "Processed and saved cleaned data for GPL.JO to Stocks/GPL.JO.csv\n"
          ]
        },
        {
          "output_type": "stream",
          "name": "stderr",
          "text": [
            "\r[*********************100%%**********************]  1 of 1 completed\n",
            "<ipython-input-63-4d37985907ae>:76: FutureWarning: DataFrame.fillna with 'method' is deprecated and will raise in a future version. Use obj.ffill() or obj.bfill() instead.\n",
            "  df.fillna(method='ffill', inplace=True)  # Forward fill\n",
            "<ipython-input-63-4d37985907ae>:77: FutureWarning: DataFrame.fillna with 'method' is deprecated and will raise in a future version. Use obj.ffill() or obj.bfill() instead.\n",
            "  df.fillna(method='bfill', inplace=True)  # Backward fill\n"
          ]
        },
        {
          "output_type": "stream",
          "name": "stdout",
          "text": [
            "Processed and saved cleaned data for GRT.JO to Stocks/GRT.JO.csv\n"
          ]
        },
        {
          "output_type": "stream",
          "name": "stderr",
          "text": [
            "\r[*********************100%%**********************]  1 of 1 completed\n",
            "<ipython-input-63-4d37985907ae>:76: FutureWarning: DataFrame.fillna with 'method' is deprecated and will raise in a future version. Use obj.ffill() or obj.bfill() instead.\n",
            "  df.fillna(method='ffill', inplace=True)  # Forward fill\n",
            "<ipython-input-63-4d37985907ae>:77: FutureWarning: DataFrame.fillna with 'method' is deprecated and will raise in a future version. Use obj.ffill() or obj.bfill() instead.\n",
            "  df.fillna(method='bfill', inplace=True)  # Backward fill\n"
          ]
        },
        {
          "output_type": "stream",
          "name": "stdout",
          "text": [
            "Processed and saved cleaned data for GSH.JO to Stocks/GSH.JO.csv\n"
          ]
        },
        {
          "output_type": "stream",
          "name": "stderr",
          "text": [
            "\r[*********************100%%**********************]  1 of 1 completed\n",
            "<ipython-input-63-4d37985907ae>:76: FutureWarning: DataFrame.fillna with 'method' is deprecated and will raise in a future version. Use obj.ffill() or obj.bfill() instead.\n",
            "  df.fillna(method='ffill', inplace=True)  # Forward fill\n",
            "<ipython-input-63-4d37985907ae>:77: FutureWarning: DataFrame.fillna with 'method' is deprecated and will raise in a future version. Use obj.ffill() or obj.bfill() instead.\n",
            "  df.fillna(method='bfill', inplace=True)  # Backward fill\n"
          ]
        },
        {
          "output_type": "stream",
          "name": "stdout",
          "text": [
            "Processed and saved cleaned data for HAR.JO to Stocks/HAR.JO.csv\n"
          ]
        },
        {
          "output_type": "stream",
          "name": "stderr",
          "text": [
            "\r[*********************100%%**********************]  1 of 1 completed\n",
            "<ipython-input-63-4d37985907ae>:76: FutureWarning: DataFrame.fillna with 'method' is deprecated and will raise in a future version. Use obj.ffill() or obj.bfill() instead.\n",
            "  df.fillna(method='ffill', inplace=True)  # Forward fill\n",
            "<ipython-input-63-4d37985907ae>:77: FutureWarning: DataFrame.fillna with 'method' is deprecated and will raise in a future version. Use obj.ffill() or obj.bfill() instead.\n",
            "  df.fillna(method='bfill', inplace=True)  # Backward fill\n"
          ]
        },
        {
          "output_type": "stream",
          "name": "stdout",
          "text": [
            "Processed and saved cleaned data for HCI.JO to Stocks/HCI.JO.csv\n"
          ]
        },
        {
          "output_type": "stream",
          "name": "stderr",
          "text": [
            "\r[*********************100%%**********************]  1 of 1 completed\n",
            "<ipython-input-63-4d37985907ae>:76: FutureWarning: DataFrame.fillna with 'method' is deprecated and will raise in a future version. Use obj.ffill() or obj.bfill() instead.\n",
            "  df.fillna(method='ffill', inplace=True)  # Forward fill\n",
            "<ipython-input-63-4d37985907ae>:77: FutureWarning: DataFrame.fillna with 'method' is deprecated and will raise in a future version. Use obj.ffill() or obj.bfill() instead.\n",
            "  df.fillna(method='bfill', inplace=True)  # Backward fill\n"
          ]
        },
        {
          "output_type": "stream",
          "name": "stdout",
          "text": [
            "Processed and saved cleaned data for HDC.JO to Stocks/HDC.JO.csv\n"
          ]
        },
        {
          "output_type": "stream",
          "name": "stderr",
          "text": [
            "[*********************100%%**********************]  1 of 1 completed\n",
            "<ipython-input-63-4d37985907ae>:76: FutureWarning: DataFrame.fillna with 'method' is deprecated and will raise in a future version. Use obj.ffill() or obj.bfill() instead.\n",
            "  df.fillna(method='ffill', inplace=True)  # Forward fill\n",
            "<ipython-input-63-4d37985907ae>:77: FutureWarning: DataFrame.fillna with 'method' is deprecated and will raise in a future version. Use obj.ffill() or obj.bfill() instead.\n",
            "  df.fillna(method='bfill', inplace=True)  # Backward fill\n",
            "[*********************100%%**********************]  1 of 1 completed\n"
          ]
        },
        {
          "output_type": "stream",
          "name": "stdout",
          "text": [
            "Processed and saved cleaned data for HIL.JO to Stocks/HIL.JO.csv\n"
          ]
        },
        {
          "output_type": "stream",
          "name": "stderr",
          "text": [
            "<ipython-input-63-4d37985907ae>:76: FutureWarning: DataFrame.fillna with 'method' is deprecated and will raise in a future version. Use obj.ffill() or obj.bfill() instead.\n",
            "  df.fillna(method='ffill', inplace=True)  # Forward fill\n",
            "<ipython-input-63-4d37985907ae>:77: FutureWarning: DataFrame.fillna with 'method' is deprecated and will raise in a future version. Use obj.ffill() or obj.bfill() instead.\n",
            "  df.fillna(method='bfill', inplace=True)  # Backward fill\n"
          ]
        },
        {
          "output_type": "stream",
          "name": "stdout",
          "text": [
            "Processed and saved cleaned data for HLM.JO to Stocks/HLM.JO.csv\n"
          ]
        },
        {
          "output_type": "stream",
          "name": "stderr",
          "text": [
            "\r[*********************100%%**********************]  1 of 1 completed\n",
            "<ipython-input-63-4d37985907ae>:76: FutureWarning: DataFrame.fillna with 'method' is deprecated and will raise in a future version. Use obj.ffill() or obj.bfill() instead.\n",
            "  df.fillna(method='ffill', inplace=True)  # Forward fill\n",
            "<ipython-input-63-4d37985907ae>:77: FutureWarning: DataFrame.fillna with 'method' is deprecated and will raise in a future version. Use obj.ffill() or obj.bfill() instead.\n",
            "  df.fillna(method='bfill', inplace=True)  # Backward fill\n",
            "[*********************100%%**********************]  1 of 1 completed"
          ]
        },
        {
          "output_type": "stream",
          "name": "stdout",
          "text": [
            "Processed and saved cleaned data for HMN.JO to Stocks/HMN.JO.csv\n"
          ]
        },
        {
          "output_type": "stream",
          "name": "stderr",
          "text": [
            "\n",
            "<ipython-input-63-4d37985907ae>:76: FutureWarning: DataFrame.fillna with 'method' is deprecated and will raise in a future version. Use obj.ffill() or obj.bfill() instead.\n",
            "  df.fillna(method='ffill', inplace=True)  # Forward fill\n",
            "<ipython-input-63-4d37985907ae>:77: FutureWarning: DataFrame.fillna with 'method' is deprecated and will raise in a future version. Use obj.ffill() or obj.bfill() instead.\n",
            "  df.fillna(method='bfill', inplace=True)  # Backward fill\n",
            "[*********************100%%**********************]  1 of 1 completed"
          ]
        },
        {
          "output_type": "stream",
          "name": "stdout",
          "text": [
            "Processed and saved cleaned data for HUG.JO to Stocks/HUG.JO.csv\n"
          ]
        },
        {
          "output_type": "stream",
          "name": "stderr",
          "text": [
            "\n",
            "<ipython-input-63-4d37985907ae>:76: FutureWarning: DataFrame.fillna with 'method' is deprecated and will raise in a future version. Use obj.ffill() or obj.bfill() instead.\n",
            "  df.fillna(method='ffill', inplace=True)  # Forward fill\n",
            "<ipython-input-63-4d37985907ae>:77: FutureWarning: DataFrame.fillna with 'method' is deprecated and will raise in a future version. Use obj.ffill() or obj.bfill() instead.\n",
            "  df.fillna(method='bfill', inplace=True)  # Backward fill\n"
          ]
        },
        {
          "output_type": "stream",
          "name": "stdout",
          "text": [
            "Processed and saved cleaned data for HYP.JO to Stocks/HYP.JO.csv\n"
          ]
        },
        {
          "output_type": "stream",
          "name": "stderr",
          "text": [
            "\r[*********************100%%**********************]  1 of 1 completed\n",
            "<ipython-input-63-4d37985907ae>:76: FutureWarning: DataFrame.fillna with 'method' is deprecated and will raise in a future version. Use obj.ffill() or obj.bfill() instead.\n",
            "  df.fillna(method='ffill', inplace=True)  # Forward fill\n",
            "<ipython-input-63-4d37985907ae>:77: FutureWarning: DataFrame.fillna with 'method' is deprecated and will raise in a future version. Use obj.ffill() or obj.bfill() instead.\n",
            "  df.fillna(method='bfill', inplace=True)  # Backward fill\n"
          ]
        },
        {
          "output_type": "stream",
          "name": "stdout",
          "text": [
            "Processed and saved cleaned data for IMP.JO to Stocks/IMP.JO.csv\n"
          ]
        },
        {
          "output_type": "stream",
          "name": "stderr",
          "text": [
            "\r[*********************100%%**********************]  1 of 1 completed\n",
            "<ipython-input-63-4d37985907ae>:76: FutureWarning: DataFrame.fillna with 'method' is deprecated and will raise in a future version. Use obj.ffill() or obj.bfill() instead.\n",
            "  df.fillna(method='ffill', inplace=True)  # Forward fill\n",
            "<ipython-input-63-4d37985907ae>:77: FutureWarning: DataFrame.fillna with 'method' is deprecated and will raise in a future version. Use obj.ffill() or obj.bfill() instead.\n",
            "  df.fillna(method='bfill', inplace=True)  # Backward fill\n"
          ]
        },
        {
          "output_type": "stream",
          "name": "stdout",
          "text": [
            "Processed and saved cleaned data for INL.JO to Stocks/INL.JO.csv\n"
          ]
        },
        {
          "output_type": "stream",
          "name": "stderr",
          "text": [
            "\r[*********************100%%**********************]  1 of 1 completed\n",
            "<ipython-input-63-4d37985907ae>:76: FutureWarning: DataFrame.fillna with 'method' is deprecated and will raise in a future version. Use obj.ffill() or obj.bfill() instead.\n",
            "  df.fillna(method='ffill', inplace=True)  # Forward fill\n",
            "<ipython-input-63-4d37985907ae>:77: FutureWarning: DataFrame.fillna with 'method' is deprecated and will raise in a future version. Use obj.ffill() or obj.bfill() instead.\n",
            "  df.fillna(method='bfill', inplace=True)  # Backward fill\n"
          ]
        },
        {
          "output_type": "stream",
          "name": "stdout",
          "text": [
            "Processed and saved cleaned data for INP.JO to Stocks/INP.JO.csv\n"
          ]
        },
        {
          "output_type": "stream",
          "name": "stderr",
          "text": [
            "\r[*********************100%%**********************]  1 of 1 completed\n",
            "<ipython-input-63-4d37985907ae>:76: FutureWarning: DataFrame.fillna with 'method' is deprecated and will raise in a future version. Use obj.ffill() or obj.bfill() instead.\n",
            "  df.fillna(method='ffill', inplace=True)  # Forward fill\n",
            "<ipython-input-63-4d37985907ae>:77: FutureWarning: DataFrame.fillna with 'method' is deprecated and will raise in a future version. Use obj.ffill() or obj.bfill() instead.\n",
            "  df.fillna(method='bfill', inplace=True)  # Backward fill\n"
          ]
        },
        {
          "output_type": "stream",
          "name": "stdout",
          "text": [
            "Processed and saved cleaned data for ISA.JO to Stocks/ISA.JO.csv\n"
          ]
        },
        {
          "output_type": "stream",
          "name": "stderr",
          "text": [
            "\r[*********************100%%**********************]  1 of 1 completed\n",
            "<ipython-input-63-4d37985907ae>:76: FutureWarning: DataFrame.fillna with 'method' is deprecated and will raise in a future version. Use obj.ffill() or obj.bfill() instead.\n",
            "  df.fillna(method='ffill', inplace=True)  # Forward fill\n",
            "<ipython-input-63-4d37985907ae>:77: FutureWarning: DataFrame.fillna with 'method' is deprecated and will raise in a future version. Use obj.ffill() or obj.bfill() instead.\n",
            "  df.fillna(method='bfill', inplace=True)  # Backward fill\n"
          ]
        },
        {
          "output_type": "stream",
          "name": "stdout",
          "text": [
            "Processed and saved cleaned data for ISB.JO to Stocks/ISB.JO.csv\n"
          ]
        },
        {
          "output_type": "stream",
          "name": "stderr",
          "text": [
            "\r[*********************100%%**********************]  1 of 1 completed\n",
            "<ipython-input-63-4d37985907ae>:76: FutureWarning: DataFrame.fillna with 'method' is deprecated and will raise in a future version. Use obj.ffill() or obj.bfill() instead.\n",
            "  df.fillna(method='ffill', inplace=True)  # Forward fill\n",
            "<ipython-input-63-4d37985907ae>:77: FutureWarning: DataFrame.fillna with 'method' is deprecated and will raise in a future version. Use obj.ffill() or obj.bfill() instead.\n",
            "  df.fillna(method='bfill', inplace=True)  # Backward fill\n"
          ]
        },
        {
          "output_type": "stream",
          "name": "stdout",
          "text": [
            "Processed and saved cleaned data for ITE.JO to Stocks/ITE.JO.csv\n"
          ]
        },
        {
          "output_type": "stream",
          "name": "stderr",
          "text": [
            "[*********************100%%**********************]  1 of 1 completed\n",
            "<ipython-input-63-4d37985907ae>:76: FutureWarning: DataFrame.fillna with 'method' is deprecated and will raise in a future version. Use obj.ffill() or obj.bfill() instead.\n",
            "  df.fillna(method='ffill', inplace=True)  # Forward fill\n",
            "<ipython-input-63-4d37985907ae>:77: FutureWarning: DataFrame.fillna with 'method' is deprecated and will raise in a future version. Use obj.ffill() or obj.bfill() instead.\n",
            "  df.fillna(method='bfill', inplace=True)  # Backward fill\n",
            "[*********************100%%**********************]  1 of 1 completed\n",
            "<ipython-input-63-4d37985907ae>:76: FutureWarning: DataFrame.fillna with 'method' is deprecated and will raise in a future version. Use obj.ffill() or obj.bfill() instead.\n",
            "  df.fillna(method='ffill', inplace=True)  # Forward fill\n",
            "<ipython-input-63-4d37985907ae>:77: FutureWarning: DataFrame.fillna with 'method' is deprecated and will raise in a future version. Use obj.ffill() or obj.bfill() instead.\n",
            "  df.fillna(method='bfill', inplace=True)  # Backward fill\n"
          ]
        },
        {
          "output_type": "stream",
          "name": "stdout",
          "text": [
            "Processed and saved cleaned data for IVT.JO to Stocks/IVT.JO.csv\n",
            "Processed and saved cleaned data for JBL.JO to Stocks/JBL.JO.csv\n"
          ]
        },
        {
          "output_type": "stream",
          "name": "stderr",
          "text": [
            "\r[*********************100%%**********************]  1 of 1 completed\n",
            "<ipython-input-63-4d37985907ae>:76: FutureWarning: DataFrame.fillna with 'method' is deprecated and will raise in a future version. Use obj.ffill() or obj.bfill() instead.\n",
            "  df.fillna(method='ffill', inplace=True)  # Forward fill\n",
            "<ipython-input-63-4d37985907ae>:77: FutureWarning: DataFrame.fillna with 'method' is deprecated and will raise in a future version. Use obj.ffill() or obj.bfill() instead.\n",
            "  df.fillna(method='bfill', inplace=True)  # Backward fill\n",
            "[*********************100%%**********************]  1 of 1 completed"
          ]
        },
        {
          "output_type": "stream",
          "name": "stdout",
          "text": [
            "Processed and saved cleaned data for JSE.JO to Stocks/JSE.JO.csv\n"
          ]
        },
        {
          "output_type": "stream",
          "name": "stderr",
          "text": [
            "\n",
            "<ipython-input-63-4d37985907ae>:76: FutureWarning: DataFrame.fillna with 'method' is deprecated and will raise in a future version. Use obj.ffill() or obj.bfill() instead.\n",
            "  df.fillna(method='ffill', inplace=True)  # Forward fill\n",
            "<ipython-input-63-4d37985907ae>:77: FutureWarning: DataFrame.fillna with 'method' is deprecated and will raise in a future version. Use obj.ffill() or obj.bfill() instead.\n",
            "  df.fillna(method='bfill', inplace=True)  # Backward fill\n",
            "[*********************100%%**********************]  1 of 1 completed"
          ]
        },
        {
          "output_type": "stream",
          "name": "stdout",
          "text": [
            "Processed and saved cleaned data for KAL.JO to Stocks/KAL.JO.csv\n"
          ]
        },
        {
          "output_type": "stream",
          "name": "stderr",
          "text": [
            "\n",
            "<ipython-input-63-4d37985907ae>:76: FutureWarning: DataFrame.fillna with 'method' is deprecated and will raise in a future version. Use obj.ffill() or obj.bfill() instead.\n",
            "  df.fillna(method='ffill', inplace=True)  # Forward fill\n",
            "<ipython-input-63-4d37985907ae>:77: FutureWarning: DataFrame.fillna with 'method' is deprecated and will raise in a future version. Use obj.ffill() or obj.bfill() instead.\n",
            "  df.fillna(method='bfill', inplace=True)  # Backward fill\n",
            "[*********************100%%**********************]  1 of 1 completed"
          ]
        },
        {
          "output_type": "stream",
          "name": "stdout",
          "text": [
            "Processed and saved cleaned data for KAP.JO to Stocks/KAP.JO.csv\n"
          ]
        },
        {
          "output_type": "stream",
          "name": "stderr",
          "text": [
            "\n",
            "<ipython-input-63-4d37985907ae>:76: FutureWarning: DataFrame.fillna with 'method' is deprecated and will raise in a future version. Use obj.ffill() or obj.bfill() instead.\n",
            "  df.fillna(method='ffill', inplace=True)  # Forward fill\n",
            "<ipython-input-63-4d37985907ae>:77: FutureWarning: DataFrame.fillna with 'method' is deprecated and will raise in a future version. Use obj.ffill() or obj.bfill() instead.\n",
            "  df.fillna(method='bfill', inplace=True)  # Backward fill\n"
          ]
        },
        {
          "output_type": "stream",
          "name": "stdout",
          "text": [
            "Processed and saved cleaned data for KBO.JO to Stocks/KBO.JO.csv\n"
          ]
        },
        {
          "output_type": "stream",
          "name": "stderr",
          "text": [
            "\r[*********************100%%**********************]  1 of 1 completed\n",
            "<ipython-input-63-4d37985907ae>:76: FutureWarning: DataFrame.fillna with 'method' is deprecated and will raise in a future version. Use obj.ffill() or obj.bfill() instead.\n",
            "  df.fillna(method='ffill', inplace=True)  # Forward fill\n",
            "<ipython-input-63-4d37985907ae>:77: FutureWarning: DataFrame.fillna with 'method' is deprecated and will raise in a future version. Use obj.ffill() or obj.bfill() instead.\n",
            "  df.fillna(method='bfill', inplace=True)  # Backward fill\n"
          ]
        },
        {
          "output_type": "stream",
          "name": "stdout",
          "text": [
            "Processed and saved cleaned data for KIO.JO to Stocks/KIO.JO.csv\n"
          ]
        },
        {
          "output_type": "stream",
          "name": "stderr",
          "text": [
            "[*********************100%%**********************]  1 of 1 completed\n",
            "<ipython-input-63-4d37985907ae>:76: FutureWarning: DataFrame.fillna with 'method' is deprecated and will raise in a future version. Use obj.ffill() or obj.bfill() instead.\n",
            "  df.fillna(method='ffill', inplace=True)  # Forward fill\n",
            "<ipython-input-63-4d37985907ae>:77: FutureWarning: DataFrame.fillna with 'method' is deprecated and will raise in a future version. Use obj.ffill() or obj.bfill() instead.\n",
            "  df.fillna(method='bfill', inplace=True)  # Backward fill\n",
            "[*********************100%%**********************]  1 of 1 completed\n",
            "<ipython-input-63-4d37985907ae>:76: FutureWarning: DataFrame.fillna with 'method' is deprecated and will raise in a future version. Use obj.ffill() or obj.bfill() instead.\n",
            "  df.fillna(method='ffill', inplace=True)  # Forward fill\n",
            "<ipython-input-63-4d37985907ae>:77: FutureWarning: DataFrame.fillna with 'method' is deprecated and will raise in a future version. Use obj.ffill() or obj.bfill() instead.\n",
            "  df.fillna(method='bfill', inplace=True)  # Backward fill\n"
          ]
        },
        {
          "output_type": "stream",
          "name": "stdout",
          "text": [
            "Processed and saved cleaned data for KP2.JO to Stocks/KP2.JO.csv\n",
            "Processed and saved cleaned data for KRO.JO to Stocks/KRO.JO.csv\n"
          ]
        },
        {
          "output_type": "stream",
          "name": "stderr",
          "text": [
            "\r[*********************100%%**********************]  1 of 1 completed\n",
            "<ipython-input-63-4d37985907ae>:76: FutureWarning: DataFrame.fillna with 'method' is deprecated and will raise in a future version. Use obj.ffill() or obj.bfill() instead.\n",
            "  df.fillna(method='ffill', inplace=True)  # Forward fill\n",
            "<ipython-input-63-4d37985907ae>:77: FutureWarning: DataFrame.fillna with 'method' is deprecated and will raise in a future version. Use obj.ffill() or obj.bfill() instead.\n",
            "  df.fillna(method='bfill', inplace=True)  # Backward fill\n"
          ]
        },
        {
          "output_type": "stream",
          "name": "stdout",
          "text": [
            "Processed and saved cleaned data for KST.JO to Stocks/KST.JO.csv\n"
          ]
        },
        {
          "output_type": "stream",
          "name": "stderr",
          "text": [
            "\r[*********************100%%**********************]  1 of 1 completed\n",
            "<ipython-input-63-4d37985907ae>:76: FutureWarning: DataFrame.fillna with 'method' is deprecated and will raise in a future version. Use obj.ffill() or obj.bfill() instead.\n",
            "  df.fillna(method='ffill', inplace=True)  # Forward fill\n",
            "<ipython-input-63-4d37985907ae>:77: FutureWarning: DataFrame.fillna with 'method' is deprecated and will raise in a future version. Use obj.ffill() or obj.bfill() instead.\n",
            "  df.fillna(method='bfill', inplace=True)  # Backward fill\n"
          ]
        },
        {
          "output_type": "stream",
          "name": "stdout",
          "text": [
            "Processed and saved cleaned data for LAB.JO to Stocks/LAB.JO.csv\n"
          ]
        },
        {
          "output_type": "stream",
          "name": "stderr",
          "text": [
            "\r[*********************100%%**********************]  1 of 1 completed\n",
            "<ipython-input-63-4d37985907ae>:76: FutureWarning: DataFrame.fillna with 'method' is deprecated and will raise in a future version. Use obj.ffill() or obj.bfill() instead.\n",
            "  df.fillna(method='ffill', inplace=True)  # Forward fill\n",
            "<ipython-input-63-4d37985907ae>:77: FutureWarning: DataFrame.fillna with 'method' is deprecated and will raise in a future version. Use obj.ffill() or obj.bfill() instead.\n",
            "  df.fillna(method='bfill', inplace=True)  # Backward fill\n"
          ]
        },
        {
          "output_type": "stream",
          "name": "stdout",
          "text": [
            "Processed and saved cleaned data for LBR.JO to Stocks/LBR.JO.csv\n"
          ]
        },
        {
          "output_type": "stream",
          "name": "stderr",
          "text": [
            "\r[*********************100%%**********************]  1 of 1 completed\n",
            "<ipython-input-63-4d37985907ae>:76: FutureWarning: DataFrame.fillna with 'method' is deprecated and will raise in a future version. Use obj.ffill() or obj.bfill() instead.\n",
            "  df.fillna(method='ffill', inplace=True)  # Forward fill\n",
            "<ipython-input-63-4d37985907ae>:77: FutureWarning: DataFrame.fillna with 'method' is deprecated and will raise in a future version. Use obj.ffill() or obj.bfill() instead.\n",
            "  df.fillna(method='bfill', inplace=True)  # Backward fill\n"
          ]
        },
        {
          "output_type": "stream",
          "name": "stdout",
          "text": [
            "Processed and saved cleaned data for LEW.JO to Stocks/LEW.JO.csv\n"
          ]
        },
        {
          "output_type": "stream",
          "name": "stderr",
          "text": [
            "\r[*********************100%%**********************]  1 of 1 completed\n",
            "<ipython-input-63-4d37985907ae>:76: FutureWarning: DataFrame.fillna with 'method' is deprecated and will raise in a future version. Use obj.ffill() or obj.bfill() instead.\n",
            "  df.fillna(method='ffill', inplace=True)  # Forward fill\n",
            "<ipython-input-63-4d37985907ae>:77: FutureWarning: DataFrame.fillna with 'method' is deprecated and will raise in a future version. Use obj.ffill() or obj.bfill() instead.\n",
            "  df.fillna(method='bfill', inplace=True)  # Backward fill\n"
          ]
        },
        {
          "output_type": "stream",
          "name": "stdout",
          "text": [
            "Processed and saved cleaned data for LHC.JO to Stocks/LHC.JO.csv\n"
          ]
        },
        {
          "output_type": "stream",
          "name": "stderr",
          "text": [
            "\r[*********************100%%**********************]  1 of 1 completed\n",
            "<ipython-input-63-4d37985907ae>:76: FutureWarning: DataFrame.fillna with 'method' is deprecated and will raise in a future version. Use obj.ffill() or obj.bfill() instead.\n",
            "  df.fillna(method='ffill', inplace=True)  # Forward fill\n",
            "<ipython-input-63-4d37985907ae>:77: FutureWarning: DataFrame.fillna with 'method' is deprecated and will raise in a future version. Use obj.ffill() or obj.bfill() instead.\n",
            "  df.fillna(method='bfill', inplace=True)  # Backward fill\n"
          ]
        },
        {
          "output_type": "stream",
          "name": "stdout",
          "text": [
            "Processed and saved cleaned data for LSK.JO to Stocks/LSK.JO.csv\n"
          ]
        },
        {
          "output_type": "stream",
          "name": "stderr",
          "text": [
            "\r[*********************100%%**********************]  1 of 1 completed\n",
            "<ipython-input-63-4d37985907ae>:76: FutureWarning: DataFrame.fillna with 'method' is deprecated and will raise in a future version. Use obj.ffill() or obj.bfill() instead.\n",
            "  df.fillna(method='ffill', inplace=True)  # Forward fill\n",
            "<ipython-input-63-4d37985907ae>:77: FutureWarning: DataFrame.fillna with 'method' is deprecated and will raise in a future version. Use obj.ffill() or obj.bfill() instead.\n",
            "  df.fillna(method='bfill', inplace=True)  # Backward fill\n"
          ]
        },
        {
          "output_type": "stream",
          "name": "stdout",
          "text": [
            "Processed and saved cleaned data for LTE.JO to Stocks/LTE.JO.csv\n"
          ]
        },
        {
          "output_type": "stream",
          "name": "stderr",
          "text": [
            "\r[*********************100%%**********************]  1 of 1 completed\n",
            "ERROR:yfinance:\n",
            "1 Failed download:\n",
            "ERROR:yfinance:['LUX.JO']: YFTzMissingError('$%ticker%: possibly delisted; No timezone found')\n",
            "<ipython-input-63-4d37985907ae>:76: FutureWarning: DataFrame.fillna with 'method' is deprecated and will raise in a future version. Use obj.ffill() or obj.bfill() instead.\n",
            "  df.fillna(method='ffill', inplace=True)  # Forward fill\n",
            "<ipython-input-63-4d37985907ae>:77: FutureWarning: DataFrame.fillna with 'method' is deprecated and will raise in a future version. Use obj.ffill() or obj.bfill() instead.\n",
            "  df.fillna(method='bfill', inplace=True)  # Backward fill\n"
          ]
        },
        {
          "output_type": "stream",
          "name": "stdout",
          "text": [
            "Processed and saved cleaned data for LUX.JO to Stocks/LUX.JO.csv\n"
          ]
        },
        {
          "output_type": "stream",
          "name": "stderr",
          "text": [
            "\r[*********************100%%**********************]  1 of 1 completed\n",
            "<ipython-input-63-4d37985907ae>:76: FutureWarning: DataFrame.fillna with 'method' is deprecated and will raise in a future version. Use obj.ffill() or obj.bfill() instead.\n",
            "  df.fillna(method='ffill', inplace=True)  # Forward fill\n",
            "<ipython-input-63-4d37985907ae>:77: FutureWarning: DataFrame.fillna with 'method' is deprecated and will raise in a future version. Use obj.ffill() or obj.bfill() instead.\n",
            "  df.fillna(method='bfill', inplace=True)  # Backward fill\n",
            "[*********************100%%**********************]  1 of 1 completed"
          ]
        },
        {
          "output_type": "stream",
          "name": "stdout",
          "text": [
            "Processed and saved cleaned data for MCG.JO to Stocks/MCG.JO.csv\n"
          ]
        },
        {
          "output_type": "stream",
          "name": "stderr",
          "text": [
            "\n",
            "<ipython-input-63-4d37985907ae>:76: FutureWarning: DataFrame.fillna with 'method' is deprecated and will raise in a future version. Use obj.ffill() or obj.bfill() instead.\n",
            "  df.fillna(method='ffill', inplace=True)  # Forward fill\n",
            "<ipython-input-63-4d37985907ae>:77: FutureWarning: DataFrame.fillna with 'method' is deprecated and will raise in a future version. Use obj.ffill() or obj.bfill() instead.\n",
            "  df.fillna(method='bfill', inplace=True)  # Backward fill\n",
            "[*********************100%%**********************]  1 of 1 completed\n"
          ]
        },
        {
          "output_type": "stream",
          "name": "stdout",
          "text": [
            "Processed and saved cleaned data for MCZ.JO to Stocks/MCZ.JO.csv\n"
          ]
        },
        {
          "output_type": "stream",
          "name": "stderr",
          "text": [
            "<ipython-input-63-4d37985907ae>:76: FutureWarning: DataFrame.fillna with 'method' is deprecated and will raise in a future version. Use obj.ffill() or obj.bfill() instead.\n",
            "  df.fillna(method='ffill', inplace=True)  # Forward fill\n",
            "<ipython-input-63-4d37985907ae>:77: FutureWarning: DataFrame.fillna with 'method' is deprecated and will raise in a future version. Use obj.ffill() or obj.bfill() instead.\n",
            "  df.fillna(method='bfill', inplace=True)  # Backward fill\n"
          ]
        },
        {
          "output_type": "stream",
          "name": "stdout",
          "text": [
            "Processed and saved cleaned data for MDI.JO to Stocks/MDI.JO.csv\n"
          ]
        },
        {
          "output_type": "stream",
          "name": "stderr",
          "text": [
            "\r[*********************100%%**********************]  1 of 1 completed\n",
            "<ipython-input-63-4d37985907ae>:76: FutureWarning: DataFrame.fillna with 'method' is deprecated and will raise in a future version. Use obj.ffill() or obj.bfill() instead.\n",
            "  df.fillna(method='ffill', inplace=True)  # Forward fill\n",
            "<ipython-input-63-4d37985907ae>:77: FutureWarning: DataFrame.fillna with 'method' is deprecated and will raise in a future version. Use obj.ffill() or obj.bfill() instead.\n",
            "  df.fillna(method='bfill', inplace=True)  # Backward fill\n"
          ]
        },
        {
          "output_type": "stream",
          "name": "stdout",
          "text": [
            "Processed and saved cleaned data for MFL.JO to Stocks/MFL.JO.csv\n"
          ]
        },
        {
          "output_type": "stream",
          "name": "stderr",
          "text": [
            "\r[*********************100%%**********************]  1 of 1 completed\n",
            "<ipython-input-63-4d37985907ae>:76: FutureWarning: DataFrame.fillna with 'method' is deprecated and will raise in a future version. Use obj.ffill() or obj.bfill() instead.\n",
            "  df.fillna(method='ffill', inplace=True)  # Forward fill\n",
            "<ipython-input-63-4d37985907ae>:77: FutureWarning: DataFrame.fillna with 'method' is deprecated and will raise in a future version. Use obj.ffill() or obj.bfill() instead.\n",
            "  df.fillna(method='bfill', inplace=True)  # Backward fill\n"
          ]
        },
        {
          "output_type": "stream",
          "name": "stdout",
          "text": [
            "Processed and saved cleaned data for MHB.JO to Stocks/MHB.JO.csv\n"
          ]
        },
        {
          "output_type": "stream",
          "name": "stderr",
          "text": [
            "\r[*********************100%%**********************]  1 of 1 completed\n",
            "<ipython-input-63-4d37985907ae>:76: FutureWarning: DataFrame.fillna with 'method' is deprecated and will raise in a future version. Use obj.ffill() or obj.bfill() instead.\n",
            "  df.fillna(method='ffill', inplace=True)  # Forward fill\n",
            "<ipython-input-63-4d37985907ae>:77: FutureWarning: DataFrame.fillna with 'method' is deprecated and will raise in a future version. Use obj.ffill() or obj.bfill() instead.\n",
            "  df.fillna(method='bfill', inplace=True)  # Backward fill\n"
          ]
        },
        {
          "output_type": "stream",
          "name": "stdout",
          "text": [
            "Processed and saved cleaned data for MKR.JO to Stocks/MKR.JO.csv\n"
          ]
        },
        {
          "output_type": "stream",
          "name": "stderr",
          "text": [
            "\r[*********************100%%**********************]  1 of 1 completed\n",
            "<ipython-input-63-4d37985907ae>:76: FutureWarning: DataFrame.fillna with 'method' is deprecated and will raise in a future version. Use obj.ffill() or obj.bfill() instead.\n",
            "  df.fillna(method='ffill', inplace=True)  # Forward fill\n",
            "<ipython-input-63-4d37985907ae>:77: FutureWarning: DataFrame.fillna with 'method' is deprecated and will raise in a future version. Use obj.ffill() or obj.bfill() instead.\n",
            "  df.fillna(method='bfill', inplace=True)  # Backward fill\n"
          ]
        },
        {
          "output_type": "stream",
          "name": "stdout",
          "text": [
            "Processed and saved cleaned data for MMP.JO to Stocks/MMP.JO.csv\n"
          ]
        },
        {
          "output_type": "stream",
          "name": "stderr",
          "text": [
            "\r[*********************100%%**********************]  1 of 1 completed\n",
            "<ipython-input-63-4d37985907ae>:76: FutureWarning: DataFrame.fillna with 'method' is deprecated and will raise in a future version. Use obj.ffill() or obj.bfill() instead.\n",
            "  df.fillna(method='ffill', inplace=True)  # Forward fill\n",
            "<ipython-input-63-4d37985907ae>:77: FutureWarning: DataFrame.fillna with 'method' is deprecated and will raise in a future version. Use obj.ffill() or obj.bfill() instead.\n",
            "  df.fillna(method='bfill', inplace=True)  # Backward fill\n"
          ]
        },
        {
          "output_type": "stream",
          "name": "stdout",
          "text": [
            "Processed and saved cleaned data for MNP.JO to Stocks/MNP.JO.csv\n"
          ]
        },
        {
          "output_type": "stream",
          "name": "stderr",
          "text": [
            "\r[*********************100%%**********************]  1 of 1 completed\n",
            "<ipython-input-63-4d37985907ae>:76: FutureWarning: DataFrame.fillna with 'method' is deprecated and will raise in a future version. Use obj.ffill() or obj.bfill() instead.\n",
            "  df.fillna(method='ffill', inplace=True)  # Forward fill\n",
            "<ipython-input-63-4d37985907ae>:77: FutureWarning: DataFrame.fillna with 'method' is deprecated and will raise in a future version. Use obj.ffill() or obj.bfill() instead.\n",
            "  df.fillna(method='bfill', inplace=True)  # Backward fill\n"
          ]
        },
        {
          "output_type": "stream",
          "name": "stdout",
          "text": [
            "Processed and saved cleaned data for MPT.JO to Stocks/MPT.JO.csv\n"
          ]
        },
        {
          "output_type": "stream",
          "name": "stderr",
          "text": [
            "\r[*********************100%%**********************]  1 of 1 completed\n",
            "<ipython-input-63-4d37985907ae>:76: FutureWarning: DataFrame.fillna with 'method' is deprecated and will raise in a future version. Use obj.ffill() or obj.bfill() instead.\n",
            "  df.fillna(method='ffill', inplace=True)  # Forward fill\n",
            "<ipython-input-63-4d37985907ae>:77: FutureWarning: DataFrame.fillna with 'method' is deprecated and will raise in a future version. Use obj.ffill() or obj.bfill() instead.\n",
            "  df.fillna(method='bfill', inplace=True)  # Backward fill\n"
          ]
        },
        {
          "output_type": "stream",
          "name": "stdout",
          "text": [
            "Processed and saved cleaned data for MRF.JO to Stocks/MRF.JO.csv\n"
          ]
        },
        {
          "output_type": "stream",
          "name": "stderr",
          "text": [
            "\r[*********************100%%**********************]  1 of 1 completed\n",
            "<ipython-input-63-4d37985907ae>:76: FutureWarning: DataFrame.fillna with 'method' is deprecated and will raise in a future version. Use obj.ffill() or obj.bfill() instead.\n",
            "  df.fillna(method='ffill', inplace=True)  # Forward fill\n",
            "<ipython-input-63-4d37985907ae>:77: FutureWarning: DataFrame.fillna with 'method' is deprecated and will raise in a future version. Use obj.ffill() or obj.bfill() instead.\n",
            "  df.fillna(method='bfill', inplace=True)  # Backward fill\n"
          ]
        },
        {
          "output_type": "stream",
          "name": "stdout",
          "text": [
            "Processed and saved cleaned data for MRP.JO to Stocks/MRP.JO.csv\n"
          ]
        },
        {
          "output_type": "stream",
          "name": "stderr",
          "text": [
            "\r[*********************100%%**********************]  1 of 1 completed\n",
            "<ipython-input-63-4d37985907ae>:76: FutureWarning: DataFrame.fillna with 'method' is deprecated and will raise in a future version. Use obj.ffill() or obj.bfill() instead.\n",
            "  df.fillna(method='ffill', inplace=True)  # Forward fill\n",
            "<ipython-input-63-4d37985907ae>:77: FutureWarning: DataFrame.fillna with 'method' is deprecated and will raise in a future version. Use obj.ffill() or obj.bfill() instead.\n",
            "  df.fillna(method='bfill', inplace=True)  # Backward fill\n"
          ]
        },
        {
          "output_type": "stream",
          "name": "stdout",
          "text": [
            "Processed and saved cleaned data for MSP.JO to Stocks/MSP.JO.csv\n"
          ]
        },
        {
          "output_type": "stream",
          "name": "stderr",
          "text": [
            "\r[*********************100%%**********************]  1 of 1 completed\n",
            "<ipython-input-63-4d37985907ae>:76: FutureWarning: DataFrame.fillna with 'method' is deprecated and will raise in a future version. Use obj.ffill() or obj.bfill() instead.\n",
            "  df.fillna(method='ffill', inplace=True)  # Forward fill\n",
            "<ipython-input-63-4d37985907ae>:77: FutureWarning: DataFrame.fillna with 'method' is deprecated and will raise in a future version. Use obj.ffill() or obj.bfill() instead.\n",
            "  df.fillna(method='bfill', inplace=True)  # Backward fill\n"
          ]
        },
        {
          "output_type": "stream",
          "name": "stdout",
          "text": [
            "Processed and saved cleaned data for MST.JO to Stocks/MST.JO.csv\n"
          ]
        },
        {
          "output_type": "stream",
          "name": "stderr",
          "text": [
            "\r[*********************100%%**********************]  1 of 1 completed\n",
            "<ipython-input-63-4d37985907ae>:76: FutureWarning: DataFrame.fillna with 'method' is deprecated and will raise in a future version. Use obj.ffill() or obj.bfill() instead.\n",
            "  df.fillna(method='ffill', inplace=True)  # Forward fill\n",
            "<ipython-input-63-4d37985907ae>:77: FutureWarning: DataFrame.fillna with 'method' is deprecated and will raise in a future version. Use obj.ffill() or obj.bfill() instead.\n",
            "  df.fillna(method='bfill', inplace=True)  # Backward fill\n"
          ]
        },
        {
          "output_type": "stream",
          "name": "stdout",
          "text": [
            "Processed and saved cleaned data for MTA.JO to Stocks/MTA.JO.csv\n"
          ]
        },
        {
          "output_type": "stream",
          "name": "stderr",
          "text": [
            "\r[*********************100%%**********************]  1 of 1 completed\n",
            "<ipython-input-63-4d37985907ae>:76: FutureWarning: DataFrame.fillna with 'method' is deprecated and will raise in a future version. Use obj.ffill() or obj.bfill() instead.\n",
            "  df.fillna(method='ffill', inplace=True)  # Forward fill\n",
            "<ipython-input-63-4d37985907ae>:77: FutureWarning: DataFrame.fillna with 'method' is deprecated and will raise in a future version. Use obj.ffill() or obj.bfill() instead.\n",
            "  df.fillna(method='bfill', inplace=True)  # Backward fill\n"
          ]
        },
        {
          "output_type": "stream",
          "name": "stdout",
          "text": [
            "Processed and saved cleaned data for MTH.JO to Stocks/MTH.JO.csv\n"
          ]
        },
        {
          "output_type": "stream",
          "name": "stderr",
          "text": [
            "\r[*********************100%%**********************]  1 of 1 completed\n",
            "<ipython-input-63-4d37985907ae>:76: FutureWarning: DataFrame.fillna with 'method' is deprecated and will raise in a future version. Use obj.ffill() or obj.bfill() instead.\n",
            "  df.fillna(method='ffill', inplace=True)  # Forward fill\n",
            "<ipython-input-63-4d37985907ae>:77: FutureWarning: DataFrame.fillna with 'method' is deprecated and will raise in a future version. Use obj.ffill() or obj.bfill() instead.\n",
            "  df.fillna(method='bfill', inplace=True)  # Backward fill\n"
          ]
        },
        {
          "output_type": "stream",
          "name": "stdout",
          "text": [
            "Processed and saved cleaned data for MTM.JO to Stocks/MTM.JO.csv\n"
          ]
        },
        {
          "output_type": "stream",
          "name": "stderr",
          "text": [
            "\r[*********************100%%**********************]  1 of 1 completed\n",
            "<ipython-input-63-4d37985907ae>:76: FutureWarning: DataFrame.fillna with 'method' is deprecated and will raise in a future version. Use obj.ffill() or obj.bfill() instead.\n",
            "  df.fillna(method='ffill', inplace=True)  # Forward fill\n",
            "<ipython-input-63-4d37985907ae>:77: FutureWarning: DataFrame.fillna with 'method' is deprecated and will raise in a future version. Use obj.ffill() or obj.bfill() instead.\n",
            "  df.fillna(method='bfill', inplace=True)  # Backward fill\n",
            "[*********************100%%**********************]  1 of 1 completed"
          ]
        },
        {
          "output_type": "stream",
          "name": "stdout",
          "text": [
            "Processed and saved cleaned data for MTN.JO to Stocks/MTN.JO.csv\n"
          ]
        },
        {
          "output_type": "stream",
          "name": "stderr",
          "text": [
            "\n",
            "<ipython-input-63-4d37985907ae>:76: FutureWarning: DataFrame.fillna with 'method' is deprecated and will raise in a future version. Use obj.ffill() or obj.bfill() instead.\n",
            "  df.fillna(method='ffill', inplace=True)  # Forward fill\n",
            "<ipython-input-63-4d37985907ae>:77: FutureWarning: DataFrame.fillna with 'method' is deprecated and will raise in a future version. Use obj.ffill() or obj.bfill() instead.\n",
            "  df.fillna(method='bfill', inplace=True)  # Backward fill\n"
          ]
        },
        {
          "output_type": "stream",
          "name": "stdout",
          "text": [
            "Processed and saved cleaned data for MTU.JO to Stocks/MTU.JO.csv\n"
          ]
        },
        {
          "output_type": "stream",
          "name": "stderr",
          "text": [
            "\r[*********************100%%**********************]  1 of 1 completed\n",
            "<ipython-input-63-4d37985907ae>:76: FutureWarning: DataFrame.fillna with 'method' is deprecated and will raise in a future version. Use obj.ffill() or obj.bfill() instead.\n",
            "  df.fillna(method='ffill', inplace=True)  # Forward fill\n",
            "<ipython-input-63-4d37985907ae>:77: FutureWarning: DataFrame.fillna with 'method' is deprecated and will raise in a future version. Use obj.ffill() or obj.bfill() instead.\n",
            "  df.fillna(method='bfill', inplace=True)  # Backward fill\n"
          ]
        },
        {
          "output_type": "stream",
          "name": "stdout",
          "text": [
            "Processed and saved cleaned data for MUR.JO to Stocks/MUR.JO.csv\n"
          ]
        },
        {
          "output_type": "stream",
          "name": "stderr",
          "text": [
            "\r[*********************100%%**********************]  1 of 1 completed\n",
            "<ipython-input-63-4d37985907ae>:76: FutureWarning: DataFrame.fillna with 'method' is deprecated and will raise in a future version. Use obj.ffill() or obj.bfill() instead.\n",
            "  df.fillna(method='ffill', inplace=True)  # Forward fill\n",
            "<ipython-input-63-4d37985907ae>:77: FutureWarning: DataFrame.fillna with 'method' is deprecated and will raise in a future version. Use obj.ffill() or obj.bfill() instead.\n",
            "  df.fillna(method='bfill', inplace=True)  # Backward fill\n"
          ]
        },
        {
          "output_type": "stream",
          "name": "stdout",
          "text": [
            "Processed and saved cleaned data for N91.JO to Stocks/N91.JO.csv\n"
          ]
        },
        {
          "output_type": "stream",
          "name": "stderr",
          "text": [
            "\r[*********************100%%**********************]  1 of 1 completed\n",
            "<ipython-input-63-4d37985907ae>:76: FutureWarning: DataFrame.fillna with 'method' is deprecated and will raise in a future version. Use obj.ffill() or obj.bfill() instead.\n",
            "  df.fillna(method='ffill', inplace=True)  # Forward fill\n",
            "<ipython-input-63-4d37985907ae>:77: FutureWarning: DataFrame.fillna with 'method' is deprecated and will raise in a future version. Use obj.ffill() or obj.bfill() instead.\n",
            "  df.fillna(method='bfill', inplace=True)  # Backward fill\n"
          ]
        },
        {
          "output_type": "stream",
          "name": "stdout",
          "text": [
            "Processed and saved cleaned data for NCS.JO to Stocks/NCS.JO.csv\n"
          ]
        },
        {
          "output_type": "stream",
          "name": "stderr",
          "text": [
            "\r[*********************100%%**********************]  1 of 1 completed\n",
            "<ipython-input-63-4d37985907ae>:76: FutureWarning: DataFrame.fillna with 'method' is deprecated and will raise in a future version. Use obj.ffill() or obj.bfill() instead.\n",
            "  df.fillna(method='ffill', inplace=True)  # Forward fill\n",
            "<ipython-input-63-4d37985907ae>:77: FutureWarning: DataFrame.fillna with 'method' is deprecated and will raise in a future version. Use obj.ffill() or obj.bfill() instead.\n",
            "  df.fillna(method='bfill', inplace=True)  # Backward fill\n"
          ]
        },
        {
          "output_type": "stream",
          "name": "stdout",
          "text": [
            "Processed and saved cleaned data for NED.JO to Stocks/NED.JO.csv\n"
          ]
        },
        {
          "output_type": "stream",
          "name": "stderr",
          "text": [
            "\r[*********************100%%**********************]  1 of 1 completed\n",
            "<ipython-input-63-4d37985907ae>:76: FutureWarning: DataFrame.fillna with 'method' is deprecated and will raise in a future version. Use obj.ffill() or obj.bfill() instead.\n",
            "  df.fillna(method='ffill', inplace=True)  # Forward fill\n",
            "<ipython-input-63-4d37985907ae>:77: FutureWarning: DataFrame.fillna with 'method' is deprecated and will raise in a future version. Use obj.ffill() or obj.bfill() instead.\n",
            "  df.fillna(method='bfill', inplace=True)  # Backward fill\n"
          ]
        },
        {
          "output_type": "stream",
          "name": "stdout",
          "text": [
            "Processed and saved cleaned data for NPH.JO to Stocks/NPH.JO.csv\n"
          ]
        },
        {
          "output_type": "stream",
          "name": "stderr",
          "text": [
            "\r[*********************100%%**********************]  1 of 1 completed\n",
            "<ipython-input-63-4d37985907ae>:76: FutureWarning: DataFrame.fillna with 'method' is deprecated and will raise in a future version. Use obj.ffill() or obj.bfill() instead.\n",
            "  df.fillna(method='ffill', inplace=True)  # Forward fill\n",
            "<ipython-input-63-4d37985907ae>:77: FutureWarning: DataFrame.fillna with 'method' is deprecated and will raise in a future version. Use obj.ffill() or obj.bfill() instead.\n",
            "  df.fillna(method='bfill', inplace=True)  # Backward fill\n"
          ]
        },
        {
          "output_type": "stream",
          "name": "stdout",
          "text": [
            "Processed and saved cleaned data for NPK.JO to Stocks/NPK.JO.csv\n"
          ]
        },
        {
          "output_type": "stream",
          "name": "stderr",
          "text": [
            "\r[*********************100%%**********************]  1 of 1 completed\n",
            "<ipython-input-63-4d37985907ae>:76: FutureWarning: DataFrame.fillna with 'method' is deprecated and will raise in a future version. Use obj.ffill() or obj.bfill() instead.\n",
            "  df.fillna(method='ffill', inplace=True)  # Forward fill\n",
            "<ipython-input-63-4d37985907ae>:77: FutureWarning: DataFrame.fillna with 'method' is deprecated and will raise in a future version. Use obj.ffill() or obj.bfill() instead.\n",
            "  df.fillna(method='bfill', inplace=True)  # Backward fill\n"
          ]
        },
        {
          "output_type": "stream",
          "name": "stdout",
          "text": [
            "Processed and saved cleaned data for NPN.JO to Stocks/NPN.JO.csv\n"
          ]
        },
        {
          "output_type": "stream",
          "name": "stderr",
          "text": [
            "\r[*********************100%%**********************]  1 of 1 completed\n",
            "<ipython-input-63-4d37985907ae>:76: FutureWarning: DataFrame.fillna with 'method' is deprecated and will raise in a future version. Use obj.ffill() or obj.bfill() instead.\n",
            "  df.fillna(method='ffill', inplace=True)  # Forward fill\n",
            "<ipython-input-63-4d37985907ae>:77: FutureWarning: DataFrame.fillna with 'method' is deprecated and will raise in a future version. Use obj.ffill() or obj.bfill() instead.\n",
            "  df.fillna(method='bfill', inplace=True)  # Backward fill\n"
          ]
        },
        {
          "output_type": "stream",
          "name": "stdout",
          "text": [
            "Processed and saved cleaned data for NRP.JO to Stocks/NRP.JO.csv\n"
          ]
        },
        {
          "output_type": "stream",
          "name": "stderr",
          "text": [
            "\r[*********************100%%**********************]  1 of 1 completed\n",
            "<ipython-input-63-4d37985907ae>:76: FutureWarning: DataFrame.fillna with 'method' is deprecated and will raise in a future version. Use obj.ffill() or obj.bfill() instead.\n",
            "  df.fillna(method='ffill', inplace=True)  # Forward fill\n",
            "<ipython-input-63-4d37985907ae>:77: FutureWarning: DataFrame.fillna with 'method' is deprecated and will raise in a future version. Use obj.ffill() or obj.bfill() instead.\n",
            "  df.fillna(method='bfill', inplace=True)  # Backward fill\n"
          ]
        },
        {
          "output_type": "stream",
          "name": "stdout",
          "text": [
            "Processed and saved cleaned data for NTC.JO to Stocks/NTC.JO.csv\n"
          ]
        },
        {
          "output_type": "stream",
          "name": "stderr",
          "text": [
            "\r[*********************100%%**********************]  1 of 1 completed\n",
            "<ipython-input-63-4d37985907ae>:76: FutureWarning: DataFrame.fillna with 'method' is deprecated and will raise in a future version. Use obj.ffill() or obj.bfill() instead.\n",
            "  df.fillna(method='ffill', inplace=True)  # Forward fill\n",
            "<ipython-input-63-4d37985907ae>:77: FutureWarning: DataFrame.fillna with 'method' is deprecated and will raise in a future version. Use obj.ffill() or obj.bfill() instead.\n",
            "  df.fillna(method='bfill', inplace=True)  # Backward fill\n"
          ]
        },
        {
          "output_type": "stream",
          "name": "stdout",
          "text": [
            "Processed and saved cleaned data for NVS.JO to Stocks/NVS.JO.csv\n"
          ]
        },
        {
          "output_type": "stream",
          "name": "stderr",
          "text": [
            "[*********************100%%**********************]  1 of 1 completed\n",
            "<ipython-input-63-4d37985907ae>:76: FutureWarning: DataFrame.fillna with 'method' is deprecated and will raise in a future version. Use obj.ffill() or obj.bfill() instead.\n",
            "  df.fillna(method='ffill', inplace=True)  # Forward fill\n",
            "<ipython-input-63-4d37985907ae>:77: FutureWarning: DataFrame.fillna with 'method' is deprecated and will raise in a future version. Use obj.ffill() or obj.bfill() instead.\n",
            "  df.fillna(method='bfill', inplace=True)  # Backward fill\n",
            "[*********************100%%**********************]  1 of 1 completed\n",
            "<ipython-input-63-4d37985907ae>:76: FutureWarning: DataFrame.fillna with 'method' is deprecated and will raise in a future version. Use obj.ffill() or obj.bfill() instead.\n",
            "  df.fillna(method='ffill', inplace=True)  # Forward fill\n",
            "<ipython-input-63-4d37985907ae>:77: FutureWarning: DataFrame.fillna with 'method' is deprecated and will raise in a future version. Use obj.ffill() or obj.bfill() instead.\n",
            "  df.fillna(method='bfill', inplace=True)  # Backward fill\n"
          ]
        },
        {
          "output_type": "stream",
          "name": "stdout",
          "text": [
            "Processed and saved cleaned data for NWL.JO to Stocks/NWL.JO.csv\n",
            "Processed and saved cleaned data for NY1.JO to Stocks/NY1.JO.csv\n"
          ]
        },
        {
          "output_type": "stream",
          "name": "stderr",
          "text": [
            "[*********************100%%**********************]  1 of 1 completed\n",
            "<ipython-input-63-4d37985907ae>:76: FutureWarning: DataFrame.fillna with 'method' is deprecated and will raise in a future version. Use obj.ffill() or obj.bfill() instead.\n",
            "  df.fillna(method='ffill', inplace=True)  # Forward fill\n",
            "<ipython-input-63-4d37985907ae>:77: FutureWarning: DataFrame.fillna with 'method' is deprecated and will raise in a future version. Use obj.ffill() or obj.bfill() instead.\n",
            "  df.fillna(method='bfill', inplace=True)  # Backward fill\n",
            "[*********************100%%**********************]  1 of 1 completed\n",
            "<ipython-input-63-4d37985907ae>:76: FutureWarning: DataFrame.fillna with 'method' is deprecated and will raise in a future version. Use obj.ffill() or obj.bfill() instead.\n",
            "  df.fillna(method='ffill', inplace=True)  # Forward fill\n",
            "<ipython-input-63-4d37985907ae>:77: FutureWarning: DataFrame.fillna with 'method' is deprecated and will raise in a future version. Use obj.ffill() or obj.bfill() instead.\n",
            "  df.fillna(method='bfill', inplace=True)  # Backward fill\n"
          ]
        },
        {
          "output_type": "stream",
          "name": "stdout",
          "text": [
            "Processed and saved cleaned data for OAO.JO to Stocks/OAO.JO.csv\n",
            "Processed and saved cleaned data for OAS.JO to Stocks/OAS.JO.csv\n"
          ]
        },
        {
          "output_type": "stream",
          "name": "stderr",
          "text": [
            "\r[*********************100%%**********************]  1 of 1 completed\n",
            "<ipython-input-63-4d37985907ae>:76: FutureWarning: DataFrame.fillna with 'method' is deprecated and will raise in a future version. Use obj.ffill() or obj.bfill() instead.\n",
            "  df.fillna(method='ffill', inplace=True)  # Forward fill\n",
            "<ipython-input-63-4d37985907ae>:77: FutureWarning: DataFrame.fillna with 'method' is deprecated and will raise in a future version. Use obj.ffill() or obj.bfill() instead.\n",
            "  df.fillna(method='bfill', inplace=True)  # Backward fill\n",
            "[*********************100%%**********************]  1 of 1 completed"
          ]
        },
        {
          "output_type": "stream",
          "name": "stdout",
          "text": [
            "Processed and saved cleaned data for OCE.JO to Stocks/OCE.JO.csv\n"
          ]
        },
        {
          "output_type": "stream",
          "name": "stderr",
          "text": [
            "\n",
            "<ipython-input-63-4d37985907ae>:76: FutureWarning: DataFrame.fillna with 'method' is deprecated and will raise in a future version. Use obj.ffill() or obj.bfill() instead.\n",
            "  df.fillna(method='ffill', inplace=True)  # Forward fill\n",
            "<ipython-input-63-4d37985907ae>:77: FutureWarning: DataFrame.fillna with 'method' is deprecated and will raise in a future version. Use obj.ffill() or obj.bfill() instead.\n",
            "  df.fillna(method='bfill', inplace=True)  # Backward fill\n"
          ]
        },
        {
          "output_type": "stream",
          "name": "stdout",
          "text": [
            "Processed and saved cleaned data for OCT.JO to Stocks/OCT.JO.csv\n"
          ]
        },
        {
          "output_type": "stream",
          "name": "stderr",
          "text": [
            "\r[*********************100%%**********************]  1 of 1 completed\n",
            "<ipython-input-63-4d37985907ae>:76: FutureWarning: DataFrame.fillna with 'method' is deprecated and will raise in a future version. Use obj.ffill() or obj.bfill() instead.\n",
            "  df.fillna(method='ffill', inplace=True)  # Forward fill\n",
            "<ipython-input-63-4d37985907ae>:77: FutureWarning: DataFrame.fillna with 'method' is deprecated and will raise in a future version. Use obj.ffill() or obj.bfill() instead.\n",
            "  df.fillna(method='bfill', inplace=True)  # Backward fill\n"
          ]
        },
        {
          "output_type": "stream",
          "name": "stdout",
          "text": [
            "Processed and saved cleaned data for OMN.JO to Stocks/OMN.JO.csv\n"
          ]
        },
        {
          "output_type": "stream",
          "name": "stderr",
          "text": [
            "\r[*********************100%%**********************]  1 of 1 completed\n",
            "<ipython-input-63-4d37985907ae>:76: FutureWarning: DataFrame.fillna with 'method' is deprecated and will raise in a future version. Use obj.ffill() or obj.bfill() instead.\n",
            "  df.fillna(method='ffill', inplace=True)  # Forward fill\n",
            "<ipython-input-63-4d37985907ae>:77: FutureWarning: DataFrame.fillna with 'method' is deprecated and will raise in a future version. Use obj.ffill() or obj.bfill() instead.\n",
            "  df.fillna(method='bfill', inplace=True)  # Backward fill\n"
          ]
        },
        {
          "output_type": "stream",
          "name": "stdout",
          "text": [
            "Processed and saved cleaned data for OMU.JO to Stocks/OMU.JO.csv\n"
          ]
        },
        {
          "output_type": "stream",
          "name": "stderr",
          "text": [
            "\r[*********************100%%**********************]  1 of 1 completed\n",
            "<ipython-input-63-4d37985907ae>:76: FutureWarning: DataFrame.fillna with 'method' is deprecated and will raise in a future version. Use obj.ffill() or obj.bfill() instead.\n",
            "  df.fillna(method='ffill', inplace=True)  # Forward fill\n",
            "<ipython-input-63-4d37985907ae>:77: FutureWarning: DataFrame.fillna with 'method' is deprecated and will raise in a future version. Use obj.ffill() or obj.bfill() instead.\n",
            "  df.fillna(method='bfill', inplace=True)  # Backward fill\n"
          ]
        },
        {
          "output_type": "stream",
          "name": "stdout",
          "text": [
            "Processed and saved cleaned data for ORN.JO to Stocks/ORN.JO.csv\n"
          ]
        },
        {
          "output_type": "stream",
          "name": "stderr",
          "text": [
            "\r[*********************100%%**********************]  1 of 1 completed\n",
            "<ipython-input-63-4d37985907ae>:76: FutureWarning: DataFrame.fillna with 'method' is deprecated and will raise in a future version. Use obj.ffill() or obj.bfill() instead.\n",
            "  df.fillna(method='ffill', inplace=True)  # Forward fill\n",
            "<ipython-input-63-4d37985907ae>:77: FutureWarning: DataFrame.fillna with 'method' is deprecated and will raise in a future version. Use obj.ffill() or obj.bfill() instead.\n",
            "  df.fillna(method='bfill', inplace=True)  # Backward fill\n",
            "[*********************100%%**********************]  1 of 1 completed"
          ]
        },
        {
          "output_type": "stream",
          "name": "stdout",
          "text": [
            "Processed and saved cleaned data for OUT.JO to Stocks/OUT.JO.csv\n"
          ]
        },
        {
          "output_type": "stream",
          "name": "stderr",
          "text": [
            "\n",
            "<ipython-input-63-4d37985907ae>:76: FutureWarning: DataFrame.fillna with 'method' is deprecated and will raise in a future version. Use obj.ffill() or obj.bfill() instead.\n",
            "  df.fillna(method='ffill', inplace=True)  # Forward fill\n",
            "<ipython-input-63-4d37985907ae>:77: FutureWarning: DataFrame.fillna with 'method' is deprecated and will raise in a future version. Use obj.ffill() or obj.bfill() instead.\n",
            "  df.fillna(method='bfill', inplace=True)  # Backward fill\n"
          ]
        },
        {
          "output_type": "stream",
          "name": "stdout",
          "text": [
            "Processed and saved cleaned data for PAN.JO to Stocks/PAN.JO.csv\n"
          ]
        },
        {
          "output_type": "stream",
          "name": "stderr",
          "text": [
            "\r[*********************100%%**********************]  1 of 1 completed\n",
            "<ipython-input-63-4d37985907ae>:76: FutureWarning: DataFrame.fillna with 'method' is deprecated and will raise in a future version. Use obj.ffill() or obj.bfill() instead.\n",
            "  df.fillna(method='ffill', inplace=True)  # Forward fill\n",
            "<ipython-input-63-4d37985907ae>:77: FutureWarning: DataFrame.fillna with 'method' is deprecated and will raise in a future version. Use obj.ffill() or obj.bfill() instead.\n",
            "  df.fillna(method='bfill', inplace=True)  # Backward fill\n"
          ]
        },
        {
          "output_type": "stream",
          "name": "stdout",
          "text": [
            "Processed and saved cleaned data for PBG.JO to Stocks/PBG.JO.csv\n"
          ]
        },
        {
          "output_type": "stream",
          "name": "stderr",
          "text": [
            "\r[*********************100%%**********************]  1 of 1 completed\n",
            "<ipython-input-63-4d37985907ae>:76: FutureWarning: DataFrame.fillna with 'method' is deprecated and will raise in a future version. Use obj.ffill() or obj.bfill() instead.\n",
            "  df.fillna(method='ffill', inplace=True)  # Forward fill\n",
            "<ipython-input-63-4d37985907ae>:77: FutureWarning: DataFrame.fillna with 'method' is deprecated and will raise in a future version. Use obj.ffill() or obj.bfill() instead.\n",
            "  df.fillna(method='bfill', inplace=True)  # Backward fill\n"
          ]
        },
        {
          "output_type": "stream",
          "name": "stdout",
          "text": [
            "Processed and saved cleaned data for PIK.JO to Stocks/PIK.JO.csv\n"
          ]
        },
        {
          "output_type": "stream",
          "name": "stderr",
          "text": [
            "\r[*********************100%%**********************]  1 of 1 completed\n",
            "<ipython-input-63-4d37985907ae>:76: FutureWarning: DataFrame.fillna with 'method' is deprecated and will raise in a future version. Use obj.ffill() or obj.bfill() instead.\n",
            "  df.fillna(method='ffill', inplace=True)  # Forward fill\n",
            "<ipython-input-63-4d37985907ae>:77: FutureWarning: DataFrame.fillna with 'method' is deprecated and will raise in a future version. Use obj.ffill() or obj.bfill() instead.\n",
            "  df.fillna(method='bfill', inplace=True)  # Backward fill\n"
          ]
        },
        {
          "output_type": "stream",
          "name": "stdout",
          "text": [
            "Processed and saved cleaned data for PMR.JO to Stocks/PMR.JO.csv\n"
          ]
        },
        {
          "output_type": "stream",
          "name": "stderr",
          "text": [
            "\r[*********************100%%**********************]  1 of 1 completed\n",
            "<ipython-input-63-4d37985907ae>:76: FutureWarning: DataFrame.fillna with 'method' is deprecated and will raise in a future version. Use obj.ffill() or obj.bfill() instead.\n",
            "  df.fillna(method='ffill', inplace=True)  # Forward fill\n",
            "<ipython-input-63-4d37985907ae>:77: FutureWarning: DataFrame.fillna with 'method' is deprecated and will raise in a future version. Use obj.ffill() or obj.bfill() instead.\n",
            "  df.fillna(method='bfill', inplace=True)  # Backward fill\n"
          ]
        },
        {
          "output_type": "stream",
          "name": "stdout",
          "text": [
            "Processed and saved cleaned data for PMV.JO to Stocks/PMV.JO.csv\n"
          ]
        },
        {
          "output_type": "stream",
          "name": "stderr",
          "text": [
            "\r[*********************100%%**********************]  1 of 1 completed\n",
            "<ipython-input-63-4d37985907ae>:76: FutureWarning: DataFrame.fillna with 'method' is deprecated and will raise in a future version. Use obj.ffill() or obj.bfill() instead.\n",
            "  df.fillna(method='ffill', inplace=True)  # Forward fill\n",
            "<ipython-input-63-4d37985907ae>:77: FutureWarning: DataFrame.fillna with 'method' is deprecated and will raise in a future version. Use obj.ffill() or obj.bfill() instead.\n",
            "  df.fillna(method='bfill', inplace=True)  # Backward fill\n"
          ]
        },
        {
          "output_type": "stream",
          "name": "stdout",
          "text": [
            "Processed and saved cleaned data for PPC.JO to Stocks/PPC.JO.csv\n"
          ]
        },
        {
          "output_type": "stream",
          "name": "stderr",
          "text": [
            "\r[*********************100%%**********************]  1 of 1 completed\n",
            "<ipython-input-63-4d37985907ae>:76: FutureWarning: DataFrame.fillna with 'method' is deprecated and will raise in a future version. Use obj.ffill() or obj.bfill() instead.\n",
            "  df.fillna(method='ffill', inplace=True)  # Forward fill\n",
            "<ipython-input-63-4d37985907ae>:77: FutureWarning: DataFrame.fillna with 'method' is deprecated and will raise in a future version. Use obj.ffill() or obj.bfill() instead.\n",
            "  df.fillna(method='bfill', inplace=True)  # Backward fill\n"
          ]
        },
        {
          "output_type": "stream",
          "name": "stdout",
          "text": [
            "Processed and saved cleaned data for PPE.JO to Stocks/PPE.JO.csv\n"
          ]
        },
        {
          "output_type": "stream",
          "name": "stderr",
          "text": [
            "\r[*********************100%%**********************]  1 of 1 completed\n",
            "<ipython-input-63-4d37985907ae>:76: FutureWarning: DataFrame.fillna with 'method' is deprecated and will raise in a future version. Use obj.ffill() or obj.bfill() instead.\n",
            "  df.fillna(method='ffill', inplace=True)  # Forward fill\n",
            "<ipython-input-63-4d37985907ae>:77: FutureWarning: DataFrame.fillna with 'method' is deprecated and will raise in a future version. Use obj.ffill() or obj.bfill() instead.\n",
            "  df.fillna(method='bfill', inplace=True)  # Backward fill\n"
          ]
        },
        {
          "output_type": "stream",
          "name": "stdout",
          "text": [
            "Processed and saved cleaned data for PPH.JO to Stocks/PPH.JO.csv\n"
          ]
        },
        {
          "output_type": "stream",
          "name": "stderr",
          "text": [
            "[*********************100%%**********************]  1 of 1 completed\n",
            "<ipython-input-63-4d37985907ae>:76: FutureWarning: DataFrame.fillna with 'method' is deprecated and will raise in a future version. Use obj.ffill() or obj.bfill() instead.\n",
            "  df.fillna(method='ffill', inplace=True)  # Forward fill\n",
            "<ipython-input-63-4d37985907ae>:77: FutureWarning: DataFrame.fillna with 'method' is deprecated and will raise in a future version. Use obj.ffill() or obj.bfill() instead.\n",
            "  df.fillna(method='bfill', inplace=True)  # Backward fill\n",
            "[*********************100%%**********************]  1 of 1 completed\n"
          ]
        },
        {
          "output_type": "stream",
          "name": "stdout",
          "text": [
            "Processed and saved cleaned data for PPR.JO to Stocks/PPR.JO.csv\n"
          ]
        },
        {
          "output_type": "stream",
          "name": "stderr",
          "text": [
            "<ipython-input-63-4d37985907ae>:76: FutureWarning: DataFrame.fillna with 'method' is deprecated and will raise in a future version. Use obj.ffill() or obj.bfill() instead.\n",
            "  df.fillna(method='ffill', inplace=True)  # Forward fill\n",
            "<ipython-input-63-4d37985907ae>:77: FutureWarning: DataFrame.fillna with 'method' is deprecated and will raise in a future version. Use obj.ffill() or obj.bfill() instead.\n",
            "  df.fillna(method='bfill', inplace=True)  # Backward fill\n"
          ]
        },
        {
          "output_type": "stream",
          "name": "stdout",
          "text": [
            "Processed and saved cleaned data for PRX.JO to Stocks/PRX.JO.csv\n"
          ]
        },
        {
          "output_type": "stream",
          "name": "stderr",
          "text": [
            "\r[*********************100%%**********************]  1 of 1 completed\n",
            "<ipython-input-63-4d37985907ae>:76: FutureWarning: DataFrame.fillna with 'method' is deprecated and will raise in a future version. Use obj.ffill() or obj.bfill() instead.\n",
            "  df.fillna(method='ffill', inplace=True)  # Forward fill\n",
            "<ipython-input-63-4d37985907ae>:77: FutureWarning: DataFrame.fillna with 'method' is deprecated and will raise in a future version. Use obj.ffill() or obj.bfill() instead.\n",
            "  df.fillna(method='bfill', inplace=True)  # Backward fill\n"
          ]
        },
        {
          "output_type": "stream",
          "name": "stdout",
          "text": [
            "Processed and saved cleaned data for QFH.JO to Stocks/QFH.JO.csv\n"
          ]
        },
        {
          "output_type": "stream",
          "name": "stderr",
          "text": [
            "\r[*********************100%%**********************]  1 of 1 completed\n",
            "<ipython-input-63-4d37985907ae>:76: FutureWarning: DataFrame.fillna with 'method' is deprecated and will raise in a future version. Use obj.ffill() or obj.bfill() instead.\n",
            "  df.fillna(method='ffill', inplace=True)  # Forward fill\n",
            "<ipython-input-63-4d37985907ae>:77: FutureWarning: DataFrame.fillna with 'method' is deprecated and will raise in a future version. Use obj.ffill() or obj.bfill() instead.\n",
            "  df.fillna(method='bfill', inplace=True)  # Backward fill\n"
          ]
        },
        {
          "output_type": "stream",
          "name": "stdout",
          "text": [
            "Processed and saved cleaned data for QLT.JO to Stocks/QLT.JO.csv\n"
          ]
        },
        {
          "output_type": "stream",
          "name": "stderr",
          "text": [
            "\r[*********************100%%**********************]  1 of 1 completed\n",
            "<ipython-input-63-4d37985907ae>:76: FutureWarning: DataFrame.fillna with 'method' is deprecated and will raise in a future version. Use obj.ffill() or obj.bfill() instead.\n",
            "  df.fillna(method='ffill', inplace=True)  # Forward fill\n",
            "<ipython-input-63-4d37985907ae>:77: FutureWarning: DataFrame.fillna with 'method' is deprecated and will raise in a future version. Use obj.ffill() or obj.bfill() instead.\n",
            "  df.fillna(method='bfill', inplace=True)  # Backward fill\n"
          ]
        },
        {
          "output_type": "stream",
          "name": "stdout",
          "text": [
            "Processed and saved cleaned data for RBX.JO to Stocks/RBX.JO.csv\n"
          ]
        },
        {
          "output_type": "stream",
          "name": "stderr",
          "text": [
            "\r[*********************100%%**********************]  1 of 1 completed\n",
            "<ipython-input-63-4d37985907ae>:76: FutureWarning: DataFrame.fillna with 'method' is deprecated and will raise in a future version. Use obj.ffill() or obj.bfill() instead.\n",
            "  df.fillna(method='ffill', inplace=True)  # Forward fill\n",
            "<ipython-input-63-4d37985907ae>:77: FutureWarning: DataFrame.fillna with 'method' is deprecated and will raise in a future version. Use obj.ffill() or obj.bfill() instead.\n",
            "  df.fillna(method='bfill', inplace=True)  # Backward fill\n"
          ]
        },
        {
          "output_type": "stream",
          "name": "stdout",
          "text": [
            "Processed and saved cleaned data for RCL.JO to Stocks/RCL.JO.csv\n"
          ]
        },
        {
          "output_type": "stream",
          "name": "stderr",
          "text": [
            "\r[*********************100%%**********************]  1 of 1 completed\n",
            "<ipython-input-63-4d37985907ae>:76: FutureWarning: DataFrame.fillna with 'method' is deprecated and will raise in a future version. Use obj.ffill() or obj.bfill() instead.\n",
            "  df.fillna(method='ffill', inplace=True)  # Forward fill\n",
            "<ipython-input-63-4d37985907ae>:77: FutureWarning: DataFrame.fillna with 'method' is deprecated and will raise in a future version. Use obj.ffill() or obj.bfill() instead.\n",
            "  df.fillna(method='bfill', inplace=True)  # Backward fill\n",
            "[*********************100%%**********************]  1 of 1 completed\n"
          ]
        },
        {
          "output_type": "stream",
          "name": "stdout",
          "text": [
            "Processed and saved cleaned data for RDF.JO to Stocks/RDF.JO.csv\n",
            "Processed and saved cleaned data for REA.JO to Stocks/REA.JO.csv\n"
          ]
        },
        {
          "output_type": "stream",
          "name": "stderr",
          "text": [
            "<ipython-input-63-4d37985907ae>:76: FutureWarning: DataFrame.fillna with 'method' is deprecated and will raise in a future version. Use obj.ffill() or obj.bfill() instead.\n",
            "  df.fillna(method='ffill', inplace=True)  # Forward fill\n",
            "<ipython-input-63-4d37985907ae>:77: FutureWarning: DataFrame.fillna with 'method' is deprecated and will raise in a future version. Use obj.ffill() or obj.bfill() instead.\n",
            "  df.fillna(method='bfill', inplace=True)  # Backward fill\n",
            "[*********************100%%**********************]  1 of 1 completed\n",
            "<ipython-input-63-4d37985907ae>:76: FutureWarning: DataFrame.fillna with 'method' is deprecated and will raise in a future version. Use obj.ffill() or obj.bfill() instead.\n",
            "  df.fillna(method='ffill', inplace=True)  # Forward fill\n",
            "<ipython-input-63-4d37985907ae>:77: FutureWarning: DataFrame.fillna with 'method' is deprecated and will raise in a future version. Use obj.ffill() or obj.bfill() instead.\n",
            "  df.fillna(method='bfill', inplace=True)  # Backward fill\n"
          ]
        },
        {
          "output_type": "stream",
          "name": "stdout",
          "text": [
            "Processed and saved cleaned data for REB.JO to Stocks/REB.JO.csv\n"
          ]
        },
        {
          "output_type": "stream",
          "name": "stderr",
          "text": [
            "\r[*********************100%%**********************]  1 of 1 completed\n",
            "<ipython-input-63-4d37985907ae>:76: FutureWarning: DataFrame.fillna with 'method' is deprecated and will raise in a future version. Use obj.ffill() or obj.bfill() instead.\n",
            "  df.fillna(method='ffill', inplace=True)  # Forward fill\n",
            "<ipython-input-63-4d37985907ae>:77: FutureWarning: DataFrame.fillna with 'method' is deprecated and will raise in a future version. Use obj.ffill() or obj.bfill() instead.\n",
            "  df.fillna(method='bfill', inplace=True)  # Backward fill\n"
          ]
        },
        {
          "output_type": "stream",
          "name": "stdout",
          "text": [
            "Processed and saved cleaned data for REM.JO to Stocks/REM.JO.csv\n"
          ]
        },
        {
          "output_type": "stream",
          "name": "stderr",
          "text": [
            "\r[*********************100%%**********************]  1 of 1 completed\n",
            "<ipython-input-63-4d37985907ae>:76: FutureWarning: DataFrame.fillna with 'method' is deprecated and will raise in a future version. Use obj.ffill() or obj.bfill() instead.\n",
            "  df.fillna(method='ffill', inplace=True)  # Forward fill\n",
            "<ipython-input-63-4d37985907ae>:77: FutureWarning: DataFrame.fillna with 'method' is deprecated and will raise in a future version. Use obj.ffill() or obj.bfill() instead.\n",
            "  df.fillna(method='bfill', inplace=True)  # Backward fill\n"
          ]
        },
        {
          "output_type": "stream",
          "name": "stdout",
          "text": [
            "Processed and saved cleaned data for REN.JO to Stocks/REN.JO.csv\n"
          ]
        },
        {
          "output_type": "stream",
          "name": "stderr",
          "text": [
            "\r[*********************100%%**********************]  1 of 1 completed\n",
            "<ipython-input-63-4d37985907ae>:76: FutureWarning: DataFrame.fillna with 'method' is deprecated and will raise in a future version. Use obj.ffill() or obj.bfill() instead.\n",
            "  df.fillna(method='ffill', inplace=True)  # Forward fill\n",
            "<ipython-input-63-4d37985907ae>:77: FutureWarning: DataFrame.fillna with 'method' is deprecated and will raise in a future version. Use obj.ffill() or obj.bfill() instead.\n",
            "  df.fillna(method='bfill', inplace=True)  # Backward fill\n"
          ]
        },
        {
          "output_type": "stream",
          "name": "stdout",
          "text": [
            "Processed and saved cleaned data for RES.JO to Stocks/RES.JO.csv\n"
          ]
        },
        {
          "output_type": "stream",
          "name": "stderr",
          "text": [
            "\r[*********************100%%**********************]  1 of 1 completed\n",
            "<ipython-input-63-4d37985907ae>:76: FutureWarning: DataFrame.fillna with 'method' is deprecated and will raise in a future version. Use obj.ffill() or obj.bfill() instead.\n",
            "  df.fillna(method='ffill', inplace=True)  # Forward fill\n",
            "<ipython-input-63-4d37985907ae>:77: FutureWarning: DataFrame.fillna with 'method' is deprecated and will raise in a future version. Use obj.ffill() or obj.bfill() instead.\n",
            "  df.fillna(method='bfill', inplace=True)  # Backward fill\n"
          ]
        },
        {
          "output_type": "stream",
          "name": "stdout",
          "text": [
            "Processed and saved cleaned data for RFG.JO to Stocks/RFG.JO.csv\n"
          ]
        },
        {
          "output_type": "stream",
          "name": "stderr",
          "text": [
            "\r[*********************100%%**********************]  1 of 1 completed\n",
            "<ipython-input-63-4d37985907ae>:76: FutureWarning: DataFrame.fillna with 'method' is deprecated and will raise in a future version. Use obj.ffill() or obj.bfill() instead.\n",
            "  df.fillna(method='ffill', inplace=True)  # Forward fill\n",
            "<ipython-input-63-4d37985907ae>:77: FutureWarning: DataFrame.fillna with 'method' is deprecated and will raise in a future version. Use obj.ffill() or obj.bfill() instead.\n",
            "  df.fillna(method='bfill', inplace=True)  # Backward fill\n"
          ]
        },
        {
          "output_type": "stream",
          "name": "stdout",
          "text": [
            "Processed and saved cleaned data for RHB.JO to Stocks/RHB.JO.csv\n"
          ]
        },
        {
          "output_type": "stream",
          "name": "stderr",
          "text": [
            "\r[*********************100%%**********************]  1 of 1 completed\n",
            "<ipython-input-63-4d37985907ae>:76: FutureWarning: DataFrame.fillna with 'method' is deprecated and will raise in a future version. Use obj.ffill() or obj.bfill() instead.\n",
            "  df.fillna(method='ffill', inplace=True)  # Forward fill\n",
            "<ipython-input-63-4d37985907ae>:77: FutureWarning: DataFrame.fillna with 'method' is deprecated and will raise in a future version. Use obj.ffill() or obj.bfill() instead.\n",
            "  df.fillna(method='bfill', inplace=True)  # Backward fill\n"
          ]
        },
        {
          "output_type": "stream",
          "name": "stdout",
          "text": [
            "Processed and saved cleaned data for RLO.JO to Stocks/RLO.JO.csv\n"
          ]
        },
        {
          "output_type": "stream",
          "name": "stderr",
          "text": [
            "\r[*********************100%%**********************]  1 of 1 completed\n",
            "<ipython-input-63-4d37985907ae>:76: FutureWarning: DataFrame.fillna with 'method' is deprecated and will raise in a future version. Use obj.ffill() or obj.bfill() instead.\n",
            "  df.fillna(method='ffill', inplace=True)  # Forward fill\n",
            "<ipython-input-63-4d37985907ae>:77: FutureWarning: DataFrame.fillna with 'method' is deprecated and will raise in a future version. Use obj.ffill() or obj.bfill() instead.\n",
            "  df.fillna(method='bfill', inplace=True)  # Backward fill\n"
          ]
        },
        {
          "output_type": "stream",
          "name": "stdout",
          "text": [
            "Processed and saved cleaned data for RMH.JO to Stocks/RMH.JO.csv\n"
          ]
        },
        {
          "output_type": "stream",
          "name": "stderr",
          "text": [
            "\r[*********************100%%**********************]  1 of 1 completed\n",
            "<ipython-input-63-4d37985907ae>:76: FutureWarning: DataFrame.fillna with 'method' is deprecated and will raise in a future version. Use obj.ffill() or obj.bfill() instead.\n",
            "  df.fillna(method='ffill', inplace=True)  # Forward fill\n",
            "<ipython-input-63-4d37985907ae>:77: FutureWarning: DataFrame.fillna with 'method' is deprecated and will raise in a future version. Use obj.ffill() or obj.bfill() instead.\n",
            "  df.fillna(method='bfill', inplace=True)  # Backward fill\n",
            "[*********************100%%**********************]  1 of 1 completed"
          ]
        },
        {
          "output_type": "stream",
          "name": "stdout",
          "text": [
            "Processed and saved cleaned data for RNG.JO to Stocks/RNG.JO.csv\n"
          ]
        },
        {
          "output_type": "stream",
          "name": "stderr",
          "text": [
            "\n",
            "<ipython-input-63-4d37985907ae>:76: FutureWarning: DataFrame.fillna with 'method' is deprecated and will raise in a future version. Use obj.ffill() or obj.bfill() instead.\n",
            "  df.fillna(method='ffill', inplace=True)  # Forward fill\n",
            "<ipython-input-63-4d37985907ae>:77: FutureWarning: DataFrame.fillna with 'method' is deprecated and will raise in a future version. Use obj.ffill() or obj.bfill() instead.\n",
            "  df.fillna(method='bfill', inplace=True)  # Backward fill\n"
          ]
        },
        {
          "output_type": "stream",
          "name": "stdout",
          "text": [
            "Processed and saved cleaned data for RNI.JO to Stocks/RNI.JO.csv\n"
          ]
        },
        {
          "output_type": "stream",
          "name": "stderr",
          "text": [
            "\r[*********************100%%**********************]  1 of 1 completed\n",
            "<ipython-input-63-4d37985907ae>:76: FutureWarning: DataFrame.fillna with 'method' is deprecated and will raise in a future version. Use obj.ffill() or obj.bfill() instead.\n",
            "  df.fillna(method='ffill', inplace=True)  # Forward fill\n",
            "<ipython-input-63-4d37985907ae>:77: FutureWarning: DataFrame.fillna with 'method' is deprecated and will raise in a future version. Use obj.ffill() or obj.bfill() instead.\n",
            "  df.fillna(method='bfill', inplace=True)  # Backward fill\n"
          ]
        },
        {
          "output_type": "stream",
          "name": "stdout",
          "text": [
            "Processed and saved cleaned data for RTN.JO to Stocks/RTN.JO.csv\n"
          ]
        },
        {
          "output_type": "stream",
          "name": "stderr",
          "text": [
            "\r[*********************100%%**********************]  1 of 1 completed\n",
            "<ipython-input-63-4d37985907ae>:76: FutureWarning: DataFrame.fillna with 'method' is deprecated and will raise in a future version. Use obj.ffill() or obj.bfill() instead.\n",
            "  df.fillna(method='ffill', inplace=True)  # Forward fill\n",
            "<ipython-input-63-4d37985907ae>:77: FutureWarning: DataFrame.fillna with 'method' is deprecated and will raise in a future version. Use obj.ffill() or obj.bfill() instead.\n",
            "  df.fillna(method='bfill', inplace=True)  # Backward fill\n"
          ]
        },
        {
          "output_type": "stream",
          "name": "stdout",
          "text": [
            "Processed and saved cleaned data for RTO.JO to Stocks/RTO.JO.csv\n"
          ]
        },
        {
          "output_type": "stream",
          "name": "stderr",
          "text": [
            "\r[*********************100%%**********************]  1 of 1 completed\n",
            "<ipython-input-63-4d37985907ae>:76: FutureWarning: DataFrame.fillna with 'method' is deprecated and will raise in a future version. Use obj.ffill() or obj.bfill() instead.\n",
            "  df.fillna(method='ffill', inplace=True)  # Forward fill\n",
            "<ipython-input-63-4d37985907ae>:77: FutureWarning: DataFrame.fillna with 'method' is deprecated and will raise in a future version. Use obj.ffill() or obj.bfill() instead.\n",
            "  df.fillna(method='bfill', inplace=True)  # Backward fill\n"
          ]
        },
        {
          "output_type": "stream",
          "name": "stdout",
          "text": [
            "Processed and saved cleaned data for S32.JO to Stocks/S32.JO.csv\n"
          ]
        },
        {
          "output_type": "stream",
          "name": "stderr",
          "text": [
            "\r[*********************100%%**********************]  1 of 1 completed\n",
            "<ipython-input-63-4d37985907ae>:76: FutureWarning: DataFrame.fillna with 'method' is deprecated and will raise in a future version. Use obj.ffill() or obj.bfill() instead.\n",
            "  df.fillna(method='ffill', inplace=True)  # Forward fill\n",
            "<ipython-input-63-4d37985907ae>:77: FutureWarning: DataFrame.fillna with 'method' is deprecated and will raise in a future version. Use obj.ffill() or obj.bfill() instead.\n",
            "  df.fillna(method='bfill', inplace=True)  # Backward fill\n"
          ]
        },
        {
          "output_type": "stream",
          "name": "stdout",
          "text": [
            "Processed and saved cleaned data for SAC.JO to Stocks/SAC.JO.csv\n"
          ]
        },
        {
          "output_type": "stream",
          "name": "stderr",
          "text": [
            "\r[*********************100%%**********************]  1 of 1 completed\n",
            "<ipython-input-63-4d37985907ae>:76: FutureWarning: DataFrame.fillna with 'method' is deprecated and will raise in a future version. Use obj.ffill() or obj.bfill() instead.\n",
            "  df.fillna(method='ffill', inplace=True)  # Forward fill\n",
            "<ipython-input-63-4d37985907ae>:77: FutureWarning: DataFrame.fillna with 'method' is deprecated and will raise in a future version. Use obj.ffill() or obj.bfill() instead.\n",
            "  df.fillna(method='bfill', inplace=True)  # Backward fill\n"
          ]
        },
        {
          "output_type": "stream",
          "name": "stdout",
          "text": [
            "Processed and saved cleaned data for SAP.JO to Stocks/SAP.JO.csv\n"
          ]
        },
        {
          "output_type": "stream",
          "name": "stderr",
          "text": [
            "\r[*********************100%%**********************]  1 of 1 completed\n",
            "<ipython-input-63-4d37985907ae>:76: FutureWarning: DataFrame.fillna with 'method' is deprecated and will raise in a future version. Use obj.ffill() or obj.bfill() instead.\n",
            "  df.fillna(method='ffill', inplace=True)  # Forward fill\n",
            "<ipython-input-63-4d37985907ae>:77: FutureWarning: DataFrame.fillna with 'method' is deprecated and will raise in a future version. Use obj.ffill() or obj.bfill() instead.\n",
            "  df.fillna(method='bfill', inplace=True)  # Backward fill\n"
          ]
        },
        {
          "output_type": "stream",
          "name": "stdout",
          "text": [
            "Processed and saved cleaned data for SAR.JO to Stocks/SAR.JO.csv\n"
          ]
        },
        {
          "output_type": "stream",
          "name": "stderr",
          "text": [
            "\r[*********************100%%**********************]  1 of 1 completed\n",
            "<ipython-input-63-4d37985907ae>:76: FutureWarning: DataFrame.fillna with 'method' is deprecated and will raise in a future version. Use obj.ffill() or obj.bfill() instead.\n",
            "  df.fillna(method='ffill', inplace=True)  # Forward fill\n",
            "<ipython-input-63-4d37985907ae>:77: FutureWarning: DataFrame.fillna with 'method' is deprecated and will raise in a future version. Use obj.ffill() or obj.bfill() instead.\n",
            "  df.fillna(method='bfill', inplace=True)  # Backward fill\n"
          ]
        },
        {
          "output_type": "stream",
          "name": "stdout",
          "text": [
            "Processed and saved cleaned data for SBK.JO to Stocks/SBK.JO.csv\n"
          ]
        },
        {
          "output_type": "stream",
          "name": "stderr",
          "text": [
            "\r[*********************100%%**********************]  1 of 1 completed\n",
            "<ipython-input-63-4d37985907ae>:76: FutureWarning: DataFrame.fillna with 'method' is deprecated and will raise in a future version. Use obj.ffill() or obj.bfill() instead.\n",
            "  df.fillna(method='ffill', inplace=True)  # Forward fill\n",
            "<ipython-input-63-4d37985907ae>:77: FutureWarning: DataFrame.fillna with 'method' is deprecated and will raise in a future version. Use obj.ffill() or obj.bfill() instead.\n",
            "  df.fillna(method='bfill', inplace=True)  # Backward fill\n"
          ]
        },
        {
          "output_type": "stream",
          "name": "stdout",
          "text": [
            "Processed and saved cleaned data for SBP.JO to Stocks/SBP.JO.csv\n"
          ]
        },
        {
          "output_type": "stream",
          "name": "stderr",
          "text": [
            "[*********************100%%**********************]  1 of 1 completed\n",
            "<ipython-input-63-4d37985907ae>:76: FutureWarning: DataFrame.fillna with 'method' is deprecated and will raise in a future version. Use obj.ffill() or obj.bfill() instead.\n",
            "  df.fillna(method='ffill', inplace=True)  # Forward fill\n",
            "<ipython-input-63-4d37985907ae>:77: FutureWarning: DataFrame.fillna with 'method' is deprecated and will raise in a future version. Use obj.ffill() or obj.bfill() instead.\n",
            "  df.fillna(method='bfill', inplace=True)  # Backward fill\n",
            "[*********************100%%**********************]  1 of 1 completed\n",
            "<ipython-input-63-4d37985907ae>:76: FutureWarning: DataFrame.fillna with 'method' is deprecated and will raise in a future version. Use obj.ffill() or obj.bfill() instead.\n",
            "  df.fillna(method='ffill', inplace=True)  # Forward fill\n",
            "<ipython-input-63-4d37985907ae>:77: FutureWarning: DataFrame.fillna with 'method' is deprecated and will raise in a future version. Use obj.ffill() or obj.bfill() instead.\n",
            "  df.fillna(method='bfill', inplace=True)  # Backward fill\n"
          ]
        },
        {
          "output_type": "stream",
          "name": "stdout",
          "text": [
            "Processed and saved cleaned data for SCD.JO to Stocks/SCD.JO.csv\n",
            "Processed and saved cleaned data for SDL.JO to Stocks/SDL.JO.csv\n"
          ]
        },
        {
          "output_type": "stream",
          "name": "stderr",
          "text": [
            "\r[*********************100%%**********************]  1 of 1 completed\n",
            "<ipython-input-63-4d37985907ae>:76: FutureWarning: DataFrame.fillna with 'method' is deprecated and will raise in a future version. Use obj.ffill() or obj.bfill() instead.\n",
            "  df.fillna(method='ffill', inplace=True)  # Forward fill\n",
            "<ipython-input-63-4d37985907ae>:77: FutureWarning: DataFrame.fillna with 'method' is deprecated and will raise in a future version. Use obj.ffill() or obj.bfill() instead.\n",
            "  df.fillna(method='bfill', inplace=True)  # Backward fill\n"
          ]
        },
        {
          "output_type": "stream",
          "name": "stdout",
          "text": [
            "Processed and saved cleaned data for SDO.JO to Stocks/SDO.JO.csv\n"
          ]
        },
        {
          "output_type": "stream",
          "name": "stderr",
          "text": [
            "\r[*********************100%%**********************]  1 of 1 completed\n",
            "<ipython-input-63-4d37985907ae>:76: FutureWarning: DataFrame.fillna with 'method' is deprecated and will raise in a future version. Use obj.ffill() or obj.bfill() instead.\n",
            "  df.fillna(method='ffill', inplace=True)  # Forward fill\n",
            "<ipython-input-63-4d37985907ae>:77: FutureWarning: DataFrame.fillna with 'method' is deprecated and will raise in a future version. Use obj.ffill() or obj.bfill() instead.\n",
            "  df.fillna(method='bfill', inplace=True)  # Backward fill\n"
          ]
        },
        {
          "output_type": "stream",
          "name": "stdout",
          "text": [
            "Processed and saved cleaned data for SEA.JO to Stocks/SEA.JO.csv\n"
          ]
        },
        {
          "output_type": "stream",
          "name": "stderr",
          "text": [
            "[*********************100%%**********************]  1 of 1 completed\n",
            "<ipython-input-63-4d37985907ae>:76: FutureWarning: DataFrame.fillna with 'method' is deprecated and will raise in a future version. Use obj.ffill() or obj.bfill() instead.\n",
            "  df.fillna(method='ffill', inplace=True)  # Forward fill\n",
            "<ipython-input-63-4d37985907ae>:77: FutureWarning: DataFrame.fillna with 'method' is deprecated and will raise in a future version. Use obj.ffill() or obj.bfill() instead.\n",
            "  df.fillna(method='bfill', inplace=True)  # Backward fill\n",
            "[*********************100%%**********************]  1 of 1 completed\n",
            "<ipython-input-63-4d37985907ae>:76: FutureWarning: DataFrame.fillna with 'method' is deprecated and will raise in a future version. Use obj.ffill() or obj.bfill() instead.\n",
            "  df.fillna(method='ffill', inplace=True)  # Forward fill\n",
            "<ipython-input-63-4d37985907ae>:77: FutureWarning: DataFrame.fillna with 'method' is deprecated and will raise in a future version. Use obj.ffill() or obj.bfill() instead.\n",
            "  df.fillna(method='bfill', inplace=True)  # Backward fill\n"
          ]
        },
        {
          "output_type": "stream",
          "name": "stdout",
          "text": [
            "Processed and saved cleaned data for SEB.JO to Stocks/SEB.JO.csv\n",
            "Processed and saved cleaned data for SEP.JO to Stocks/SEP.JO.csv\n"
          ]
        },
        {
          "output_type": "stream",
          "name": "stderr",
          "text": [
            "[*********************100%%**********************]  1 of 1 completed\n",
            "<ipython-input-63-4d37985907ae>:76: FutureWarning: DataFrame.fillna with 'method' is deprecated and will raise in a future version. Use obj.ffill() or obj.bfill() instead.\n",
            "  df.fillna(method='ffill', inplace=True)  # Forward fill\n",
            "<ipython-input-63-4d37985907ae>:77: FutureWarning: DataFrame.fillna with 'method' is deprecated and will raise in a future version. Use obj.ffill() or obj.bfill() instead.\n",
            "  df.fillna(method='bfill', inplace=True)  # Backward fill\n",
            "[*********************100%%**********************]  1 of 1 completed\n",
            "<ipython-input-63-4d37985907ae>:76: FutureWarning: DataFrame.fillna with 'method' is deprecated and will raise in a future version. Use obj.ffill() or obj.bfill() instead.\n",
            "  df.fillna(method='ffill', inplace=True)  # Forward fill\n",
            "<ipython-input-63-4d37985907ae>:77: FutureWarning: DataFrame.fillna with 'method' is deprecated and will raise in a future version. Use obj.ffill() or obj.bfill() instead.\n",
            "  df.fillna(method='bfill', inplace=True)  # Backward fill\n"
          ]
        },
        {
          "output_type": "stream",
          "name": "stdout",
          "text": [
            "Processed and saved cleaned data for SFN.JO to Stocks/SFN.JO.csv\n",
            "Processed and saved cleaned data for SHC.JO to Stocks/SHC.JO.csv\n"
          ]
        },
        {
          "output_type": "stream",
          "name": "stderr",
          "text": [
            "\r[*********************100%%**********************]  1 of 1 completed\n",
            "<ipython-input-63-4d37985907ae>:76: FutureWarning: DataFrame.fillna with 'method' is deprecated and will raise in a future version. Use obj.ffill() or obj.bfill() instead.\n",
            "  df.fillna(method='ffill', inplace=True)  # Forward fill\n",
            "<ipython-input-63-4d37985907ae>:77: FutureWarning: DataFrame.fillna with 'method' is deprecated and will raise in a future version. Use obj.ffill() or obj.bfill() instead.\n",
            "  df.fillna(method='bfill', inplace=True)  # Backward fill\n"
          ]
        },
        {
          "output_type": "stream",
          "name": "stdout",
          "text": [
            "Processed and saved cleaned data for SHG.JO to Stocks/SHG.JO.csv\n"
          ]
        },
        {
          "output_type": "stream",
          "name": "stderr",
          "text": [
            "\r[*********************100%%**********************]  1 of 1 completed\n",
            "<ipython-input-63-4d37985907ae>:76: FutureWarning: DataFrame.fillna with 'method' is deprecated and will raise in a future version. Use obj.ffill() or obj.bfill() instead.\n",
            "  df.fillna(method='ffill', inplace=True)  # Forward fill\n",
            "<ipython-input-63-4d37985907ae>:77: FutureWarning: DataFrame.fillna with 'method' is deprecated and will raise in a future version. Use obj.ffill() or obj.bfill() instead.\n",
            "  df.fillna(method='bfill', inplace=True)  # Backward fill\n"
          ]
        },
        {
          "output_type": "stream",
          "name": "stdout",
          "text": [
            "Processed and saved cleaned data for SHP.JO to Stocks/SHP.JO.csv\n"
          ]
        },
        {
          "output_type": "stream",
          "name": "stderr",
          "text": [
            "\r[*********************100%%**********************]  1 of 1 completed\n",
            "<ipython-input-63-4d37985907ae>:76: FutureWarning: DataFrame.fillna with 'method' is deprecated and will raise in a future version. Use obj.ffill() or obj.bfill() instead.\n",
            "  df.fillna(method='ffill', inplace=True)  # Forward fill\n",
            "<ipython-input-63-4d37985907ae>:77: FutureWarning: DataFrame.fillna with 'method' is deprecated and will raise in a future version. Use obj.ffill() or obj.bfill() instead.\n",
            "  df.fillna(method='bfill', inplace=True)  # Backward fill\n"
          ]
        },
        {
          "output_type": "stream",
          "name": "stdout",
          "text": [
            "Processed and saved cleaned data for SLG.JO to Stocks/SLG.JO.csv\n"
          ]
        },
        {
          "output_type": "stream",
          "name": "stderr",
          "text": [
            "\r[*********************100%%**********************]  1 of 1 completed\n",
            "<ipython-input-63-4d37985907ae>:76: FutureWarning: DataFrame.fillna with 'method' is deprecated and will raise in a future version. Use obj.ffill() or obj.bfill() instead.\n",
            "  df.fillna(method='ffill', inplace=True)  # Forward fill\n",
            "<ipython-input-63-4d37985907ae>:77: FutureWarning: DataFrame.fillna with 'method' is deprecated and will raise in a future version. Use obj.ffill() or obj.bfill() instead.\n",
            "  df.fillna(method='bfill', inplace=True)  # Backward fill\n"
          ]
        },
        {
          "output_type": "stream",
          "name": "stdout",
          "text": [
            "Processed and saved cleaned data for SLM.JO to Stocks/SLM.JO.csv\n"
          ]
        },
        {
          "output_type": "stream",
          "name": "stderr",
          "text": [
            "[*********************100%%**********************]  1 of 1 completed\n",
            "<ipython-input-63-4d37985907ae>:76: FutureWarning: DataFrame.fillna with 'method' is deprecated and will raise in a future version. Use obj.ffill() or obj.bfill() instead.\n",
            "  df.fillna(method='ffill', inplace=True)  # Forward fill\n",
            "<ipython-input-63-4d37985907ae>:77: FutureWarning: DataFrame.fillna with 'method' is deprecated and will raise in a future version. Use obj.ffill() or obj.bfill() instead.\n",
            "  df.fillna(method='bfill', inplace=True)  # Backward fill\n",
            "[*********************100%%**********************]  1 of 1 completed\n",
            "<ipython-input-63-4d37985907ae>:76: FutureWarning: DataFrame.fillna with 'method' is deprecated and will raise in a future version. Use obj.ffill() or obj.bfill() instead.\n",
            "  df.fillna(method='ffill', inplace=True)  # Forward fill\n",
            "<ipython-input-63-4d37985907ae>:77: FutureWarning: DataFrame.fillna with 'method' is deprecated and will raise in a future version. Use obj.ffill() or obj.bfill() instead.\n",
            "  df.fillna(method='bfill', inplace=True)  # Backward fill\n"
          ]
        },
        {
          "output_type": "stream",
          "name": "stdout",
          "text": [
            "Processed and saved cleaned data for SNT.JO to Stocks/SNT.JO.csv\n",
            "Processed and saved cleaned data for SNV.JO to Stocks/SNV.JO.csv\n"
          ]
        },
        {
          "output_type": "stream",
          "name": "stderr",
          "text": [
            "\r[*********************100%%**********************]  1 of 1 completed\n",
            "<ipython-input-63-4d37985907ae>:76: FutureWarning: DataFrame.fillna with 'method' is deprecated and will raise in a future version. Use obj.ffill() or obj.bfill() instead.\n",
            "  df.fillna(method='ffill', inplace=True)  # Forward fill\n",
            "<ipython-input-63-4d37985907ae>:77: FutureWarning: DataFrame.fillna with 'method' is deprecated and will raise in a future version. Use obj.ffill() or obj.bfill() instead.\n",
            "  df.fillna(method='bfill', inplace=True)  # Backward fill\n"
          ]
        },
        {
          "output_type": "stream",
          "name": "stdout",
          "text": [
            "Processed and saved cleaned data for SOH.JO to Stocks/SOH.JO.csv\n"
          ]
        },
        {
          "output_type": "stream",
          "name": "stderr",
          "text": [
            "\r[*********************100%%**********************]  1 of 1 completed\n",
            "<ipython-input-63-4d37985907ae>:76: FutureWarning: DataFrame.fillna with 'method' is deprecated and will raise in a future version. Use obj.ffill() or obj.bfill() instead.\n",
            "  df.fillna(method='ffill', inplace=True)  # Forward fill\n",
            "<ipython-input-63-4d37985907ae>:77: FutureWarning: DataFrame.fillna with 'method' is deprecated and will raise in a future version. Use obj.ffill() or obj.bfill() instead.\n",
            "  df.fillna(method='bfill', inplace=True)  # Backward fill\n"
          ]
        },
        {
          "output_type": "stream",
          "name": "stdout",
          "text": [
            "Processed and saved cleaned data for SOL.JO to Stocks/SOL.JO.csv\n"
          ]
        },
        {
          "output_type": "stream",
          "name": "stderr",
          "text": [
            "\r[*********************100%%**********************]  1 of 1 completed\n",
            "<ipython-input-63-4d37985907ae>:76: FutureWarning: DataFrame.fillna with 'method' is deprecated and will raise in a future version. Use obj.ffill() or obj.bfill() instead.\n",
            "  df.fillna(method='ffill', inplace=True)  # Forward fill\n",
            "<ipython-input-63-4d37985907ae>:77: FutureWarning: DataFrame.fillna with 'method' is deprecated and will raise in a future version. Use obj.ffill() or obj.bfill() instead.\n",
            "  df.fillna(method='bfill', inplace=True)  # Backward fill\n"
          ]
        },
        {
          "output_type": "stream",
          "name": "stdout",
          "text": [
            "Processed and saved cleaned data for SPG.JO to Stocks/SPG.JO.csv\n"
          ]
        },
        {
          "output_type": "stream",
          "name": "stderr",
          "text": [
            "\r[*********************100%%**********************]  1 of 1 completed\n",
            "<ipython-input-63-4d37985907ae>:76: FutureWarning: DataFrame.fillna with 'method' is deprecated and will raise in a future version. Use obj.ffill() or obj.bfill() instead.\n",
            "  df.fillna(method='ffill', inplace=True)  # Forward fill\n",
            "<ipython-input-63-4d37985907ae>:77: FutureWarning: DataFrame.fillna with 'method' is deprecated and will raise in a future version. Use obj.ffill() or obj.bfill() instead.\n",
            "  df.fillna(method='bfill', inplace=True)  # Backward fill\n"
          ]
        },
        {
          "output_type": "stream",
          "name": "stdout",
          "text": [
            "Processed and saved cleaned data for SPP.JO to Stocks/SPP.JO.csv\n"
          ]
        },
        {
          "output_type": "stream",
          "name": "stderr",
          "text": [
            "\r[*********************100%%**********************]  1 of 1 completed\n",
            "<ipython-input-63-4d37985907ae>:76: FutureWarning: DataFrame.fillna with 'method' is deprecated and will raise in a future version. Use obj.ffill() or obj.bfill() instead.\n",
            "  df.fillna(method='ffill', inplace=True)  # Forward fill\n",
            "<ipython-input-63-4d37985907ae>:77: FutureWarning: DataFrame.fillna with 'method' is deprecated and will raise in a future version. Use obj.ffill() or obj.bfill() instead.\n",
            "  df.fillna(method='bfill', inplace=True)  # Backward fill\n"
          ]
        },
        {
          "output_type": "stream",
          "name": "stdout",
          "text": [
            "Processed and saved cleaned data for SRE.JO to Stocks/SRE.JO.csv\n"
          ]
        },
        {
          "output_type": "stream",
          "name": "stderr",
          "text": [
            "\r[*********************100%%**********************]  1 of 1 completed\n",
            "<ipython-input-63-4d37985907ae>:76: FutureWarning: DataFrame.fillna with 'method' is deprecated and will raise in a future version. Use obj.ffill() or obj.bfill() instead.\n",
            "  df.fillna(method='ffill', inplace=True)  # Forward fill\n",
            "<ipython-input-63-4d37985907ae>:77: FutureWarning: DataFrame.fillna with 'method' is deprecated and will raise in a future version. Use obj.ffill() or obj.bfill() instead.\n",
            "  df.fillna(method='bfill', inplace=True)  # Backward fill\n"
          ]
        },
        {
          "output_type": "stream",
          "name": "stdout",
          "text": [
            "Processed and saved cleaned data for SSK.JO to Stocks/SSK.JO.csv\n"
          ]
        },
        {
          "output_type": "stream",
          "name": "stderr",
          "text": [
            "\r[*********************100%%**********************]  1 of 1 completed\n",
            "<ipython-input-63-4d37985907ae>:76: FutureWarning: DataFrame.fillna with 'method' is deprecated and will raise in a future version. Use obj.ffill() or obj.bfill() instead.\n",
            "  df.fillna(method='ffill', inplace=True)  # Forward fill\n",
            "<ipython-input-63-4d37985907ae>:77: FutureWarning: DataFrame.fillna with 'method' is deprecated and will raise in a future version. Use obj.ffill() or obj.bfill() instead.\n",
            "  df.fillna(method='bfill', inplace=True)  # Backward fill\n"
          ]
        },
        {
          "output_type": "stream",
          "name": "stdout",
          "text": [
            "Processed and saved cleaned data for SSS.JO to Stocks/SSS.JO.csv\n"
          ]
        },
        {
          "output_type": "stream",
          "name": "stderr",
          "text": [
            "\r[*********************100%%**********************]  1 of 1 completed\n",
            "<ipython-input-63-4d37985907ae>:76: FutureWarning: DataFrame.fillna with 'method' is deprecated and will raise in a future version. Use obj.ffill() or obj.bfill() instead.\n",
            "  df.fillna(method='ffill', inplace=True)  # Forward fill\n",
            "<ipython-input-63-4d37985907ae>:77: FutureWarning: DataFrame.fillna with 'method' is deprecated and will raise in a future version. Use obj.ffill() or obj.bfill() instead.\n",
            "  df.fillna(method='bfill', inplace=True)  # Backward fill\n"
          ]
        },
        {
          "output_type": "stream",
          "name": "stdout",
          "text": [
            "Processed and saved cleaned data for SSU.JO to Stocks/SSU.JO.csv\n"
          ]
        },
        {
          "output_type": "stream",
          "name": "stderr",
          "text": [
            "\r[*********************100%%**********************]  1 of 1 completed\n",
            "<ipython-input-63-4d37985907ae>:76: FutureWarning: DataFrame.fillna with 'method' is deprecated and will raise in a future version. Use obj.ffill() or obj.bfill() instead.\n",
            "  df.fillna(method='ffill', inplace=True)  # Forward fill\n",
            "<ipython-input-63-4d37985907ae>:77: FutureWarning: DataFrame.fillna with 'method' is deprecated and will raise in a future version. Use obj.ffill() or obj.bfill() instead.\n",
            "  df.fillna(method='bfill', inplace=True)  # Backward fill\n"
          ]
        },
        {
          "output_type": "stream",
          "name": "stdout",
          "text": [
            "Processed and saved cleaned data for SSW.JO to Stocks/SSW.JO.csv\n"
          ]
        },
        {
          "output_type": "stream",
          "name": "stderr",
          "text": [
            "\r[*********************100%%**********************]  1 of 1 completed\n",
            "<ipython-input-63-4d37985907ae>:76: FutureWarning: DataFrame.fillna with 'method' is deprecated and will raise in a future version. Use obj.ffill() or obj.bfill() instead.\n",
            "  df.fillna(method='ffill', inplace=True)  # Forward fill\n",
            "<ipython-input-63-4d37985907ae>:77: FutureWarning: DataFrame.fillna with 'method' is deprecated and will raise in a future version. Use obj.ffill() or obj.bfill() instead.\n",
            "  df.fillna(method='bfill', inplace=True)  # Backward fill\n"
          ]
        },
        {
          "output_type": "stream",
          "name": "stdout",
          "text": [
            "Processed and saved cleaned data for SUI.JO to Stocks/SUI.JO.csv\n"
          ]
        },
        {
          "output_type": "stream",
          "name": "stderr",
          "text": [
            "\r[*********************100%%**********************]  1 of 1 completed\n",
            "<ipython-input-63-4d37985907ae>:76: FutureWarning: DataFrame.fillna with 'method' is deprecated and will raise in a future version. Use obj.ffill() or obj.bfill() instead.\n",
            "  df.fillna(method='ffill', inplace=True)  # Forward fill\n",
            "<ipython-input-63-4d37985907ae>:77: FutureWarning: DataFrame.fillna with 'method' is deprecated and will raise in a future version. Use obj.ffill() or obj.bfill() instead.\n",
            "  df.fillna(method='bfill', inplace=True)  # Backward fill\n"
          ]
        },
        {
          "output_type": "stream",
          "name": "stdout",
          "text": [
            "Processed and saved cleaned data for SUR.JO to Stocks/SUR.JO.csv\n"
          ]
        },
        {
          "output_type": "stream",
          "name": "stderr",
          "text": [
            "\r[*********************100%%**********************]  1 of 1 completed\n",
            "<ipython-input-63-4d37985907ae>:76: FutureWarning: DataFrame.fillna with 'method' is deprecated and will raise in a future version. Use obj.ffill() or obj.bfill() instead.\n",
            "  df.fillna(method='ffill', inplace=True)  # Forward fill\n",
            "<ipython-input-63-4d37985907ae>:77: FutureWarning: DataFrame.fillna with 'method' is deprecated and will raise in a future version. Use obj.ffill() or obj.bfill() instead.\n",
            "  df.fillna(method='bfill', inplace=True)  # Backward fill\n"
          ]
        },
        {
          "output_type": "stream",
          "name": "stdout",
          "text": [
            "Processed and saved cleaned data for SXM.JO to Stocks/SXM.JO.csv\n"
          ]
        },
        {
          "output_type": "stream",
          "name": "stderr",
          "text": [
            "\r[*********************100%%**********************]  1 of 1 completed\n",
            "<ipython-input-63-4d37985907ae>:76: FutureWarning: DataFrame.fillna with 'method' is deprecated and will raise in a future version. Use obj.ffill() or obj.bfill() instead.\n",
            "  df.fillna(method='ffill', inplace=True)  # Forward fill\n",
            "<ipython-input-63-4d37985907ae>:77: FutureWarning: DataFrame.fillna with 'method' is deprecated and will raise in a future version. Use obj.ffill() or obj.bfill() instead.\n",
            "  df.fillna(method='bfill', inplace=True)  # Backward fill\n"
          ]
        },
        {
          "output_type": "stream",
          "name": "stdout",
          "text": [
            "Processed and saved cleaned data for SYG.JO to Stocks/SYG.JO.csv\n"
          ]
        },
        {
          "output_type": "stream",
          "name": "stderr",
          "text": [
            "\r[*********************100%%**********************]  1 of 1 completed\n",
            "<ipython-input-63-4d37985907ae>:76: FutureWarning: DataFrame.fillna with 'method' is deprecated and will raise in a future version. Use obj.ffill() or obj.bfill() instead.\n",
            "  df.fillna(method='ffill', inplace=True)  # Forward fill\n",
            "<ipython-input-63-4d37985907ae>:77: FutureWarning: DataFrame.fillna with 'method' is deprecated and will raise in a future version. Use obj.ffill() or obj.bfill() instead.\n",
            "  df.fillna(method='bfill', inplace=True)  # Backward fill\n"
          ]
        },
        {
          "output_type": "stream",
          "name": "stdout",
          "text": [
            "Processed and saved cleaned data for SZK.JO to Stocks/SZK.JO.csv\n"
          ]
        },
        {
          "output_type": "stream",
          "name": "stderr",
          "text": [
            "\r[*********************100%%**********************]  1 of 1 completed\n",
            "<ipython-input-63-4d37985907ae>:76: FutureWarning: DataFrame.fillna with 'method' is deprecated and will raise in a future version. Use obj.ffill() or obj.bfill() instead.\n",
            "  df.fillna(method='ffill', inplace=True)  # Forward fill\n",
            "<ipython-input-63-4d37985907ae>:77: FutureWarning: DataFrame.fillna with 'method' is deprecated and will raise in a future version. Use obj.ffill() or obj.bfill() instead.\n",
            "  df.fillna(method='bfill', inplace=True)  # Backward fill\n"
          ]
        },
        {
          "output_type": "stream",
          "name": "stdout",
          "text": [
            "Processed and saved cleaned data for TBS.JO to Stocks/TBS.JO.csv\n"
          ]
        },
        {
          "output_type": "stream",
          "name": "stderr",
          "text": [
            "\r[*********************100%%**********************]  1 of 1 completed\n",
            "<ipython-input-63-4d37985907ae>:76: FutureWarning: DataFrame.fillna with 'method' is deprecated and will raise in a future version. Use obj.ffill() or obj.bfill() instead.\n",
            "  df.fillna(method='ffill', inplace=True)  # Forward fill\n",
            "<ipython-input-63-4d37985907ae>:77: FutureWarning: DataFrame.fillna with 'method' is deprecated and will raise in a future version. Use obj.ffill() or obj.bfill() instead.\n",
            "  df.fillna(method='bfill', inplace=True)  # Backward fill\n"
          ]
        },
        {
          "output_type": "stream",
          "name": "stdout",
          "text": [
            "Processed and saved cleaned data for TCP.JO to Stocks/TCP.JO.csv\n"
          ]
        },
        {
          "output_type": "stream",
          "name": "stderr",
          "text": [
            "\r[*********************100%%**********************]  1 of 1 completed\n",
            "<ipython-input-63-4d37985907ae>:76: FutureWarning: DataFrame.fillna with 'method' is deprecated and will raise in a future version. Use obj.ffill() or obj.bfill() instead.\n",
            "  df.fillna(method='ffill', inplace=True)  # Forward fill\n",
            "<ipython-input-63-4d37985907ae>:77: FutureWarning: DataFrame.fillna with 'method' is deprecated and will raise in a future version. Use obj.ffill() or obj.bfill() instead.\n",
            "  df.fillna(method='bfill', inplace=True)  # Backward fill\n"
          ]
        },
        {
          "output_type": "stream",
          "name": "stdout",
          "text": [
            "Processed and saved cleaned data for TEX.JO to Stocks/TEX.JO.csv\n"
          ]
        },
        {
          "output_type": "stream",
          "name": "stderr",
          "text": [
            "\r[*********************100%%**********************]  1 of 1 completed\n",
            "<ipython-input-63-4d37985907ae>:76: FutureWarning: DataFrame.fillna with 'method' is deprecated and will raise in a future version. Use obj.ffill() or obj.bfill() instead.\n",
            "  df.fillna(method='ffill', inplace=True)  # Forward fill\n",
            "<ipython-input-63-4d37985907ae>:77: FutureWarning: DataFrame.fillna with 'method' is deprecated and will raise in a future version. Use obj.ffill() or obj.bfill() instead.\n",
            "  df.fillna(method='bfill', inplace=True)  # Backward fill\n"
          ]
        },
        {
          "output_type": "stream",
          "name": "stdout",
          "text": [
            "Processed and saved cleaned data for TFG.JO to Stocks/TFG.JO.csv\n"
          ]
        },
        {
          "output_type": "stream",
          "name": "stderr",
          "text": [
            "\r[*********************100%%**********************]  1 of 1 completed\n",
            "<ipython-input-63-4d37985907ae>:76: FutureWarning: DataFrame.fillna with 'method' is deprecated and will raise in a future version. Use obj.ffill() or obj.bfill() instead.\n",
            "  df.fillna(method='ffill', inplace=True)  # Forward fill\n",
            "<ipython-input-63-4d37985907ae>:77: FutureWarning: DataFrame.fillna with 'method' is deprecated and will raise in a future version. Use obj.ffill() or obj.bfill() instead.\n",
            "  df.fillna(method='bfill', inplace=True)  # Backward fill\n"
          ]
        },
        {
          "output_type": "stream",
          "name": "stdout",
          "text": [
            "Processed and saved cleaned data for TGA.JO to Stocks/TGA.JO.csv\n"
          ]
        },
        {
          "output_type": "stream",
          "name": "stderr",
          "text": [
            "\r[*********************100%%**********************]  1 of 1 completed\n",
            "<ipython-input-63-4d37985907ae>:76: FutureWarning: DataFrame.fillna with 'method' is deprecated and will raise in a future version. Use obj.ffill() or obj.bfill() instead.\n",
            "  df.fillna(method='ffill', inplace=True)  # Forward fill\n",
            "<ipython-input-63-4d37985907ae>:77: FutureWarning: DataFrame.fillna with 'method' is deprecated and will raise in a future version. Use obj.ffill() or obj.bfill() instead.\n",
            "  df.fillna(method='bfill', inplace=True)  # Backward fill\n"
          ]
        },
        {
          "output_type": "stream",
          "name": "stdout",
          "text": [
            "Processed and saved cleaned data for THA.JO to Stocks/THA.JO.csv\n"
          ]
        },
        {
          "output_type": "stream",
          "name": "stderr",
          "text": [
            "\r[*********************100%%**********************]  1 of 1 completed\n",
            "<ipython-input-63-4d37985907ae>:76: FutureWarning: DataFrame.fillna with 'method' is deprecated and will raise in a future version. Use obj.ffill() or obj.bfill() instead.\n",
            "  df.fillna(method='ffill', inplace=True)  # Forward fill\n",
            "<ipython-input-63-4d37985907ae>:77: FutureWarning: DataFrame.fillna with 'method' is deprecated and will raise in a future version. Use obj.ffill() or obj.bfill() instead.\n",
            "  df.fillna(method='bfill', inplace=True)  # Backward fill\n"
          ]
        },
        {
          "output_type": "stream",
          "name": "stdout",
          "text": [
            "Processed and saved cleaned data for TKG.JO to Stocks/TKG.JO.csv\n"
          ]
        },
        {
          "output_type": "stream",
          "name": "stderr",
          "text": [
            "\r[*********************100%%**********************]  1 of 1 completed\n",
            "<ipython-input-63-4d37985907ae>:76: FutureWarning: DataFrame.fillna with 'method' is deprecated and will raise in a future version. Use obj.ffill() or obj.bfill() instead.\n",
            "  df.fillna(method='ffill', inplace=True)  # Forward fill\n",
            "<ipython-input-63-4d37985907ae>:77: FutureWarning: DataFrame.fillna with 'method' is deprecated and will raise in a future version. Use obj.ffill() or obj.bfill() instead.\n",
            "  df.fillna(method='bfill', inplace=True)  # Backward fill\n"
          ]
        },
        {
          "output_type": "stream",
          "name": "stdout",
          "text": [
            "Processed and saved cleaned data for TLM.JO to Stocks/TLM.JO.csv\n"
          ]
        },
        {
          "output_type": "stream",
          "name": "stderr",
          "text": [
            "\r[*********************100%%**********************]  1 of 1 completed\n",
            "<ipython-input-63-4d37985907ae>:76: FutureWarning: DataFrame.fillna with 'method' is deprecated and will raise in a future version. Use obj.ffill() or obj.bfill() instead.\n",
            "  df.fillna(method='ffill', inplace=True)  # Forward fill\n",
            "<ipython-input-63-4d37985907ae>:77: FutureWarning: DataFrame.fillna with 'method' is deprecated and will raise in a future version. Use obj.ffill() or obj.bfill() instead.\n",
            "  df.fillna(method='bfill', inplace=True)  # Backward fill\n"
          ]
        },
        {
          "output_type": "stream",
          "name": "stdout",
          "text": [
            "Processed and saved cleaned data for TMT.JO to Stocks/TMT.JO.csv\n"
          ]
        },
        {
          "output_type": "stream",
          "name": "stderr",
          "text": [
            "\r[*********************100%%**********************]  1 of 1 completed\n",
            "<ipython-input-63-4d37985907ae>:76: FutureWarning: DataFrame.fillna with 'method' is deprecated and will raise in a future version. Use obj.ffill() or obj.bfill() instead.\n",
            "  df.fillna(method='ffill', inplace=True)  # Forward fill\n",
            "<ipython-input-63-4d37985907ae>:77: FutureWarning: DataFrame.fillna with 'method' is deprecated and will raise in a future version. Use obj.ffill() or obj.bfill() instead.\n",
            "  df.fillna(method='bfill', inplace=True)  # Backward fill\n"
          ]
        },
        {
          "output_type": "stream",
          "name": "stdout",
          "text": [
            "Processed and saved cleaned data for TON.JO to Stocks/TON.JO.csv\n"
          ]
        },
        {
          "output_type": "stream",
          "name": "stderr",
          "text": [
            "\r[*********************100%%**********************]  1 of 1 completed\n",
            "<ipython-input-63-4d37985907ae>:76: FutureWarning: DataFrame.fillna with 'method' is deprecated and will raise in a future version. Use obj.ffill() or obj.bfill() instead.\n",
            "  df.fillna(method='ffill', inplace=True)  # Forward fill\n",
            "<ipython-input-63-4d37985907ae>:77: FutureWarning: DataFrame.fillna with 'method' is deprecated and will raise in a future version. Use obj.ffill() or obj.bfill() instead.\n",
            "  df.fillna(method='bfill', inplace=True)  # Backward fill\n"
          ]
        },
        {
          "output_type": "stream",
          "name": "stdout",
          "text": [
            "Processed and saved cleaned data for TPC.JO to Stocks/TPC.JO.csv\n"
          ]
        },
        {
          "output_type": "stream",
          "name": "stderr",
          "text": [
            "\r[*********************100%%**********************]  1 of 1 completed\n",
            "<ipython-input-63-4d37985907ae>:76: FutureWarning: DataFrame.fillna with 'method' is deprecated and will raise in a future version. Use obj.ffill() or obj.bfill() instead.\n",
            "  df.fillna(method='ffill', inplace=True)  # Forward fill\n",
            "<ipython-input-63-4d37985907ae>:77: FutureWarning: DataFrame.fillna with 'method' is deprecated and will raise in a future version. Use obj.ffill() or obj.bfill() instead.\n",
            "  df.fillna(method='bfill', inplace=True)  # Backward fill\n"
          ]
        },
        {
          "output_type": "stream",
          "name": "stdout",
          "text": [
            "Processed and saved cleaned data for TRE.JO to Stocks/TRE.JO.csv\n"
          ]
        },
        {
          "output_type": "stream",
          "name": "stderr",
          "text": [
            "\r[*********************100%%**********************]  1 of 1 completed\n",
            "<ipython-input-63-4d37985907ae>:76: FutureWarning: DataFrame.fillna with 'method' is deprecated and will raise in a future version. Use obj.ffill() or obj.bfill() instead.\n",
            "  df.fillna(method='ffill', inplace=True)  # Forward fill\n",
            "<ipython-input-63-4d37985907ae>:77: FutureWarning: DataFrame.fillna with 'method' is deprecated and will raise in a future version. Use obj.ffill() or obj.bfill() instead.\n",
            "  df.fillna(method='bfill', inplace=True)  # Backward fill\n"
          ]
        },
        {
          "output_type": "stream",
          "name": "stdout",
          "text": [
            "Processed and saved cleaned data for TRL.JO to Stocks/TRL.JO.csv\n"
          ]
        },
        {
          "output_type": "stream",
          "name": "stderr",
          "text": [
            "\r[*********************100%%**********************]  1 of 1 completed\n",
            "<ipython-input-63-4d37985907ae>:76: FutureWarning: DataFrame.fillna with 'method' is deprecated and will raise in a future version. Use obj.ffill() or obj.bfill() instead.\n",
            "  df.fillna(method='ffill', inplace=True)  # Forward fill\n",
            "<ipython-input-63-4d37985907ae>:77: FutureWarning: DataFrame.fillna with 'method' is deprecated and will raise in a future version. Use obj.ffill() or obj.bfill() instead.\n",
            "  df.fillna(method='bfill', inplace=True)  # Backward fill\n"
          ]
        },
        {
          "output_type": "stream",
          "name": "stdout",
          "text": [
            "Processed and saved cleaned data for TRU.JO to Stocks/TRU.JO.csv\n"
          ]
        },
        {
          "output_type": "stream",
          "name": "stderr",
          "text": [
            "\r[*********************100%%**********************]  1 of 1 completed\n",
            "<ipython-input-63-4d37985907ae>:76: FutureWarning: DataFrame.fillna with 'method' is deprecated and will raise in a future version. Use obj.ffill() or obj.bfill() instead.\n",
            "  df.fillna(method='ffill', inplace=True)  # Forward fill\n",
            "<ipython-input-63-4d37985907ae>:77: FutureWarning: DataFrame.fillna with 'method' is deprecated and will raise in a future version. Use obj.ffill() or obj.bfill() instead.\n",
            "  df.fillna(method='bfill', inplace=True)  # Backward fill\n"
          ]
        },
        {
          "output_type": "stream",
          "name": "stdout",
          "text": [
            "Processed and saved cleaned data for TSG.JO to Stocks/TSG.JO.csv\n"
          ]
        },
        {
          "output_type": "stream",
          "name": "stderr",
          "text": [
            "\r[*********************100%%**********************]  1 of 1 completed\n",
            "<ipython-input-63-4d37985907ae>:76: FutureWarning: DataFrame.fillna with 'method' is deprecated and will raise in a future version. Use obj.ffill() or obj.bfill() instead.\n",
            "  df.fillna(method='ffill', inplace=True)  # Forward fill\n",
            "<ipython-input-63-4d37985907ae>:77: FutureWarning: DataFrame.fillna with 'method' is deprecated and will raise in a future version. Use obj.ffill() or obj.bfill() instead.\n",
            "  df.fillna(method='bfill', inplace=True)  # Backward fill\n"
          ]
        },
        {
          "output_type": "stream",
          "name": "stdout",
          "text": [
            "Processed and saved cleaned data for TTO.JO to Stocks/TTO.JO.csv\n"
          ]
        },
        {
          "output_type": "stream",
          "name": "stderr",
          "text": [
            "[*********************100%%**********************]  1 of 1 completed\n",
            "<ipython-input-63-4d37985907ae>:76: FutureWarning: DataFrame.fillna with 'method' is deprecated and will raise in a future version. Use obj.ffill() or obj.bfill() instead.\n",
            "  df.fillna(method='ffill', inplace=True)  # Forward fill\n",
            "<ipython-input-63-4d37985907ae>:77: FutureWarning: DataFrame.fillna with 'method' is deprecated and will raise in a future version. Use obj.ffill() or obj.bfill() instead.\n",
            "  df.fillna(method='bfill', inplace=True)  # Backward fill\n",
            "[*********************100%%**********************]  1 of 1 completed\n",
            "<ipython-input-63-4d37985907ae>:76: FutureWarning: DataFrame.fillna with 'method' is deprecated and will raise in a future version. Use obj.ffill() or obj.bfill() instead.\n",
            "  df.fillna(method='ffill', inplace=True)  # Forward fill\n",
            "<ipython-input-63-4d37985907ae>:77: FutureWarning: DataFrame.fillna with 'method' is deprecated and will raise in a future version. Use obj.ffill() or obj.bfill() instead.\n",
            "  df.fillna(method='bfill', inplace=True)  # Backward fill\n"
          ]
        },
        {
          "output_type": "stream",
          "name": "stdout",
          "text": [
            "Processed and saved cleaned data for UPL.JO to Stocks/UPL.JO.csv\n",
            "Processed and saved cleaned data for VIS.JO to Stocks/VIS.JO.csv\n"
          ]
        },
        {
          "output_type": "stream",
          "name": "stderr",
          "text": [
            "\r[*********************100%%**********************]  1 of 1 completed\n",
            "<ipython-input-63-4d37985907ae>:76: FutureWarning: DataFrame.fillna with 'method' is deprecated and will raise in a future version. Use obj.ffill() or obj.bfill() instead.\n",
            "  df.fillna(method='ffill', inplace=True)  # Forward fill\n",
            "<ipython-input-63-4d37985907ae>:77: FutureWarning: DataFrame.fillna with 'method' is deprecated and will raise in a future version. Use obj.ffill() or obj.bfill() instead.\n",
            "  df.fillna(method='bfill', inplace=True)  # Backward fill\n"
          ]
        },
        {
          "output_type": "stream",
          "name": "stdout",
          "text": [
            "Processed and saved cleaned data for VKE.JO to Stocks/VKE.JO.csv\n"
          ]
        },
        {
          "output_type": "stream",
          "name": "stderr",
          "text": [
            "\r[*********************100%%**********************]  1 of 1 completed\n",
            "<ipython-input-63-4d37985907ae>:76: FutureWarning: DataFrame.fillna with 'method' is deprecated and will raise in a future version. Use obj.ffill() or obj.bfill() instead.\n",
            "  df.fillna(method='ffill', inplace=True)  # Forward fill\n",
            "<ipython-input-63-4d37985907ae>:77: FutureWarning: DataFrame.fillna with 'method' is deprecated and will raise in a future version. Use obj.ffill() or obj.bfill() instead.\n",
            "  df.fillna(method='bfill', inplace=True)  # Backward fill\n"
          ]
        },
        {
          "output_type": "stream",
          "name": "stdout",
          "text": [
            "Processed and saved cleaned data for VOD.JO to Stocks/VOD.JO.csv\n"
          ]
        },
        {
          "output_type": "stream",
          "name": "stderr",
          "text": [
            "\r[*********************100%%**********************]  1 of 1 completed\n",
            "<ipython-input-63-4d37985907ae>:76: FutureWarning: DataFrame.fillna with 'method' is deprecated and will raise in a future version. Use obj.ffill() or obj.bfill() instead.\n",
            "  df.fillna(method='ffill', inplace=True)  # Forward fill\n",
            "<ipython-input-63-4d37985907ae>:77: FutureWarning: DataFrame.fillna with 'method' is deprecated and will raise in a future version. Use obj.ffill() or obj.bfill() instead.\n",
            "  df.fillna(method='bfill', inplace=True)  # Backward fill\n"
          ]
        },
        {
          "output_type": "stream",
          "name": "stdout",
          "text": [
            "Processed and saved cleaned data for VUN.JO to Stocks/VUN.JO.csv\n"
          ]
        },
        {
          "output_type": "stream",
          "name": "stderr",
          "text": [
            "\r[*********************100%%**********************]  1 of 1 completed\n",
            "<ipython-input-63-4d37985907ae>:76: FutureWarning: DataFrame.fillna with 'method' is deprecated and will raise in a future version. Use obj.ffill() or obj.bfill() instead.\n",
            "  df.fillna(method='ffill', inplace=True)  # Forward fill\n",
            "<ipython-input-63-4d37985907ae>:77: FutureWarning: DataFrame.fillna with 'method' is deprecated and will raise in a future version. Use obj.ffill() or obj.bfill() instead.\n",
            "  df.fillna(method='bfill', inplace=True)  # Backward fill\n"
          ]
        },
        {
          "output_type": "stream",
          "name": "stdout",
          "text": [
            "Processed and saved cleaned data for WBC.JO to Stocks/WBC.JO.csv\n"
          ]
        },
        {
          "output_type": "stream",
          "name": "stderr",
          "text": [
            "\r[*********************100%%**********************]  1 of 1 completed\n",
            "<ipython-input-63-4d37985907ae>:76: FutureWarning: DataFrame.fillna with 'method' is deprecated and will raise in a future version. Use obj.ffill() or obj.bfill() instead.\n",
            "  df.fillna(method='ffill', inplace=True)  # Forward fill\n",
            "<ipython-input-63-4d37985907ae>:77: FutureWarning: DataFrame.fillna with 'method' is deprecated and will raise in a future version. Use obj.ffill() or obj.bfill() instead.\n",
            "  df.fillna(method='bfill', inplace=True)  # Backward fill\n"
          ]
        },
        {
          "output_type": "stream",
          "name": "stdout",
          "text": [
            "Processed and saved cleaned data for WBO.JO to Stocks/WBO.JO.csv\n"
          ]
        },
        {
          "output_type": "stream",
          "name": "stderr",
          "text": [
            "\r[*********************100%%**********************]  1 of 1 completed\n",
            "<ipython-input-63-4d37985907ae>:76: FutureWarning: DataFrame.fillna with 'method' is deprecated and will raise in a future version. Use obj.ffill() or obj.bfill() instead.\n",
            "  df.fillna(method='ffill', inplace=True)  # Forward fill\n",
            "<ipython-input-63-4d37985907ae>:77: FutureWarning: DataFrame.fillna with 'method' is deprecated and will raise in a future version. Use obj.ffill() or obj.bfill() instead.\n",
            "  df.fillna(method='bfill', inplace=True)  # Backward fill\n"
          ]
        },
        {
          "output_type": "stream",
          "name": "stdout",
          "text": [
            "Processed and saved cleaned data for WEZ.JO to Stocks/WEZ.JO.csv\n"
          ]
        },
        {
          "output_type": "stream",
          "name": "stderr",
          "text": [
            "\r[*********************100%%**********************]  1 of 1 completed\n",
            "<ipython-input-63-4d37985907ae>:76: FutureWarning: DataFrame.fillna with 'method' is deprecated and will raise in a future version. Use obj.ffill() or obj.bfill() instead.\n",
            "  df.fillna(method='ffill', inplace=True)  # Forward fill\n",
            "<ipython-input-63-4d37985907ae>:77: FutureWarning: DataFrame.fillna with 'method' is deprecated and will raise in a future version. Use obj.ffill() or obj.bfill() instead.\n",
            "  df.fillna(method='bfill', inplace=True)  # Backward fill\n"
          ]
        },
        {
          "output_type": "stream",
          "name": "stdout",
          "text": [
            "Processed and saved cleaned data for WHL.JO to Stocks/WHL.JO.csv\n"
          ]
        },
        {
          "output_type": "stream",
          "name": "stderr",
          "text": [
            "\r[*********************100%%**********************]  1 of 1 completed\n",
            "<ipython-input-63-4d37985907ae>:76: FutureWarning: DataFrame.fillna with 'method' is deprecated and will raise in a future version. Use obj.ffill() or obj.bfill() instead.\n",
            "  df.fillna(method='ffill', inplace=True)  # Forward fill\n",
            "<ipython-input-63-4d37985907ae>:77: FutureWarning: DataFrame.fillna with 'method' is deprecated and will raise in a future version. Use obj.ffill() or obj.bfill() instead.\n",
            "  df.fillna(method='bfill', inplace=True)  # Backward fill\n"
          ]
        },
        {
          "output_type": "stream",
          "name": "stdout",
          "text": [
            "Processed and saved cleaned data for WKF.JO to Stocks/WKF.JO.csv\n"
          ]
        },
        {
          "output_type": "stream",
          "name": "stderr",
          "text": [
            "\r[*********************100%%**********************]  1 of 1 completed\n",
            "<ipython-input-63-4d37985907ae>:76: FutureWarning: DataFrame.fillna with 'method' is deprecated and will raise in a future version. Use obj.ffill() or obj.bfill() instead.\n",
            "  df.fillna(method='ffill', inplace=True)  # Forward fill\n",
            "<ipython-input-63-4d37985907ae>:77: FutureWarning: DataFrame.fillna with 'method' is deprecated and will raise in a future version. Use obj.ffill() or obj.bfill() instead.\n",
            "  df.fillna(method='bfill', inplace=True)  # Backward fill\n"
          ]
        },
        {
          "output_type": "stream",
          "name": "stdout",
          "text": [
            "Processed and saved cleaned data for YRK.JO to Stocks/YRK.JO.csv\n"
          ]
        },
        {
          "output_type": "stream",
          "name": "stderr",
          "text": [
            "\r[*********************100%%**********************]  1 of 1 completed\n",
            "<ipython-input-63-4d37985907ae>:76: FutureWarning: DataFrame.fillna with 'method' is deprecated and will raise in a future version. Use obj.ffill() or obj.bfill() instead.\n",
            "  df.fillna(method='ffill', inplace=True)  # Forward fill\n",
            "<ipython-input-63-4d37985907ae>:77: FutureWarning: DataFrame.fillna with 'method' is deprecated and will raise in a future version. Use obj.ffill() or obj.bfill() instead.\n",
            "  df.fillna(method='bfill', inplace=True)  # Backward fill\n"
          ]
        },
        {
          "output_type": "stream",
          "name": "stdout",
          "text": [
            "Processed and saved cleaned data for ZED.JO to Stocks/ZED.JO.csv\n"
          ]
        },
        {
          "output_type": "stream",
          "name": "stderr",
          "text": [
            "\r[*********************100%%**********************]  1 of 1 completed"
          ]
        },
        {
          "output_type": "stream",
          "name": "stdout",
          "text": [
            "Processed and saved cleaned data for ZZD.JO to Stocks/ZZD.JO.csv\n",
            "All data saved and processed in the \"Stocks\" directory.\n",
            "Saved unique tickers to Stocks/tickers.csv\n"
          ]
        },
        {
          "output_type": "stream",
          "name": "stderr",
          "text": [
            "\n",
            "<ipython-input-63-4d37985907ae>:76: FutureWarning: DataFrame.fillna with 'method' is deprecated and will raise in a future version. Use obj.ffill() or obj.bfill() instead.\n",
            "  df.fillna(method='ffill', inplace=True)  # Forward fill\n",
            "<ipython-input-63-4d37985907ae>:77: FutureWarning: DataFrame.fillna with 'method' is deprecated and will raise in a future version. Use obj.ffill() or obj.bfill() instead.\n",
            "  df.fillna(method='bfill', inplace=True)  # Backward fill\n"
          ]
        }
      ]
    },
    {
      "cell_type": "code",
      "source": [
        "\n",
        "import os\n",
        "import glob\n",
        "\n",
        "# Specify the path to the directory\n",
        "path = '/content/drive/MyDrive/Stocks'\n",
        "\n",
        "# Specify the file to exclude\n",
        "exclude_file = 'tickers.csv'\n",
        "\n",
        "# Use glob to find all CSV files in the directory\n",
        "csv_files = glob.glob(os.path.join(path, '*.csv'))\n",
        "\n",
        "# Filter out the specific file\n",
        "csv_files = [file for file in csv_files if os.path.basename(file) != exclude_file]\n",
        "\n",
        "# Count the number of CSV files\n",
        "csv_count = len(csv_files)\n",
        "\n",
        "print(f'There are {csv_count} CSV files in the folder, excluding {exclude_file}.')"
      ],
      "metadata": {
        "id": "WVjiyhrF986R",
        "colab": {
          "base_uri": "https://localhost:8080/"
        },
        "outputId": "df054d98-8952-4a69-f6c6-f06f10637269"
      },
      "execution_count": null,
      "outputs": [
        {
          "output_type": "stream",
          "name": "stdout",
          "text": [
            "There are 264 CSV files in the folder, excluding tickers.csv.\n"
          ]
        }
      ]
    },
    {
      "cell_type": "code",
      "source": [
        "\n",
        "import pandas as pd\n",
        "import numpy as np\n",
        "import matplotlib.pyplot as plt\n",
        "import seaborn as sns\n",
        "\n",
        "# Load your cleaned data\n",
        "df = pd.read_csv('/content/drive/MyDrive/Raw/OAO.JO.csv')\n",
        "\n",
        "\n",
        "# Visualize the data\n",
        "plt.figure(figsize=(20, 15))\n",
        "df.hist(bins=50, figsize=(20, 15))\n",
        "plt.show()\n",
        "\n",
        "plt.figure(figsize=(10, 6))\n",
        "sns.boxplot(data=df[['Open', 'High', 'Low', 'Close', 'Volume']])\n",
        "plt.show()\n",
        "\n",
        "plt.figure(figsize=(14, 7))\n",
        "plt.plot(df.index, df['Close'], label='Close Price')\n",
        "plt.xlabel('Date')\n",
        "plt.ylabel('Close Price')\n",
        "plt.title('Stock Close Price Over Time')\n",
        "plt.legend()\n",
        "plt.show()\n",
        "\n",
        "plt.figure(figsize=(10, 6))\n",
        "sns.scatterplot(x=df.index, y=df['Close'])\n",
        "plt.title('Scatter Plot of Close Prices')\n",
        "plt.show()\n",
        "\n",
        "sns.heatmap(df.isnull(), cbar=False, cmap='viridis')\n",
        "plt.title('Missing Data Heatmap')\n",
        "plt.show()"
      ],
      "metadata": {
        "id": "Lg9Sh9xvwe-9"
      },
      "execution_count": null,
      "outputs": []
    },
    {
      "cell_type": "code",
      "source": [
        "# Inspect the DataFrame\n",
        "print(df.head())\n",
        "print(df.info())\n",
        "print(df.describe())\n",
        "print(df.isnull().sum())"
      ],
      "metadata": {
        "id": "GMf9LN_7zqZK"
      },
      "execution_count": null,
      "outputs": []
    },
    {
      "cell_type": "code",
      "source": [
        "df = pd.read_csv('/content/drive/MyDrive/Raw/OAO.JO.csv')\n",
        "df2 = pd.read_csv('/content/drive/MyDrive/Stocks/OAO.JO.csv')"
      ],
      "metadata": {
        "id": "HwVYjebh0RXH"
      },
      "execution_count": null,
      "outputs": []
    },
    {
      "cell_type": "code",
      "source": [
        "print(df.info())\n",
        "print(df2.info())"
      ],
      "metadata": {
        "id": "sY_ia3Ht2Bf8"
      },
      "execution_count": null,
      "outputs": []
    },
    {
      "cell_type": "markdown",
      "metadata": {
        "id": "5Iq88Jjt27xE"
      },
      "source": [
        "###ranker.py"
      ]
    },
    {
      "cell_type": "code",
      "execution_count": null,
      "metadata": {
        "id": "ZSXlB3Lgfdgc"
      },
      "outputs": [],
      "source": [
        "\n",
        "import os\n",
        "import pandas as pd\n",
        "import numpy as np\n",
        "import yfinance as yf\n",
        "from scipy.stats import linregress\n",
        "\n",
        "#Make a variable for this is Settings\n",
        "\n",
        "ranking_day = '2024-07-30'\n",
        "\n",
        "\n",
        "# Define the directory containing the CSV files\n",
        "data_dir = '/content/drive/MyDrive/Stocks'\n",
        "\n",
        "# Read tickers from the 'tickers.csv' file\n",
        "tickers_df = pd.read_csv(os.path.join(data_dir, 'tickers.csv'), header=None)\n",
        "tickers = tickers_df[0].tolist()\n",
        "\n",
        "# Create a dictionary to store stock data\n",
        "stock_data = {}\n",
        "for ticker in tickers:\n",
        "    stock_data[ticker] = pd.read_csv(os.path.join(data_dir, f\"{ticker}.csv\"),\n",
        "                                     parse_dates=True, index_col=0)['Close']\n",
        "\n",
        "# Create a DataFrame from the dictionary\n",
        "stocks = pd.DataFrame(stock_data)\n",
        "\n",
        "# Remove duplicate columns\n",
        "stocks = stocks.loc[:, ~stocks.columns.duplicated()]\n",
        "\n",
        "# Calculate momentum\n",
        "def momentum(closes):\n",
        "    log_returns = np.log(closes)\n",
        "    x = np.arange(len(log_returns))\n",
        "    # Use linregress for consistency with previous code and to get rvalue\n",
        "    slope, _, rvalue, _, _ = linregress(x, log_returns)\n",
        "    annualized_slope = (1 + slope) ** 252\n",
        "    momentum_score = annualized_slope * (rvalue ** 2)\n",
        "    return momentum_score\n",
        "\n",
        "momentums = stocks.copy(deep=True)\n",
        "for ticker in tickers:\n",
        "    momentums[ticker] = stocks[ticker].rolling(90).apply(momentum, raw=False)\n",
        "\n",
        "# Rank stocks by momentum - sort by the values in the dataframe on the date provided in the 'ranking_day' variable\n",
        "result = momentums.sort_values(by=momentums.index[-1], axis=1, ascending=False)\n",
        "# Filter the result to only include rows where the date index is greater than or equal to the ranking day\n",
        "res = result[~(result.index < pd.to_datetime(ranking_day))].dropna(axis=1)\n",
        "\n",
        "# Reset the index to make 'Date' a column # This is the key change\n",
        "res = res.reset_index()\n",
        "\n",
        "# Prepare DataFrame for final results\n",
        "# Use the tickers list as the value_vars since they are now columns in the DataFrame\n",
        "finalframe = res.melt(id_vars=['Date'], value_vars=res.columns[1:], var_name='symbol', value_name='momentum_score')\n",
        "finalframe['momentum_score'] = finalframe['momentum_score'].astype(float)\n",
        "finalframe['rank'] = finalframe['momentum_score'].rank(ascending=False)\n",
        "\n",
        "# Filter out rows with momentum score < 0.001\n",
        "finalframe = finalframe[finalframe['momentum_score'] >= 0.001]\n",
        "\n",
        "# Reset the index\n",
        "finalframe.reset_index(drop=True, inplace=True)\n",
        "\n",
        "# Filter out low-ranked stocks (rank >= 50)\n",
        "finalframe = finalframe[finalframe['rank'] < 50]\n",
        "\n",
        "# Function to get company name from ticker\n",
        "def get_company_name(ticker):\n",
        "    try:\n",
        "        stock = yf.Ticker(ticker)\n",
        "        return stock.info['longName']\n",
        "    except KeyError:\n",
        "        return None\n",
        "\n",
        "# Add a new column with company names\n",
        "finalframe['company'] = finalframe['symbol'].apply(get_company_name)\n",
        "\n",
        "finalframe = finalframe.iloc[:, [0,4,1,2,3]]\n",
        "finalframe = finalframe.sort_values(by='rank')\n",
        "finalframe.to_csv('/content/drive/MyDrive/ranking_list.csv')"
      ]
    },
    {
      "cell_type": "code",
      "source": [],
      "metadata": {
        "id": "fq4gxTEmOq_s"
      },
      "execution_count": null,
      "outputs": []
    },
    {
      "cell_type": "code",
      "execution_count": null,
      "metadata": {
        "id": "o9ep1i6OfSzk"
      },
      "outputs": [],
      "source": [
        "# @title\n",
        "top=finalframe.head(10).set_index(\"Date\")"
      ]
    },
    {
      "cell_type": "code",
      "source": [
        "\n",
        "import pandas as pd\n",
        "import matplotlib.pyplot as plt\n",
        "\n",
        "# Create your DataFrame (replace with your actual data)\n",
        "# df = pd.DataFrame({'A': [1, 2, 3, 4], 'B': ['A', 'B', 'C', 'D']})\n",
        "\n",
        "# Create a table plot without axes\n",
        "fig, ax = plt.subplots()\n",
        "ax.xaxis.set_visible(False)\n",
        "ax.yaxis.set_visible(False)\n",
        "ax.set_frame_on(False)\n",
        "\n",
        "# Create the table\n",
        "table = plt.table(cellText=top.values, colLabels=top.columns, loc='center', cellLoc='center', bbox=[0, 0, 1, 1])\n",
        "\n",
        "# Adjust the font size\n",
        "table.auto_set_font_size(False)\n",
        "table.set_fontsize(8)\n",
        "\n",
        "# Adjust column widths to fit the values\n",
        "table.auto_set_column_width(col=list(range(len(top.columns))))\n",
        "\n",
        "# Save the plot as a PNG\n",
        "plt.savefig('top10_29Jul2024.png', dpi=300)  # Adjust dpi for higher resolution\n",
        "plt.show()"
      ],
      "metadata": {
        "id": "KjUTKbS8CClT"
      },
      "execution_count": null,
      "outputs": []
    },
    {
      "cell_type": "markdown",
      "metadata": {
        "id": "VuEnsRplb-d_"
      },
      "source": [
        "###metrics.py"
      ]
    },
    {
      "cell_type": "code",
      "execution_count": null,
      "metadata": {
        "id": "Kk1_R5chbbW9",
        "colab": {
          "base_uri": "https://localhost:8080/",
          "height": 1000
        },
        "outputId": "44f7aac8-0d1b-4467-b769-a8fa4b917e80"
      },
      "outputs": [
        {
          "output_type": "execute_result",
          "data": {
            "text/plain": [
              "         Date                                 company  symbol  momentum_score  \\\n",
              "1  2024-07-30                             Tharisa plc  THA.JO        2.547305   \n",
              "2  2024-07-30                      The SPAR Group Ltd  SPP.JO        2.534313   \n",
              "3  2024-07-30       Wilson Bayly Holmes-Ovcon Limited  WBO.JO        2.316744   \n",
              "4  2024-07-30              The Foschini Group Limited  TFG.JO        2.165664   \n",
              "5  2024-07-30                      Copper 360 Limited  CPR.JO        2.002542   \n",
              "6  2024-07-30                        Grindrod Limited  GND.JO        1.765146   \n",
              "7  2024-07-30                  Mr Price Group Limited  MRP.JO        1.717631   \n",
              "8  2024-07-30  Randgold & Exploration Company Limited  RNG.JO        1.715443   \n",
              "9  2024-07-30              Trellidor Holdings Limited  TRL.JO        1.700329   \n",
              "10 2024-07-30         Truworths International Limited  TRU.JO        1.543763   \n",
              "11 2024-07-30                       KAL Group Limited  KAL.JO        1.456682   \n",
              "12 2024-07-30                Crookes Brothers Limited  CKS.JO        1.431365   \n",
              "13 2024-07-30     Frontier Transport Holdings Limited  FTH.JO        1.325878   \n",
              "14 2024-07-30                         Afrimat Limited  AFT.JO        1.307407   \n",
              "15 2024-07-30               Hudaco Industries Limited  HDC.JO        1.273341   \n",
              "16 2024-07-30               CA Sales Holdings Limited  CAA.JO        1.217753   \n",
              "17 2024-07-30                       Cashbuild Limited  CSB.JO        1.192062   \n",
              "18 2024-07-30            York Timber Holdings Limited  YRK.JO        1.163413   \n",
              "19 2024-07-30                OUTsurance Group Limited  OUT.JO        1.120493   \n",
              "20 2024-07-30                         Santova Limited  SNV.JO        1.096971   \n",
              "21 2024-07-30            Texton Property Fund Limited  TEX.JO        1.073120   \n",
              "22 2024-07-30                     Super Group Limited  SPG.JO        1.058665   \n",
              "23 2024-07-30               Lesaka Technologies, Inc.  LSK.JO        0.903262   \n",
              "24 2024-07-30                   AngloGold Ashanti plc  ANG.JO        0.888946   \n",
              "25 2024-07-30          Growthpoint Properties Limited  GRT.JO        0.858870   \n",
              "26 2024-07-30                              MAS P.L.C.  MSP.JO        0.837713   \n",
              "27 2024-07-30                  Omnia Holdings Limited  OMN.JO        0.711396   \n",
              "29 2024-07-30                             KAP Limited  KAP.JO        0.639193   \n",
              "30 2024-07-30           Mahube Infrastructure Limited  MHB.JO        0.635923   \n",
              "31 2024-07-30                      Absa Group Limited  ABG.JO        0.618308   \n",
              "32 2024-07-30             Dis-Chem Pharmacies Limited  DCP.JO        0.501882   \n",
              "33 2024-07-30            Choppies Enterprises Limited  CHP.JO        0.499440   \n",
              "34 2024-07-30              Calgro M3 Holdings Limited  CGR.JO        0.494247   \n",
              "35 2024-07-30                    Tiger Brands Limited  TBS.JO        0.459419   \n",
              "36 2024-07-30        Grand Parade Investments Limited  GPL.JO        0.426980   \n",
              "37 2024-07-30         Grindrod Shipping Holdings Ltd.  GSH.JO        0.392377   \n",
              "38 2024-07-30                    RMB Holdings Limited  RMH.JO        0.359336   \n",
              "39 2024-07-30                       Transpaco Limited  TPC.JO        0.288736   \n",
              "41 2024-07-30               City Lodge Hotels Limited  CLH.JO        0.216922   \n",
              "43 2024-07-30                  Marshall Monteagle PLC  MMP.JO        0.152229   \n",
              "44 2024-07-30     Harmony Gold Mining Company Limited  HAR.JO        0.147652   \n",
              "45 2024-07-30             Blue Label Telecoms Limited  BLU.JO        0.102462   \n",
              "46 2024-07-30               Deneb Investments Limited  DNB.JO        0.089071   \n",
              "\n",
              "    rank    Close  20_day_volatility  90_day_return  100_day_mean  \\\n",
              "1    2.0   1931.0           0.091523       0.005384       1678.43   \n",
              "2    3.0  12500.0           0.046400       0.004086      10366.94   \n",
              "3    4.0  17876.0           0.057355       0.003179      14987.42   \n",
              "4    5.0  13500.0           0.055310       0.003063      11060.00   \n",
              "5    6.0    413.0           0.103027       0.005112        386.26   \n",
              "6    7.0   1573.0           0.037333       0.002855       1377.60   \n",
              "7    8.0  21230.0           0.061923       0.002258      18509.54   \n",
              "8    9.0     73.0           0.251327       0.003993         65.29   \n",
              "9   10.0    168.0           0.292821       0.001637        160.33   \n",
              "10  11.0   8911.0           0.071364       0.001206       8213.76   \n",
              "11  12.0   4675.0           0.091007       0.001874       4442.35   \n",
              "12  13.0   3695.0           0.103466       0.002396       2995.17   \n",
              "13  14.0    795.0           0.177860       0.002274        661.56   \n",
              "14  15.0   6938.0           0.063413       0.002344       6582.64   \n",
              "15  16.0  17651.0           0.043494       0.001302      16726.66   \n",
              "16  17.0   1330.0           0.149964       0.001852       1216.78   \n",
              "17  18.0  16430.0           0.101164       0.002765      14900.70   \n",
              "18  19.0    214.0           0.204791       0.003236        175.90   \n",
              "19  20.0   4716.0           0.050616       0.001603       4289.47   \n",
              "20  21.0    801.0           0.039539       0.002324        747.27   \n",
              "21  22.0    341.0           0.096575       0.003455        305.95   \n",
              "22  23.0   3014.0           0.084602       0.001807       2783.41   \n",
              "23  24.0   9187.0           0.164562       0.003487       8000.35   \n",
              "24  25.0  49870.0           0.081633       0.002524      45141.64   \n",
              "25  26.0   1216.0           0.049345       0.000601       1145.51   \n",
              "26  27.0   1820.0           0.057536       0.001488       1679.37   \n",
              "27  28.0   6565.0           0.065897       0.001146       6007.33   \n",
              "29  30.0    301.0           0.104064       0.002381        270.88   \n",
              "30  31.0    495.0           0.110150       0.000365        466.80   \n",
              "31  32.0  15879.0           0.065546       0.000617      15366.96   \n",
              "32  33.0   3529.0           0.065010       0.001022       3306.07   \n",
              "33  34.0     66.0           0.207225       0.001827         59.99   \n",
              "34  35.0    565.0           0.081865       0.001493        543.63   \n",
              "35  36.0  22267.0           0.060243       0.000950      20468.44   \n",
              "36  37.0    375.0           0.188908       0.003211        334.60   \n",
              "37  38.0  25600.0           0.122878       0.003407      23584.10   \n",
              "38  39.0     42.0           0.102261       0.001409         39.62   \n",
              "39  40.0   3226.0           0.129536       0.000100       3116.47   \n",
              "41  42.0    441.0           0.092812       0.000675        427.15   \n",
              "43  44.0   2826.0           0.077378       0.000107       2824.55   \n",
              "44  45.0  16600.0           0.160815       0.001581      16561.22   \n",
              "45  46.0    425.0           0.065704       0.000372        419.30   \n",
              "46  47.0    235.0           0.078988       0.000239        228.72   \n",
              "\n",
              "     index_mean  stock_trend  market_trend    weight        units          ZAR  \n",
              "1   3725.939064         True          True  0.018440   119.783492  2313.019230  \n",
              "2   3725.939064         True          True  0.036372    36.498776  4562.347059  \n",
              "3   3725.939064         True          True  0.029425    20.647344  3690.919165  \n",
              "4   3725.939064         True          True  0.030513    28.351340  3827.430910  \n",
              "5   3725.939064         True          True  0.016381   497.513817  2054.732066  \n",
              "6   3725.939064         True          True  0.045206   360.481213  5670.369486  \n",
              "7   3725.939064         True          True  0.027254    16.102986  3418.663848  \n",
              "8   3725.939064         True          True  0.006715  1153.840822   842.303800  \n",
              "9   3725.939064         True          True  0.005764   430.325519   722.946871  \n",
              "10  3725.939064         True          True  0.023649    33.289261  2966.406009  \n",
              "11  3725.939064         True          True  0.018544    49.756456  2326.114335  \n",
              "12  3725.939064         True          True  0.016311    55.372623  2046.018419  \n",
              "13  3725.939064         True          True  0.009489   149.714245  1190.228247  \n",
              "14  3725.939064         True          True  0.026614    48.116954  3338.354242  \n",
              "15  3725.939064         True          True  0.038802    27.574300  4867.139631  \n",
              "16  3725.939064         True          True  0.011254   106.137650  1411.630747  \n",
              "17  3725.939064         True          True  0.016683    12.736323  2092.577904  \n",
              "18  3725.939064         True          True  0.008241   483.039776  1033.705122  \n",
              "19  3725.939064         True          True  0.033343    88.684259  4182.349665  \n",
              "20  3725.939064         True          True  0.042684   668.416672  5354.017545  \n",
              "21  3725.939064         True          True  0.017475   642.816432  2192.004034  \n",
              "22  3725.939064         True          True  0.019948    83.020653  2502.242475  \n",
              "23  3725.939064         True          True  0.010256    14.002509  1286.410512  \n",
              "24  3725.939064         True          True  0.020674     5.199968  2593.224217  \n",
              "25  3725.939064         True          True  0.034201   352.801512  4290.066380  \n",
              "26  3725.939064         True          True  0.029332   202.160286  3679.317206  \n",
              "27  3725.939064         True          True  0.025611    48.933514  3212.485202  \n",
              "29  3725.939064         True          True  0.016218   675.834870  2034.262958  \n",
              "30  3725.939064         True          True  0.015322   388.254780  1921.861160  \n",
              "31  3725.939064         True          True  0.025748    20.339428  3229.697770  \n",
              "32  3725.939064         True          True  0.025960    92.273238  3256.322554  \n",
              "33  3725.939064         True          True  0.008144  1547.826234  1021.565314  \n",
              "34  3725.939064         True          True  0.020615   457.679742  2585.890540  \n",
              "35  3725.939064         True          True  0.028015    15.781246  3514.009970  \n",
              "36  3725.939064         True          True  0.008934   298.830913  1120.615922  \n",
              "37  3725.939064         True          True  0.013735     6.729688  1722.800120  \n",
              "38  3725.939064         True          True  0.016504  4928.904817  2070.140023  \n",
              "39  3725.939064         True          True  0.013029    50.658743  1634.251043  \n",
              "41  3725.939064         True          True  0.018184   517.209603  2280.894350  \n",
              "43  3725.939064         True          True  0.021811    96.809438  2735.834713  \n",
              "44  3725.939064         True          True  0.010494     7.929994  1316.378996  \n",
              "45  3725.939064         True          True  0.025686   758.103393  3221.939420  \n",
              "46  3725.939064         True          True  0.021366  1140.463093  2680.088268  "
            ],
            "text/html": [
              "\n",
              "  <div id=\"df-f477662c-4db3-4dba-93df-c5c3918b633b\" class=\"colab-df-container\">\n",
              "    <div>\n",
              "<style scoped>\n",
              "    .dataframe tbody tr th:only-of-type {\n",
              "        vertical-align: middle;\n",
              "    }\n",
              "\n",
              "    .dataframe tbody tr th {\n",
              "        vertical-align: top;\n",
              "    }\n",
              "\n",
              "    .dataframe thead th {\n",
              "        text-align: right;\n",
              "    }\n",
              "</style>\n",
              "<table border=\"1\" class=\"dataframe\">\n",
              "  <thead>\n",
              "    <tr style=\"text-align: right;\">\n",
              "      <th></th>\n",
              "      <th>Date</th>\n",
              "      <th>company</th>\n",
              "      <th>symbol</th>\n",
              "      <th>momentum_score</th>\n",
              "      <th>rank</th>\n",
              "      <th>Close</th>\n",
              "      <th>20_day_volatility</th>\n",
              "      <th>90_day_return</th>\n",
              "      <th>100_day_mean</th>\n",
              "      <th>index_mean</th>\n",
              "      <th>stock_trend</th>\n",
              "      <th>market_trend</th>\n",
              "      <th>weight</th>\n",
              "      <th>units</th>\n",
              "      <th>ZAR</th>\n",
              "    </tr>\n",
              "  </thead>\n",
              "  <tbody>\n",
              "    <tr>\n",
              "      <th>1</th>\n",
              "      <td>2024-07-30</td>\n",
              "      <td>Tharisa plc</td>\n",
              "      <td>THA.JO</td>\n",
              "      <td>2.547305</td>\n",
              "      <td>2.0</td>\n",
              "      <td>1931.0</td>\n",
              "      <td>0.091523</td>\n",
              "      <td>0.005384</td>\n",
              "      <td>1678.43</td>\n",
              "      <td>3725.939064</td>\n",
              "      <td>True</td>\n",
              "      <td>True</td>\n",
              "      <td>0.018440</td>\n",
              "      <td>119.783492</td>\n",
              "      <td>2313.019230</td>\n",
              "    </tr>\n",
              "    <tr>\n",
              "      <th>2</th>\n",
              "      <td>2024-07-30</td>\n",
              "      <td>The SPAR Group Ltd</td>\n",
              "      <td>SPP.JO</td>\n",
              "      <td>2.534313</td>\n",
              "      <td>3.0</td>\n",
              "      <td>12500.0</td>\n",
              "      <td>0.046400</td>\n",
              "      <td>0.004086</td>\n",
              "      <td>10366.94</td>\n",
              "      <td>3725.939064</td>\n",
              "      <td>True</td>\n",
              "      <td>True</td>\n",
              "      <td>0.036372</td>\n",
              "      <td>36.498776</td>\n",
              "      <td>4562.347059</td>\n",
              "    </tr>\n",
              "    <tr>\n",
              "      <th>3</th>\n",
              "      <td>2024-07-30</td>\n",
              "      <td>Wilson Bayly Holmes-Ovcon Limited</td>\n",
              "      <td>WBO.JO</td>\n",
              "      <td>2.316744</td>\n",
              "      <td>4.0</td>\n",
              "      <td>17876.0</td>\n",
              "      <td>0.057355</td>\n",
              "      <td>0.003179</td>\n",
              "      <td>14987.42</td>\n",
              "      <td>3725.939064</td>\n",
              "      <td>True</td>\n",
              "      <td>True</td>\n",
              "      <td>0.029425</td>\n",
              "      <td>20.647344</td>\n",
              "      <td>3690.919165</td>\n",
              "    </tr>\n",
              "    <tr>\n",
              "      <th>4</th>\n",
              "      <td>2024-07-30</td>\n",
              "      <td>The Foschini Group Limited</td>\n",
              "      <td>TFG.JO</td>\n",
              "      <td>2.165664</td>\n",
              "      <td>5.0</td>\n",
              "      <td>13500.0</td>\n",
              "      <td>0.055310</td>\n",
              "      <td>0.003063</td>\n",
              "      <td>11060.00</td>\n",
              "      <td>3725.939064</td>\n",
              "      <td>True</td>\n",
              "      <td>True</td>\n",
              "      <td>0.030513</td>\n",
              "      <td>28.351340</td>\n",
              "      <td>3827.430910</td>\n",
              "    </tr>\n",
              "    <tr>\n",
              "      <th>5</th>\n",
              "      <td>2024-07-30</td>\n",
              "      <td>Copper 360 Limited</td>\n",
              "      <td>CPR.JO</td>\n",
              "      <td>2.002542</td>\n",
              "      <td>6.0</td>\n",
              "      <td>413.0</td>\n",
              "      <td>0.103027</td>\n",
              "      <td>0.005112</td>\n",
              "      <td>386.26</td>\n",
              "      <td>3725.939064</td>\n",
              "      <td>True</td>\n",
              "      <td>True</td>\n",
              "      <td>0.016381</td>\n",
              "      <td>497.513817</td>\n",
              "      <td>2054.732066</td>\n",
              "    </tr>\n",
              "    <tr>\n",
              "      <th>6</th>\n",
              "      <td>2024-07-30</td>\n",
              "      <td>Grindrod Limited</td>\n",
              "      <td>GND.JO</td>\n",
              "      <td>1.765146</td>\n",
              "      <td>7.0</td>\n",
              "      <td>1573.0</td>\n",
              "      <td>0.037333</td>\n",
              "      <td>0.002855</td>\n",
              "      <td>1377.60</td>\n",
              "      <td>3725.939064</td>\n",
              "      <td>True</td>\n",
              "      <td>True</td>\n",
              "      <td>0.045206</td>\n",
              "      <td>360.481213</td>\n",
              "      <td>5670.369486</td>\n",
              "    </tr>\n",
              "    <tr>\n",
              "      <th>7</th>\n",
              "      <td>2024-07-30</td>\n",
              "      <td>Mr Price Group Limited</td>\n",
              "      <td>MRP.JO</td>\n",
              "      <td>1.717631</td>\n",
              "      <td>8.0</td>\n",
              "      <td>21230.0</td>\n",
              "      <td>0.061923</td>\n",
              "      <td>0.002258</td>\n",
              "      <td>18509.54</td>\n",
              "      <td>3725.939064</td>\n",
              "      <td>True</td>\n",
              "      <td>True</td>\n",
              "      <td>0.027254</td>\n",
              "      <td>16.102986</td>\n",
              "      <td>3418.663848</td>\n",
              "    </tr>\n",
              "    <tr>\n",
              "      <th>8</th>\n",
              "      <td>2024-07-30</td>\n",
              "      <td>Randgold &amp; Exploration Company Limited</td>\n",
              "      <td>RNG.JO</td>\n",
              "      <td>1.715443</td>\n",
              "      <td>9.0</td>\n",
              "      <td>73.0</td>\n",
              "      <td>0.251327</td>\n",
              "      <td>0.003993</td>\n",
              "      <td>65.29</td>\n",
              "      <td>3725.939064</td>\n",
              "      <td>True</td>\n",
              "      <td>True</td>\n",
              "      <td>0.006715</td>\n",
              "      <td>1153.840822</td>\n",
              "      <td>842.303800</td>\n",
              "    </tr>\n",
              "    <tr>\n",
              "      <th>9</th>\n",
              "      <td>2024-07-30</td>\n",
              "      <td>Trellidor Holdings Limited</td>\n",
              "      <td>TRL.JO</td>\n",
              "      <td>1.700329</td>\n",
              "      <td>10.0</td>\n",
              "      <td>168.0</td>\n",
              "      <td>0.292821</td>\n",
              "      <td>0.001637</td>\n",
              "      <td>160.33</td>\n",
              "      <td>3725.939064</td>\n",
              "      <td>True</td>\n",
              "      <td>True</td>\n",
              "      <td>0.005764</td>\n",
              "      <td>430.325519</td>\n",
              "      <td>722.946871</td>\n",
              "    </tr>\n",
              "    <tr>\n",
              "      <th>10</th>\n",
              "      <td>2024-07-30</td>\n",
              "      <td>Truworths International Limited</td>\n",
              "      <td>TRU.JO</td>\n",
              "      <td>1.543763</td>\n",
              "      <td>11.0</td>\n",
              "      <td>8911.0</td>\n",
              "      <td>0.071364</td>\n",
              "      <td>0.001206</td>\n",
              "      <td>8213.76</td>\n",
              "      <td>3725.939064</td>\n",
              "      <td>True</td>\n",
              "      <td>True</td>\n",
              "      <td>0.023649</td>\n",
              "      <td>33.289261</td>\n",
              "      <td>2966.406009</td>\n",
              "    </tr>\n",
              "    <tr>\n",
              "      <th>11</th>\n",
              "      <td>2024-07-30</td>\n",
              "      <td>KAL Group Limited</td>\n",
              "      <td>KAL.JO</td>\n",
              "      <td>1.456682</td>\n",
              "      <td>12.0</td>\n",
              "      <td>4675.0</td>\n",
              "      <td>0.091007</td>\n",
              "      <td>0.001874</td>\n",
              "      <td>4442.35</td>\n",
              "      <td>3725.939064</td>\n",
              "      <td>True</td>\n",
              "      <td>True</td>\n",
              "      <td>0.018544</td>\n",
              "      <td>49.756456</td>\n",
              "      <td>2326.114335</td>\n",
              "    </tr>\n",
              "    <tr>\n",
              "      <th>12</th>\n",
              "      <td>2024-07-30</td>\n",
              "      <td>Crookes Brothers Limited</td>\n",
              "      <td>CKS.JO</td>\n",
              "      <td>1.431365</td>\n",
              "      <td>13.0</td>\n",
              "      <td>3695.0</td>\n",
              "      <td>0.103466</td>\n",
              "      <td>0.002396</td>\n",
              "      <td>2995.17</td>\n",
              "      <td>3725.939064</td>\n",
              "      <td>True</td>\n",
              "      <td>True</td>\n",
              "      <td>0.016311</td>\n",
              "      <td>55.372623</td>\n",
              "      <td>2046.018419</td>\n",
              "    </tr>\n",
              "    <tr>\n",
              "      <th>13</th>\n",
              "      <td>2024-07-30</td>\n",
              "      <td>Frontier Transport Holdings Limited</td>\n",
              "      <td>FTH.JO</td>\n",
              "      <td>1.325878</td>\n",
              "      <td>14.0</td>\n",
              "      <td>795.0</td>\n",
              "      <td>0.177860</td>\n",
              "      <td>0.002274</td>\n",
              "      <td>661.56</td>\n",
              "      <td>3725.939064</td>\n",
              "      <td>True</td>\n",
              "      <td>True</td>\n",
              "      <td>0.009489</td>\n",
              "      <td>149.714245</td>\n",
              "      <td>1190.228247</td>\n",
              "    </tr>\n",
              "    <tr>\n",
              "      <th>14</th>\n",
              "      <td>2024-07-30</td>\n",
              "      <td>Afrimat Limited</td>\n",
              "      <td>AFT.JO</td>\n",
              "      <td>1.307407</td>\n",
              "      <td>15.0</td>\n",
              "      <td>6938.0</td>\n",
              "      <td>0.063413</td>\n",
              "      <td>0.002344</td>\n",
              "      <td>6582.64</td>\n",
              "      <td>3725.939064</td>\n",
              "      <td>True</td>\n",
              "      <td>True</td>\n",
              "      <td>0.026614</td>\n",
              "      <td>48.116954</td>\n",
              "      <td>3338.354242</td>\n",
              "    </tr>\n",
              "    <tr>\n",
              "      <th>15</th>\n",
              "      <td>2024-07-30</td>\n",
              "      <td>Hudaco Industries Limited</td>\n",
              "      <td>HDC.JO</td>\n",
              "      <td>1.273341</td>\n",
              "      <td>16.0</td>\n",
              "      <td>17651.0</td>\n",
              "      <td>0.043494</td>\n",
              "      <td>0.001302</td>\n",
              "      <td>16726.66</td>\n",
              "      <td>3725.939064</td>\n",
              "      <td>True</td>\n",
              "      <td>True</td>\n",
              "      <td>0.038802</td>\n",
              "      <td>27.574300</td>\n",
              "      <td>4867.139631</td>\n",
              "    </tr>\n",
              "    <tr>\n",
              "      <th>16</th>\n",
              "      <td>2024-07-30</td>\n",
              "      <td>CA Sales Holdings Limited</td>\n",
              "      <td>CAA.JO</td>\n",
              "      <td>1.217753</td>\n",
              "      <td>17.0</td>\n",
              "      <td>1330.0</td>\n",
              "      <td>0.149964</td>\n",
              "      <td>0.001852</td>\n",
              "      <td>1216.78</td>\n",
              "      <td>3725.939064</td>\n",
              "      <td>True</td>\n",
              "      <td>True</td>\n",
              "      <td>0.011254</td>\n",
              "      <td>106.137650</td>\n",
              "      <td>1411.630747</td>\n",
              "    </tr>\n",
              "    <tr>\n",
              "      <th>17</th>\n",
              "      <td>2024-07-30</td>\n",
              "      <td>Cashbuild Limited</td>\n",
              "      <td>CSB.JO</td>\n",
              "      <td>1.192062</td>\n",
              "      <td>18.0</td>\n",
              "      <td>16430.0</td>\n",
              "      <td>0.101164</td>\n",
              "      <td>0.002765</td>\n",
              "      <td>14900.70</td>\n",
              "      <td>3725.939064</td>\n",
              "      <td>True</td>\n",
              "      <td>True</td>\n",
              "      <td>0.016683</td>\n",
              "      <td>12.736323</td>\n",
              "      <td>2092.577904</td>\n",
              "    </tr>\n",
              "    <tr>\n",
              "      <th>18</th>\n",
              "      <td>2024-07-30</td>\n",
              "      <td>York Timber Holdings Limited</td>\n",
              "      <td>YRK.JO</td>\n",
              "      <td>1.163413</td>\n",
              "      <td>19.0</td>\n",
              "      <td>214.0</td>\n",
              "      <td>0.204791</td>\n",
              "      <td>0.003236</td>\n",
              "      <td>175.90</td>\n",
              "      <td>3725.939064</td>\n",
              "      <td>True</td>\n",
              "      <td>True</td>\n",
              "      <td>0.008241</td>\n",
              "      <td>483.039776</td>\n",
              "      <td>1033.705122</td>\n",
              "    </tr>\n",
              "    <tr>\n",
              "      <th>19</th>\n",
              "      <td>2024-07-30</td>\n",
              "      <td>OUTsurance Group Limited</td>\n",
              "      <td>OUT.JO</td>\n",
              "      <td>1.120493</td>\n",
              "      <td>20.0</td>\n",
              "      <td>4716.0</td>\n",
              "      <td>0.050616</td>\n",
              "      <td>0.001603</td>\n",
              "      <td>4289.47</td>\n",
              "      <td>3725.939064</td>\n",
              "      <td>True</td>\n",
              "      <td>True</td>\n",
              "      <td>0.033343</td>\n",
              "      <td>88.684259</td>\n",
              "      <td>4182.349665</td>\n",
              "    </tr>\n",
              "    <tr>\n",
              "      <th>20</th>\n",
              "      <td>2024-07-30</td>\n",
              "      <td>Santova Limited</td>\n",
              "      <td>SNV.JO</td>\n",
              "      <td>1.096971</td>\n",
              "      <td>21.0</td>\n",
              "      <td>801.0</td>\n",
              "      <td>0.039539</td>\n",
              "      <td>0.002324</td>\n",
              "      <td>747.27</td>\n",
              "      <td>3725.939064</td>\n",
              "      <td>True</td>\n",
              "      <td>True</td>\n",
              "      <td>0.042684</td>\n",
              "      <td>668.416672</td>\n",
              "      <td>5354.017545</td>\n",
              "    </tr>\n",
              "    <tr>\n",
              "      <th>21</th>\n",
              "      <td>2024-07-30</td>\n",
              "      <td>Texton Property Fund Limited</td>\n",
              "      <td>TEX.JO</td>\n",
              "      <td>1.073120</td>\n",
              "      <td>22.0</td>\n",
              "      <td>341.0</td>\n",
              "      <td>0.096575</td>\n",
              "      <td>0.003455</td>\n",
              "      <td>305.95</td>\n",
              "      <td>3725.939064</td>\n",
              "      <td>True</td>\n",
              "      <td>True</td>\n",
              "      <td>0.017475</td>\n",
              "      <td>642.816432</td>\n",
              "      <td>2192.004034</td>\n",
              "    </tr>\n",
              "    <tr>\n",
              "      <th>22</th>\n",
              "      <td>2024-07-30</td>\n",
              "      <td>Super Group Limited</td>\n",
              "      <td>SPG.JO</td>\n",
              "      <td>1.058665</td>\n",
              "      <td>23.0</td>\n",
              "      <td>3014.0</td>\n",
              "      <td>0.084602</td>\n",
              "      <td>0.001807</td>\n",
              "      <td>2783.41</td>\n",
              "      <td>3725.939064</td>\n",
              "      <td>True</td>\n",
              "      <td>True</td>\n",
              "      <td>0.019948</td>\n",
              "      <td>83.020653</td>\n",
              "      <td>2502.242475</td>\n",
              "    </tr>\n",
              "    <tr>\n",
              "      <th>23</th>\n",
              "      <td>2024-07-30</td>\n",
              "      <td>Lesaka Technologies, Inc.</td>\n",
              "      <td>LSK.JO</td>\n",
              "      <td>0.903262</td>\n",
              "      <td>24.0</td>\n",
              "      <td>9187.0</td>\n",
              "      <td>0.164562</td>\n",
              "      <td>0.003487</td>\n",
              "      <td>8000.35</td>\n",
              "      <td>3725.939064</td>\n",
              "      <td>True</td>\n",
              "      <td>True</td>\n",
              "      <td>0.010256</td>\n",
              "      <td>14.002509</td>\n",
              "      <td>1286.410512</td>\n",
              "    </tr>\n",
              "    <tr>\n",
              "      <th>24</th>\n",
              "      <td>2024-07-30</td>\n",
              "      <td>AngloGold Ashanti plc</td>\n",
              "      <td>ANG.JO</td>\n",
              "      <td>0.888946</td>\n",
              "      <td>25.0</td>\n",
              "      <td>49870.0</td>\n",
              "      <td>0.081633</td>\n",
              "      <td>0.002524</td>\n",
              "      <td>45141.64</td>\n",
              "      <td>3725.939064</td>\n",
              "      <td>True</td>\n",
              "      <td>True</td>\n",
              "      <td>0.020674</td>\n",
              "      <td>5.199968</td>\n",
              "      <td>2593.224217</td>\n",
              "    </tr>\n",
              "    <tr>\n",
              "      <th>25</th>\n",
              "      <td>2024-07-30</td>\n",
              "      <td>Growthpoint Properties Limited</td>\n",
              "      <td>GRT.JO</td>\n",
              "      <td>0.858870</td>\n",
              "      <td>26.0</td>\n",
              "      <td>1216.0</td>\n",
              "      <td>0.049345</td>\n",
              "      <td>0.000601</td>\n",
              "      <td>1145.51</td>\n",
              "      <td>3725.939064</td>\n",
              "      <td>True</td>\n",
              "      <td>True</td>\n",
              "      <td>0.034201</td>\n",
              "      <td>352.801512</td>\n",
              "      <td>4290.066380</td>\n",
              "    </tr>\n",
              "    <tr>\n",
              "      <th>26</th>\n",
              "      <td>2024-07-30</td>\n",
              "      <td>MAS P.L.C.</td>\n",
              "      <td>MSP.JO</td>\n",
              "      <td>0.837713</td>\n",
              "      <td>27.0</td>\n",
              "      <td>1820.0</td>\n",
              "      <td>0.057536</td>\n",
              "      <td>0.001488</td>\n",
              "      <td>1679.37</td>\n",
              "      <td>3725.939064</td>\n",
              "      <td>True</td>\n",
              "      <td>True</td>\n",
              "      <td>0.029332</td>\n",
              "      <td>202.160286</td>\n",
              "      <td>3679.317206</td>\n",
              "    </tr>\n",
              "    <tr>\n",
              "      <th>27</th>\n",
              "      <td>2024-07-30</td>\n",
              "      <td>Omnia Holdings Limited</td>\n",
              "      <td>OMN.JO</td>\n",
              "      <td>0.711396</td>\n",
              "      <td>28.0</td>\n",
              "      <td>6565.0</td>\n",
              "      <td>0.065897</td>\n",
              "      <td>0.001146</td>\n",
              "      <td>6007.33</td>\n",
              "      <td>3725.939064</td>\n",
              "      <td>True</td>\n",
              "      <td>True</td>\n",
              "      <td>0.025611</td>\n",
              "      <td>48.933514</td>\n",
              "      <td>3212.485202</td>\n",
              "    </tr>\n",
              "    <tr>\n",
              "      <th>29</th>\n",
              "      <td>2024-07-30</td>\n",
              "      <td>KAP Limited</td>\n",
              "      <td>KAP.JO</td>\n",
              "      <td>0.639193</td>\n",
              "      <td>30.0</td>\n",
              "      <td>301.0</td>\n",
              "      <td>0.104064</td>\n",
              "      <td>0.002381</td>\n",
              "      <td>270.88</td>\n",
              "      <td>3725.939064</td>\n",
              "      <td>True</td>\n",
              "      <td>True</td>\n",
              "      <td>0.016218</td>\n",
              "      <td>675.834870</td>\n",
              "      <td>2034.262958</td>\n",
              "    </tr>\n",
              "    <tr>\n",
              "      <th>30</th>\n",
              "      <td>2024-07-30</td>\n",
              "      <td>Mahube Infrastructure Limited</td>\n",
              "      <td>MHB.JO</td>\n",
              "      <td>0.635923</td>\n",
              "      <td>31.0</td>\n",
              "      <td>495.0</td>\n",
              "      <td>0.110150</td>\n",
              "      <td>0.000365</td>\n",
              "      <td>466.80</td>\n",
              "      <td>3725.939064</td>\n",
              "      <td>True</td>\n",
              "      <td>True</td>\n",
              "      <td>0.015322</td>\n",
              "      <td>388.254780</td>\n",
              "      <td>1921.861160</td>\n",
              "    </tr>\n",
              "    <tr>\n",
              "      <th>31</th>\n",
              "      <td>2024-07-30</td>\n",
              "      <td>Absa Group Limited</td>\n",
              "      <td>ABG.JO</td>\n",
              "      <td>0.618308</td>\n",
              "      <td>32.0</td>\n",
              "      <td>15879.0</td>\n",
              "      <td>0.065546</td>\n",
              "      <td>0.000617</td>\n",
              "      <td>15366.96</td>\n",
              "      <td>3725.939064</td>\n",
              "      <td>True</td>\n",
              "      <td>True</td>\n",
              "      <td>0.025748</td>\n",
              "      <td>20.339428</td>\n",
              "      <td>3229.697770</td>\n",
              "    </tr>\n",
              "    <tr>\n",
              "      <th>32</th>\n",
              "      <td>2024-07-30</td>\n",
              "      <td>Dis-Chem Pharmacies Limited</td>\n",
              "      <td>DCP.JO</td>\n",
              "      <td>0.501882</td>\n",
              "      <td>33.0</td>\n",
              "      <td>3529.0</td>\n",
              "      <td>0.065010</td>\n",
              "      <td>0.001022</td>\n",
              "      <td>3306.07</td>\n",
              "      <td>3725.939064</td>\n",
              "      <td>True</td>\n",
              "      <td>True</td>\n",
              "      <td>0.025960</td>\n",
              "      <td>92.273238</td>\n",
              "      <td>3256.322554</td>\n",
              "    </tr>\n",
              "    <tr>\n",
              "      <th>33</th>\n",
              "      <td>2024-07-30</td>\n",
              "      <td>Choppies Enterprises Limited</td>\n",
              "      <td>CHP.JO</td>\n",
              "      <td>0.499440</td>\n",
              "      <td>34.0</td>\n",
              "      <td>66.0</td>\n",
              "      <td>0.207225</td>\n",
              "      <td>0.001827</td>\n",
              "      <td>59.99</td>\n",
              "      <td>3725.939064</td>\n",
              "      <td>True</td>\n",
              "      <td>True</td>\n",
              "      <td>0.008144</td>\n",
              "      <td>1547.826234</td>\n",
              "      <td>1021.565314</td>\n",
              "    </tr>\n",
              "    <tr>\n",
              "      <th>34</th>\n",
              "      <td>2024-07-30</td>\n",
              "      <td>Calgro M3 Holdings Limited</td>\n",
              "      <td>CGR.JO</td>\n",
              "      <td>0.494247</td>\n",
              "      <td>35.0</td>\n",
              "      <td>565.0</td>\n",
              "      <td>0.081865</td>\n",
              "      <td>0.001493</td>\n",
              "      <td>543.63</td>\n",
              "      <td>3725.939064</td>\n",
              "      <td>True</td>\n",
              "      <td>True</td>\n",
              "      <td>0.020615</td>\n",
              "      <td>457.679742</td>\n",
              "      <td>2585.890540</td>\n",
              "    </tr>\n",
              "    <tr>\n",
              "      <th>35</th>\n",
              "      <td>2024-07-30</td>\n",
              "      <td>Tiger Brands Limited</td>\n",
              "      <td>TBS.JO</td>\n",
              "      <td>0.459419</td>\n",
              "      <td>36.0</td>\n",
              "      <td>22267.0</td>\n",
              "      <td>0.060243</td>\n",
              "      <td>0.000950</td>\n",
              "      <td>20468.44</td>\n",
              "      <td>3725.939064</td>\n",
              "      <td>True</td>\n",
              "      <td>True</td>\n",
              "      <td>0.028015</td>\n",
              "      <td>15.781246</td>\n",
              "      <td>3514.009970</td>\n",
              "    </tr>\n",
              "    <tr>\n",
              "      <th>36</th>\n",
              "      <td>2024-07-30</td>\n",
              "      <td>Grand Parade Investments Limited</td>\n",
              "      <td>GPL.JO</td>\n",
              "      <td>0.426980</td>\n",
              "      <td>37.0</td>\n",
              "      <td>375.0</td>\n",
              "      <td>0.188908</td>\n",
              "      <td>0.003211</td>\n",
              "      <td>334.60</td>\n",
              "      <td>3725.939064</td>\n",
              "      <td>True</td>\n",
              "      <td>True</td>\n",
              "      <td>0.008934</td>\n",
              "      <td>298.830913</td>\n",
              "      <td>1120.615922</td>\n",
              "    </tr>\n",
              "    <tr>\n",
              "      <th>37</th>\n",
              "      <td>2024-07-30</td>\n",
              "      <td>Grindrod Shipping Holdings Ltd.</td>\n",
              "      <td>GSH.JO</td>\n",
              "      <td>0.392377</td>\n",
              "      <td>38.0</td>\n",
              "      <td>25600.0</td>\n",
              "      <td>0.122878</td>\n",
              "      <td>0.003407</td>\n",
              "      <td>23584.10</td>\n",
              "      <td>3725.939064</td>\n",
              "      <td>True</td>\n",
              "      <td>True</td>\n",
              "      <td>0.013735</td>\n",
              "      <td>6.729688</td>\n",
              "      <td>1722.800120</td>\n",
              "    </tr>\n",
              "    <tr>\n",
              "      <th>38</th>\n",
              "      <td>2024-07-30</td>\n",
              "      <td>RMB Holdings Limited</td>\n",
              "      <td>RMH.JO</td>\n",
              "      <td>0.359336</td>\n",
              "      <td>39.0</td>\n",
              "      <td>42.0</td>\n",
              "      <td>0.102261</td>\n",
              "      <td>0.001409</td>\n",
              "      <td>39.62</td>\n",
              "      <td>3725.939064</td>\n",
              "      <td>True</td>\n",
              "      <td>True</td>\n",
              "      <td>0.016504</td>\n",
              "      <td>4928.904817</td>\n",
              "      <td>2070.140023</td>\n",
              "    </tr>\n",
              "    <tr>\n",
              "      <th>39</th>\n",
              "      <td>2024-07-30</td>\n",
              "      <td>Transpaco Limited</td>\n",
              "      <td>TPC.JO</td>\n",
              "      <td>0.288736</td>\n",
              "      <td>40.0</td>\n",
              "      <td>3226.0</td>\n",
              "      <td>0.129536</td>\n",
              "      <td>0.000100</td>\n",
              "      <td>3116.47</td>\n",
              "      <td>3725.939064</td>\n",
              "      <td>True</td>\n",
              "      <td>True</td>\n",
              "      <td>0.013029</td>\n",
              "      <td>50.658743</td>\n",
              "      <td>1634.251043</td>\n",
              "    </tr>\n",
              "    <tr>\n",
              "      <th>41</th>\n",
              "      <td>2024-07-30</td>\n",
              "      <td>City Lodge Hotels Limited</td>\n",
              "      <td>CLH.JO</td>\n",
              "      <td>0.216922</td>\n",
              "      <td>42.0</td>\n",
              "      <td>441.0</td>\n",
              "      <td>0.092812</td>\n",
              "      <td>0.000675</td>\n",
              "      <td>427.15</td>\n",
              "      <td>3725.939064</td>\n",
              "      <td>True</td>\n",
              "      <td>True</td>\n",
              "      <td>0.018184</td>\n",
              "      <td>517.209603</td>\n",
              "      <td>2280.894350</td>\n",
              "    </tr>\n",
              "    <tr>\n",
              "      <th>43</th>\n",
              "      <td>2024-07-30</td>\n",
              "      <td>Marshall Monteagle PLC</td>\n",
              "      <td>MMP.JO</td>\n",
              "      <td>0.152229</td>\n",
              "      <td>44.0</td>\n",
              "      <td>2826.0</td>\n",
              "      <td>0.077378</td>\n",
              "      <td>0.000107</td>\n",
              "      <td>2824.55</td>\n",
              "      <td>3725.939064</td>\n",
              "      <td>True</td>\n",
              "      <td>True</td>\n",
              "      <td>0.021811</td>\n",
              "      <td>96.809438</td>\n",
              "      <td>2735.834713</td>\n",
              "    </tr>\n",
              "    <tr>\n",
              "      <th>44</th>\n",
              "      <td>2024-07-30</td>\n",
              "      <td>Harmony Gold Mining Company Limited</td>\n",
              "      <td>HAR.JO</td>\n",
              "      <td>0.147652</td>\n",
              "      <td>45.0</td>\n",
              "      <td>16600.0</td>\n",
              "      <td>0.160815</td>\n",
              "      <td>0.001581</td>\n",
              "      <td>16561.22</td>\n",
              "      <td>3725.939064</td>\n",
              "      <td>True</td>\n",
              "      <td>True</td>\n",
              "      <td>0.010494</td>\n",
              "      <td>7.929994</td>\n",
              "      <td>1316.378996</td>\n",
              "    </tr>\n",
              "    <tr>\n",
              "      <th>45</th>\n",
              "      <td>2024-07-30</td>\n",
              "      <td>Blue Label Telecoms Limited</td>\n",
              "      <td>BLU.JO</td>\n",
              "      <td>0.102462</td>\n",
              "      <td>46.0</td>\n",
              "      <td>425.0</td>\n",
              "      <td>0.065704</td>\n",
              "      <td>0.000372</td>\n",
              "      <td>419.30</td>\n",
              "      <td>3725.939064</td>\n",
              "      <td>True</td>\n",
              "      <td>True</td>\n",
              "      <td>0.025686</td>\n",
              "      <td>758.103393</td>\n",
              "      <td>3221.939420</td>\n",
              "    </tr>\n",
              "    <tr>\n",
              "      <th>46</th>\n",
              "      <td>2024-07-30</td>\n",
              "      <td>Deneb Investments Limited</td>\n",
              "      <td>DNB.JO</td>\n",
              "      <td>0.089071</td>\n",
              "      <td>47.0</td>\n",
              "      <td>235.0</td>\n",
              "      <td>0.078988</td>\n",
              "      <td>0.000239</td>\n",
              "      <td>228.72</td>\n",
              "      <td>3725.939064</td>\n",
              "      <td>True</td>\n",
              "      <td>True</td>\n",
              "      <td>0.021366</td>\n",
              "      <td>1140.463093</td>\n",
              "      <td>2680.088268</td>\n",
              "    </tr>\n",
              "  </tbody>\n",
              "</table>\n",
              "</div>\n",
              "    <div class=\"colab-df-buttons\">\n",
              "\n",
              "  <div class=\"colab-df-container\">\n",
              "    <button class=\"colab-df-convert\" onclick=\"convertToInteractive('df-f477662c-4db3-4dba-93df-c5c3918b633b')\"\n",
              "            title=\"Convert this dataframe to an interactive table.\"\n",
              "            style=\"display:none;\">\n",
              "\n",
              "  <svg xmlns=\"http://www.w3.org/2000/svg\" height=\"24px\" viewBox=\"0 -960 960 960\">\n",
              "    <path d=\"M120-120v-720h720v720H120Zm60-500h600v-160H180v160Zm220 220h160v-160H400v160Zm0 220h160v-160H400v160ZM180-400h160v-160H180v160Zm440 0h160v-160H620v160ZM180-180h160v-160H180v160Zm440 0h160v-160H620v160Z\"/>\n",
              "  </svg>\n",
              "    </button>\n",
              "\n",
              "  <style>\n",
              "    .colab-df-container {\n",
              "      display:flex;\n",
              "      gap: 12px;\n",
              "    }\n",
              "\n",
              "    .colab-df-convert {\n",
              "      background-color: #E8F0FE;\n",
              "      border: none;\n",
              "      border-radius: 50%;\n",
              "      cursor: pointer;\n",
              "      display: none;\n",
              "      fill: #1967D2;\n",
              "      height: 32px;\n",
              "      padding: 0 0 0 0;\n",
              "      width: 32px;\n",
              "    }\n",
              "\n",
              "    .colab-df-convert:hover {\n",
              "      background-color: #E2EBFA;\n",
              "      box-shadow: 0px 1px 2px rgba(60, 64, 67, 0.3), 0px 1px 3px 1px rgba(60, 64, 67, 0.15);\n",
              "      fill: #174EA6;\n",
              "    }\n",
              "\n",
              "    .colab-df-buttons div {\n",
              "      margin-bottom: 4px;\n",
              "    }\n",
              "\n",
              "    [theme=dark] .colab-df-convert {\n",
              "      background-color: #3B4455;\n",
              "      fill: #D2E3FC;\n",
              "    }\n",
              "\n",
              "    [theme=dark] .colab-df-convert:hover {\n",
              "      background-color: #434B5C;\n",
              "      box-shadow: 0px 1px 3px 1px rgba(0, 0, 0, 0.15);\n",
              "      filter: drop-shadow(0px 1px 2px rgba(0, 0, 0, 0.3));\n",
              "      fill: #FFFFFF;\n",
              "    }\n",
              "  </style>\n",
              "\n",
              "    <script>\n",
              "      const buttonEl =\n",
              "        document.querySelector('#df-f477662c-4db3-4dba-93df-c5c3918b633b button.colab-df-convert');\n",
              "      buttonEl.style.display =\n",
              "        google.colab.kernel.accessAllowed ? 'block' : 'none';\n",
              "\n",
              "      async function convertToInteractive(key) {\n",
              "        const element = document.querySelector('#df-f477662c-4db3-4dba-93df-c5c3918b633b');\n",
              "        const dataTable =\n",
              "          await google.colab.kernel.invokeFunction('convertToInteractive',\n",
              "                                                    [key], {});\n",
              "        if (!dataTable) return;\n",
              "\n",
              "        const docLinkHtml = 'Like what you see? Visit the ' +\n",
              "          '<a target=\"_blank\" href=https://colab.research.google.com/notebooks/data_table.ipynb>data table notebook</a>'\n",
              "          + ' to learn more about interactive tables.';\n",
              "        element.innerHTML = '';\n",
              "        dataTable['output_type'] = 'display_data';\n",
              "        await google.colab.output.renderOutput(dataTable, element);\n",
              "        const docLink = document.createElement('div');\n",
              "        docLink.innerHTML = docLinkHtml;\n",
              "        element.appendChild(docLink);\n",
              "      }\n",
              "    </script>\n",
              "  </div>\n",
              "\n",
              "\n",
              "<div id=\"df-065e7f2d-8914-49d5-bb13-370ad2d3a573\">\n",
              "  <button class=\"colab-df-quickchart\" onclick=\"quickchart('df-065e7f2d-8914-49d5-bb13-370ad2d3a573')\"\n",
              "            title=\"Suggest charts\"\n",
              "            style=\"display:none;\">\n",
              "\n",
              "<svg xmlns=\"http://www.w3.org/2000/svg\" height=\"24px\"viewBox=\"0 0 24 24\"\n",
              "     width=\"24px\">\n",
              "    <g>\n",
              "        <path d=\"M19 3H5c-1.1 0-2 .9-2 2v14c0 1.1.9 2 2 2h14c1.1 0 2-.9 2-2V5c0-1.1-.9-2-2-2zM9 17H7v-7h2v7zm4 0h-2V7h2v10zm4 0h-2v-4h2v4z\"/>\n",
              "    </g>\n",
              "</svg>\n",
              "  </button>\n",
              "\n",
              "<style>\n",
              "  .colab-df-quickchart {\n",
              "      --bg-color: #E8F0FE;\n",
              "      --fill-color: #1967D2;\n",
              "      --hover-bg-color: #E2EBFA;\n",
              "      --hover-fill-color: #174EA6;\n",
              "      --disabled-fill-color: #AAA;\n",
              "      --disabled-bg-color: #DDD;\n",
              "  }\n",
              "\n",
              "  [theme=dark] .colab-df-quickchart {\n",
              "      --bg-color: #3B4455;\n",
              "      --fill-color: #D2E3FC;\n",
              "      --hover-bg-color: #434B5C;\n",
              "      --hover-fill-color: #FFFFFF;\n",
              "      --disabled-bg-color: #3B4455;\n",
              "      --disabled-fill-color: #666;\n",
              "  }\n",
              "\n",
              "  .colab-df-quickchart {\n",
              "    background-color: var(--bg-color);\n",
              "    border: none;\n",
              "    border-radius: 50%;\n",
              "    cursor: pointer;\n",
              "    display: none;\n",
              "    fill: var(--fill-color);\n",
              "    height: 32px;\n",
              "    padding: 0;\n",
              "    width: 32px;\n",
              "  }\n",
              "\n",
              "  .colab-df-quickchart:hover {\n",
              "    background-color: var(--hover-bg-color);\n",
              "    box-shadow: 0 1px 2px rgba(60, 64, 67, 0.3), 0 1px 3px 1px rgba(60, 64, 67, 0.15);\n",
              "    fill: var(--button-hover-fill-color);\n",
              "  }\n",
              "\n",
              "  .colab-df-quickchart-complete:disabled,\n",
              "  .colab-df-quickchart-complete:disabled:hover {\n",
              "    background-color: var(--disabled-bg-color);\n",
              "    fill: var(--disabled-fill-color);\n",
              "    box-shadow: none;\n",
              "  }\n",
              "\n",
              "  .colab-df-spinner {\n",
              "    border: 2px solid var(--fill-color);\n",
              "    border-color: transparent;\n",
              "    border-bottom-color: var(--fill-color);\n",
              "    animation:\n",
              "      spin 1s steps(1) infinite;\n",
              "  }\n",
              "\n",
              "  @keyframes spin {\n",
              "    0% {\n",
              "      border-color: transparent;\n",
              "      border-bottom-color: var(--fill-color);\n",
              "      border-left-color: var(--fill-color);\n",
              "    }\n",
              "    20% {\n",
              "      border-color: transparent;\n",
              "      border-left-color: var(--fill-color);\n",
              "      border-top-color: var(--fill-color);\n",
              "    }\n",
              "    30% {\n",
              "      border-color: transparent;\n",
              "      border-left-color: var(--fill-color);\n",
              "      border-top-color: var(--fill-color);\n",
              "      border-right-color: var(--fill-color);\n",
              "    }\n",
              "    40% {\n",
              "      border-color: transparent;\n",
              "      border-right-color: var(--fill-color);\n",
              "      border-top-color: var(--fill-color);\n",
              "    }\n",
              "    60% {\n",
              "      border-color: transparent;\n",
              "      border-right-color: var(--fill-color);\n",
              "    }\n",
              "    80% {\n",
              "      border-color: transparent;\n",
              "      border-right-color: var(--fill-color);\n",
              "      border-bottom-color: var(--fill-color);\n",
              "    }\n",
              "    90% {\n",
              "      border-color: transparent;\n",
              "      border-bottom-color: var(--fill-color);\n",
              "    }\n",
              "  }\n",
              "</style>\n",
              "\n",
              "  <script>\n",
              "    async function quickchart(key) {\n",
              "      const quickchartButtonEl =\n",
              "        document.querySelector('#' + key + ' button');\n",
              "      quickchartButtonEl.disabled = true;  // To prevent multiple clicks.\n",
              "      quickchartButtonEl.classList.add('colab-df-spinner');\n",
              "      try {\n",
              "        const charts = await google.colab.kernel.invokeFunction(\n",
              "            'suggestCharts', [key], {});\n",
              "      } catch (error) {\n",
              "        console.error('Error during call to suggestCharts:', error);\n",
              "      }\n",
              "      quickchartButtonEl.classList.remove('colab-df-spinner');\n",
              "      quickchartButtonEl.classList.add('colab-df-quickchart-complete');\n",
              "    }\n",
              "    (() => {\n",
              "      let quickchartButtonEl =\n",
              "        document.querySelector('#df-065e7f2d-8914-49d5-bb13-370ad2d3a573 button');\n",
              "      quickchartButtonEl.style.display =\n",
              "        google.colab.kernel.accessAllowed ? 'block' : 'none';\n",
              "    })();\n",
              "  </script>\n",
              "</div>\n",
              "\n",
              "  <div id=\"id_450872cc-cc89-4598-9aab-cf58a69036b5\">\n",
              "    <style>\n",
              "      .colab-df-generate {\n",
              "        background-color: #E8F0FE;\n",
              "        border: none;\n",
              "        border-radius: 50%;\n",
              "        cursor: pointer;\n",
              "        display: none;\n",
              "        fill: #1967D2;\n",
              "        height: 32px;\n",
              "        padding: 0 0 0 0;\n",
              "        width: 32px;\n",
              "      }\n",
              "\n",
              "      .colab-df-generate:hover {\n",
              "        background-color: #E2EBFA;\n",
              "        box-shadow: 0px 1px 2px rgba(60, 64, 67, 0.3), 0px 1px 3px 1px rgba(60, 64, 67, 0.15);\n",
              "        fill: #174EA6;\n",
              "      }\n",
              "\n",
              "      [theme=dark] .colab-df-generate {\n",
              "        background-color: #3B4455;\n",
              "        fill: #D2E3FC;\n",
              "      }\n",
              "\n",
              "      [theme=dark] .colab-df-generate:hover {\n",
              "        background-color: #434B5C;\n",
              "        box-shadow: 0px 1px 3px 1px rgba(0, 0, 0, 0.15);\n",
              "        filter: drop-shadow(0px 1px 2px rgba(0, 0, 0, 0.3));\n",
              "        fill: #FFFFFF;\n",
              "      }\n",
              "    </style>\n",
              "    <button class=\"colab-df-generate\" onclick=\"generateWithVariable('updated_df')\"\n",
              "            title=\"Generate code using this dataframe.\"\n",
              "            style=\"display:none;\">\n",
              "\n",
              "  <svg xmlns=\"http://www.w3.org/2000/svg\" height=\"24px\"viewBox=\"0 0 24 24\"\n",
              "       width=\"24px\">\n",
              "    <path d=\"M7,19H8.4L18.45,9,17,7.55,7,17.6ZM5,21V16.75L18.45,3.32a2,2,0,0,1,2.83,0l1.4,1.43a1.91,1.91,0,0,1,.58,1.4,1.91,1.91,0,0,1-.58,1.4L9.25,21ZM18.45,9,17,7.55Zm-12,3A5.31,5.31,0,0,0,4.9,8.1,5.31,5.31,0,0,0,1,6.5,5.31,5.31,0,0,0,4.9,4.9,5.31,5.31,0,0,0,6.5,1,5.31,5.31,0,0,0,8.1,4.9,5.31,5.31,0,0,0,12,6.5,5.46,5.46,0,0,0,6.5,12Z\"/>\n",
              "  </svg>\n",
              "    </button>\n",
              "    <script>\n",
              "      (() => {\n",
              "      const buttonEl =\n",
              "        document.querySelector('#id_450872cc-cc89-4598-9aab-cf58a69036b5 button.colab-df-generate');\n",
              "      buttonEl.style.display =\n",
              "        google.colab.kernel.accessAllowed ? 'block' : 'none';\n",
              "\n",
              "      buttonEl.onclick = () => {\n",
              "        google.colab.notebook.generateWithVariable('updated_df');\n",
              "      }\n",
              "      })();\n",
              "    </script>\n",
              "  </div>\n",
              "\n",
              "    </div>\n",
              "  </div>\n"
            ],
            "application/vnd.google.colaboratory.intrinsic+json": {
              "type": "dataframe",
              "variable_name": "updated_df",
              "summary": "{\n  \"name\": \"updated_df\",\n  \"rows\": 43,\n  \"fields\": [\n    {\n      \"column\": \"Date\",\n      \"properties\": {\n        \"dtype\": \"date\",\n        \"min\": \"2024-07-30 00:00:00\",\n        \"max\": \"2024-07-30 00:00:00\",\n        \"num_unique_values\": 1,\n        \"samples\": [\n          \"2024-07-30 00:00:00\"\n        ],\n        \"semantic_type\": \"\",\n        \"description\": \"\"\n      }\n    },\n    {\n      \"column\": \"company\",\n      \"properties\": {\n        \"dtype\": \"string\",\n        \"num_unique_values\": 43,\n        \"samples\": [\n          \"Transpaco Limited\"\n        ],\n        \"semantic_type\": \"\",\n        \"description\": \"\"\n      }\n    },\n    {\n      \"column\": \"symbol\",\n      \"properties\": {\n        \"dtype\": \"string\",\n        \"num_unique_values\": 43,\n        \"samples\": [\n          \"TPC.JO\"\n        ],\n        \"semantic_type\": \"\",\n        \"description\": \"\"\n      }\n    },\n    {\n      \"column\": \"momentum_score\",\n      \"properties\": {\n        \"dtype\": \"number\",\n        \"std\": 0.6705316729363564,\n        \"min\": 0.0890708242750644,\n        \"max\": 2.5473049461406685,\n        \"num_unique_values\": 43,\n        \"samples\": [\n          0.2887355389119667\n        ],\n        \"semantic_type\": \"\",\n        \"description\": \"\"\n      }\n    },\n    {\n      \"column\": \"rank\",\n      \"properties\": {\n        \"dtype\": \"number\",\n        \"std\": 13.30634034003113,\n        \"min\": 2.0,\n        \"max\": 47.0,\n        \"num_unique_values\": 43,\n        \"samples\": [\n          40.0\n        ],\n        \"semantic_type\": \"\",\n        \"description\": \"\"\n      }\n    },\n    {\n      \"column\": \"Close\",\n      \"properties\": {\n        \"dtype\": \"number\",\n        \"std\": 9913.004957246418,\n        \"min\": 42.0,\n        \"max\": 49870.0,\n        \"num_unique_values\": 43,\n        \"samples\": [\n          3226.0\n        ],\n        \"semantic_type\": \"\",\n        \"description\": \"\"\n      }\n    },\n    {\n      \"column\": \"20_day_volatility\",\n      \"properties\": {\n        \"dtype\": \"number\",\n        \"std\": 0.058645042762068327,\n        \"min\": 0.03733332538877583,\n        \"max\": 0.29282061732353853,\n        \"num_unique_values\": 43,\n        \"samples\": [\n          0.1295356365158646\n        ],\n        \"semantic_type\": \"\",\n        \"description\": \"\"\n      }\n    },\n    {\n      \"column\": \"90_day_return\",\n      \"properties\": {\n        \"dtype\": \"number\",\n        \"std\": 0.0012902100934974688,\n        \"min\": 0.00010033958507182916,\n        \"max\": 0.005383826687054727,\n        \"num_unique_values\": 43,\n        \"samples\": [\n          0.00010033958507182916\n        ],\n        \"semantic_type\": \"\",\n        \"description\": \"\"\n      }\n    },\n    {\n      \"column\": \"100_day_mean\",\n      \"properties\": {\n        \"dtype\": \"number\",\n        \"std\": 8998.418072176722,\n        \"min\": 39.62,\n        \"max\": 45141.64,\n        \"num_unique_values\": 43,\n        \"samples\": [\n          3116.47\n        ],\n        \"semantic_type\": \"\",\n        \"description\": \"\"\n      }\n    },\n    {\n      \"column\": \"index_mean\",\n      \"properties\": {\n        \"dtype\": \"number\",\n        \"std\": 9.202583273420488e-13,\n        \"min\": 3725.939063720703,\n        \"max\": 3725.939063720703,\n        \"num_unique_values\": 1,\n        \"samples\": [\n          3725.939063720703\n        ],\n        \"semantic_type\": \"\",\n        \"description\": \"\"\n      }\n    },\n    {\n      \"column\": \"stock_trend\",\n      \"properties\": {\n        \"dtype\": \"boolean\",\n        \"num_unique_values\": 1,\n        \"samples\": [\n          true\n        ],\n        \"semantic_type\": \"\",\n        \"description\": \"\"\n      }\n    },\n    {\n      \"column\": \"market_trend\",\n      \"properties\": {\n        \"dtype\": \"boolean\",\n        \"num_unique_values\": 1,\n        \"samples\": [\n          true\n        ],\n        \"semantic_type\": \"\",\n        \"description\": \"\"\n      }\n    },\n    {\n      \"column\": \"weight\",\n      \"properties\": {\n        \"dtype\": \"number\",\n        \"std\": 0.009801739027399468,\n        \"min\": 0.0057635059800778665,\n        \"max\": 0.0452055465581885,\n        \"num_unique_values\": 43,\n        \"samples\": [\n          0.013028641572526742\n        ],\n        \"semantic_type\": \"\",\n        \"description\": \"\"\n      }\n    },\n    {\n      \"column\": \"units\",\n      \"properties\": {\n        \"dtype\": \"number\",\n        \"std\": 793.9489107078979,\n        \"min\": 5.199968351698325,\n        \"max\": 4928.904817267986,\n        \"num_unique_values\": 43,\n        \"samples\": [\n          50.658742811429036\n        ],\n        \"semantic_type\": \"\",\n        \"description\": \"\"\n      }\n    },\n    {\n      \"column\": \"ZAR\",\n      \"properties\": {\n        \"dtype\": \"number\",\n        \"std\": 1229.4836833539996,\n        \"min\": 722.9468711226219,\n        \"max\": 5670.369485968479,\n        \"num_unique_values\": 43,\n        \"samples\": [\n          1634.2510430967006\n        ],\n        \"semantic_type\": \"\",\n        \"description\": \"\"\n      }\n    }\n  ]\n}"
            }
          },
          "metadata": {},
          "execution_count": 84
        }
      ],
      "source": [
        "\n",
        "import os\n",
        "import pandas as pd\n",
        "import numpy as np\n",
        "\n",
        "def calculate_metrics_and_add_columns(original_df, data_folder, portfolio_value):\n",
        "    \"\"\"\n",
        "    Calculates 20-day volatility, 100-day mean, and 90-day rate of return for each stock\n",
        "    and adds the results as columns to the original DataFrame.\n",
        "\n",
        "    Args:\n",
        "        original_df (pd.DataFrame): Original DataFrame with columns 'Date', 'symbol', 'rank', 'momentum_score'.\n",
        "        data_folder (str): Path to the folder containing stock data CSV files.\n",
        "        portfolio_value (float): Total value of the portfolio.\n",
        "\n",
        "    Returns:\n",
        "        pd.DataFrame: Updated DataFrame with additional columns.\n",
        "    \"\"\"\n",
        "    result_df = original_df.copy()  # Create a copy to avoid modifying the original DataFrame\n",
        "\n",
        "    result_df['Date'] = pd.to_datetime(result_df['Date'])\n",
        "\n",
        "    # Loop through each ticker in the DataFrame\n",
        "    for ticker in result_df['symbol']:\n",
        "        filepath = os.path.join(data_folder, f\"{ticker}.csv\")\n",
        "\n",
        "        # Read CSV data (adjust column names as needed)\n",
        "        stock_data = pd.read_csv(filepath, parse_dates=['Date'], index_col='Date')\n",
        "\n",
        "        # Calculate daily returns\n",
        "        stock_data['daily_return'] = stock_data['Close'].pct_change()\n",
        "\n",
        "        # Compute 20-day volatility\n",
        "        stock_data['20_day_volatility'] = stock_data['daily_return'].rolling(window=20).std() * np.sqrt(20)\n",
        "\n",
        "        # Compute 100-day mean\n",
        "        stock_data['100_day_mean'] = stock_data['Close'].rolling(window=100).mean()\n",
        "\n",
        "        # Compute 90-day rate of return\n",
        "        stock_data['90_day_return'] = (stock_data['Close'].pct_change(periods=90) + 1).pow(1 / 90) - 1\n",
        "\n",
        "        # Ensure the date exists in stock_data\n",
        "        if '2024-07-30' in stock_data.index:\n",
        "            # Add the calculated values to the result_df\n",
        "            result_df.loc[result_df['symbol'] == ticker, ['20_day_volatility', '100_day_mean', '90_day_return']] = \\\n",
        "                stock_data.loc['2024-07-30', ['20_day_volatility', '100_day_mean', '90_day_return']].values\n",
        "\n",
        "            # Add the 'close' column\n",
        "            result_df.loc[result_df['symbol'] == ticker, 'Close'] = stock_data.loc['2024-07-30', 'Close']\n",
        "\n",
        "    # Replace any remaining NaN values in '20_day_volatility' with a small number to avoid division by zero\n",
        "    result_df['20_day_volatility'].replace(0, np.nan, inplace=True)\n",
        "    result_df['20_day_volatility'].fillna(1e-10, inplace=True)\n",
        "\n",
        "    # Calculate inverse volatility\n",
        "    inv_vol = 1 / result_df[\"20_day_volatility\"]\n",
        "    sum_inv_vol = inv_vol.sum()\n",
        "    vol_targets = inv_vol / sum_inv_vol\n",
        "    result_df[\"weight\"] = vol_targets\n",
        "\n",
        "    # Add a boolean column indicating if close > 100_day_mean\n",
        "    result_df['stock_trend'] = result_df['Close'] > result_df['100_day_mean']\n",
        "\n",
        "    # Read index data from a CSV file (adjust filename and column names)\n",
        "    index_data = pd.read_csv(\"/content/drive/MyDrive/STX.csv\", parse_dates=['Date'], index_col='Date')\n",
        "\n",
        "    # Calculate 200-day SMA for the index\n",
        "    index_data['index_mean'] = index_data['Close'].rolling(window=200).mean()\n",
        "\n",
        "    # Add a boolean column indicating if close > 200-day_mean\n",
        "    index_data['market_trend'] = index_data['Close'] > index_data['index_mean']\n",
        "\n",
        "\n",
        "    # Calculate position weight\n",
        "    stockprice = result_df[\"Close\"] / 100\n",
        "    pos_weight = portfolio_value * result_df[\"weight\"]\n",
        "    result_df[\"units\"] = pos_weight / stockprice\n",
        "    result_df[\"ZAR\"] = stockprice * result_df[\"units\"]\n",
        "\n",
        "    # Merge index data with result_df based on date (adjust column names)\n",
        "    merged_df = pd.merge(result_df,\n",
        "                         index_data[['index_mean', 'market_trend']],\n",
        "                         left_on='Date',\n",
        "                         right_index=True,\n",
        "                         how='left')\n",
        "\n",
        "    merged_df.to_csv('/content/drive/MyDrive/ranked_list_31Jul2024.csv')\n",
        "\n",
        "    # Drop rows where boolean value is False and '90_day_return' >= 0.15\n",
        "    merged_df = merged_df.drop(merged_df[(merged_df['stock_trend'] == False) |\n",
        "                                         (merged_df['90_day_return'] >= 0.15)].index)\n",
        "\n",
        "    merged_df = merged_df.loc[:, ~merged_df.columns.str.contains('^Unnamed')]\n",
        "\n",
        "    merged_df = merged_df.iloc[:, [0, 1, 2, 3, 4, 8, 5, 7, 6, 13, 10, 14, 9, 11, 12]]\n",
        "\n",
        "    merged_df.to_csv('/content/drive/MyDrive/initial_portfolio_31Jul2024.csv')\n",
        "\n",
        "\n",
        "    return merged_df\n",
        "\n",
        "# Example usage:\n",
        "original_df = pd.read_csv(\"/content/drive/MyDrive/ranking_list.csv\")  # Replace with your actual data\n",
        "data_folder = \"/content/drive/MyDrive/Stocks\"  # Path to your stock data folder\n",
        "portfolio_value = 125435.26  # Example portfolio value\n",
        "\n",
        "updated_df = calculate_metrics_and_add_columns(original_df, data_folder, portfolio_value)\n",
        "\n",
        "# Display the merged DataFrame\n",
        "updated_df"
      ]
    },
    {
      "cell_type": "code",
      "source": [
        "\n",
        "pip install dataframe_image"
      ],
      "metadata": {
        "colab": {
          "base_uri": "https://localhost:8080/"
        },
        "id": "30NopV1BIrCL",
        "outputId": "5a08e3f2-c90e-42a0-db1a-1d70f5cd29ef"
      },
      "execution_count": null,
      "outputs": [
        {
          "output_type": "stream",
          "name": "stdout",
          "text": [
            "Collecting dataframe_image\n",
            "  Downloading dataframe_image-0.2.4-py3-none-any.whl.metadata (9.0 kB)\n",
            "Requirement already satisfied: pandas>=0.24 in /usr/local/lib/python3.10/dist-packages (from dataframe_image) (2.1.4)\n",
            "Requirement already satisfied: nbconvert>=5 in /usr/local/lib/python3.10/dist-packages (from dataframe_image) (6.5.4)\n",
            "Requirement already satisfied: aiohttp in /usr/local/lib/python3.10/dist-packages (from dataframe_image) (3.9.5)\n",
            "Requirement already satisfied: requests in /usr/local/lib/python3.10/dist-packages (from dataframe_image) (2.31.0)\n",
            "Requirement already satisfied: pillow in /usr/local/lib/python3.10/dist-packages (from dataframe_image) (9.4.0)\n",
            "Requirement already satisfied: packaging in /usr/local/lib/python3.10/dist-packages (from dataframe_image) (24.1)\n",
            "Requirement already satisfied: mistune in /usr/local/lib/python3.10/dist-packages (from dataframe_image) (0.8.4)\n",
            "Requirement already satisfied: lxml in /usr/local/lib/python3.10/dist-packages (from dataframe_image) (4.9.4)\n",
            "Requirement already satisfied: beautifulsoup4 in /usr/local/lib/python3.10/dist-packages (from dataframe_image) (4.12.3)\n",
            "Collecting cssutils (from dataframe_image)\n",
            "  Downloading cssutils-2.11.1-py3-none-any.whl.metadata (8.7 kB)\n",
            "Collecting html2image (from dataframe_image)\n",
            "  Downloading html2image-2.0.4.3-py3-none-any.whl.metadata (14 kB)\n",
            "Collecting cssselect (from dataframe_image)\n",
            "  Downloading cssselect-1.2.0-py2.py3-none-any.whl.metadata (2.2 kB)\n",
            "Requirement already satisfied: bleach in /usr/local/lib/python3.10/dist-packages (from nbconvert>=5->dataframe_image) (6.1.0)\n",
            "Requirement already satisfied: defusedxml in /usr/local/lib/python3.10/dist-packages (from nbconvert>=5->dataframe_image) (0.7.1)\n",
            "Requirement already satisfied: entrypoints>=0.2.2 in /usr/local/lib/python3.10/dist-packages (from nbconvert>=5->dataframe_image) (0.4)\n",
            "Requirement already satisfied: jinja2>=3.0 in /usr/local/lib/python3.10/dist-packages (from nbconvert>=5->dataframe_image) (3.1.4)\n",
            "Requirement already satisfied: jupyter-core>=4.7 in /usr/local/lib/python3.10/dist-packages (from nbconvert>=5->dataframe_image) (5.7.2)\n",
            "Requirement already satisfied: jupyterlab-pygments in /usr/local/lib/python3.10/dist-packages (from nbconvert>=5->dataframe_image) (0.3.0)\n",
            "Requirement already satisfied: MarkupSafe>=2.0 in /usr/local/lib/python3.10/dist-packages (from nbconvert>=5->dataframe_image) (2.1.5)\n",
            "Requirement already satisfied: nbclient>=0.5.0 in /usr/local/lib/python3.10/dist-packages (from nbconvert>=5->dataframe_image) (0.10.0)\n",
            "Requirement already satisfied: nbformat>=5.1 in /usr/local/lib/python3.10/dist-packages (from nbconvert>=5->dataframe_image) (5.10.4)\n",
            "Requirement already satisfied: pandocfilters>=1.4.1 in /usr/local/lib/python3.10/dist-packages (from nbconvert>=5->dataframe_image) (1.5.1)\n",
            "Requirement already satisfied: pygments>=2.4.1 in /usr/local/lib/python3.10/dist-packages (from nbconvert>=5->dataframe_image) (2.16.1)\n",
            "Requirement already satisfied: tinycss2 in /usr/local/lib/python3.10/dist-packages (from nbconvert>=5->dataframe_image) (1.3.0)\n",
            "Requirement already satisfied: traitlets>=5.0 in /usr/local/lib/python3.10/dist-packages (from nbconvert>=5->dataframe_image) (5.7.1)\n",
            "Requirement already satisfied: numpy<2,>=1.22.4 in /usr/local/lib/python3.10/dist-packages (from pandas>=0.24->dataframe_image) (1.26.4)\n",
            "Requirement already satisfied: python-dateutil>=2.8.2 in /usr/local/lib/python3.10/dist-packages (from pandas>=0.24->dataframe_image) (2.8.2)\n",
            "Requirement already satisfied: pytz>=2020.1 in /usr/local/lib/python3.10/dist-packages (from pandas>=0.24->dataframe_image) (2024.1)\n",
            "Requirement already satisfied: tzdata>=2022.1 in /usr/local/lib/python3.10/dist-packages (from pandas>=0.24->dataframe_image) (2024.1)\n",
            "Requirement already satisfied: aiosignal>=1.1.2 in /usr/local/lib/python3.10/dist-packages (from aiohttp->dataframe_image) (1.3.1)\n",
            "Requirement already satisfied: attrs>=17.3.0 in /usr/local/lib/python3.10/dist-packages (from aiohttp->dataframe_image) (23.2.0)\n",
            "Requirement already satisfied: frozenlist>=1.1.1 in /usr/local/lib/python3.10/dist-packages (from aiohttp->dataframe_image) (1.4.1)\n",
            "Requirement already satisfied: multidict<7.0,>=4.5 in /usr/local/lib/python3.10/dist-packages (from aiohttp->dataframe_image) (6.0.5)\n",
            "Requirement already satisfied: yarl<2.0,>=1.0 in /usr/local/lib/python3.10/dist-packages (from aiohttp->dataframe_image) (1.9.4)\n",
            "Requirement already satisfied: async-timeout<5.0,>=4.0 in /usr/local/lib/python3.10/dist-packages (from aiohttp->dataframe_image) (4.0.3)\n",
            "Requirement already satisfied: soupsieve>1.2 in /usr/local/lib/python3.10/dist-packages (from beautifulsoup4->dataframe_image) (2.5)\n",
            "Requirement already satisfied: more-itertools in /usr/local/lib/python3.10/dist-packages (from cssutils->dataframe_image) (10.3.0)\n",
            "Requirement already satisfied: websocket-client<2.0.0,>=1.0.0 in /usr/local/lib/python3.10/dist-packages (from html2image->dataframe_image) (1.8.0)\n",
            "Requirement already satisfied: charset-normalizer<4,>=2 in /usr/local/lib/python3.10/dist-packages (from requests->dataframe_image) (3.3.2)\n",
            "Requirement already satisfied: idna<4,>=2.5 in /usr/local/lib/python3.10/dist-packages (from requests->dataframe_image) (3.7)\n",
            "Requirement already satisfied: urllib3<3,>=1.21.1 in /usr/local/lib/python3.10/dist-packages (from requests->dataframe_image) (2.0.7)\n",
            "Requirement already satisfied: certifi>=2017.4.17 in /usr/local/lib/python3.10/dist-packages (from requests->dataframe_image) (2024.7.4)\n",
            "Requirement already satisfied: platformdirs>=2.5 in /usr/local/lib/python3.10/dist-packages (from jupyter-core>=4.7->nbconvert>=5->dataframe_image) (4.2.2)\n",
            "Requirement already satisfied: jupyter-client>=6.1.12 in /usr/local/lib/python3.10/dist-packages (from nbclient>=0.5.0->nbconvert>=5->dataframe_image) (6.1.12)\n",
            "Requirement already satisfied: fastjsonschema>=2.15 in /usr/local/lib/python3.10/dist-packages (from nbformat>=5.1->nbconvert>=5->dataframe_image) (2.20.0)\n",
            "Requirement already satisfied: jsonschema>=2.6 in /usr/local/lib/python3.10/dist-packages (from nbformat>=5.1->nbconvert>=5->dataframe_image) (4.23.0)\n",
            "Requirement already satisfied: six>=1.5 in /usr/local/lib/python3.10/dist-packages (from python-dateutil>=2.8.2->pandas>=0.24->dataframe_image) (1.16.0)\n",
            "Requirement already satisfied: webencodings in /usr/local/lib/python3.10/dist-packages (from bleach->nbconvert>=5->dataframe_image) (0.5.1)\n",
            "Requirement already satisfied: jsonschema-specifications>=2023.03.6 in /usr/local/lib/python3.10/dist-packages (from jsonschema>=2.6->nbformat>=5.1->nbconvert>=5->dataframe_image) (2023.12.1)\n",
            "Requirement already satisfied: referencing>=0.28.4 in /usr/local/lib/python3.10/dist-packages (from jsonschema>=2.6->nbformat>=5.1->nbconvert>=5->dataframe_image) (0.35.1)\n",
            "Requirement already satisfied: rpds-py>=0.7.1 in /usr/local/lib/python3.10/dist-packages (from jsonschema>=2.6->nbformat>=5.1->nbconvert>=5->dataframe_image) (0.19.1)\n",
            "Requirement already satisfied: pyzmq>=13 in /usr/local/lib/python3.10/dist-packages (from jupyter-client>=6.1.12->nbclient>=0.5.0->nbconvert>=5->dataframe_image) (24.0.1)\n",
            "Requirement already satisfied: tornado>=4.1 in /usr/local/lib/python3.10/dist-packages (from jupyter-client>=6.1.12->nbclient>=0.5.0->nbconvert>=5->dataframe_image) (6.3.3)\n",
            "Downloading dataframe_image-0.2.4-py3-none-any.whl (6.7 MB)\n",
            "\u001b[2K   \u001b[90m━━━━━━━━━━━━━━━━━━━━━━━━━━━━━━━━━━━━━━━━\u001b[0m \u001b[32m6.7/6.7 MB\u001b[0m \u001b[31m63.6 MB/s\u001b[0m eta \u001b[36m0:00:00\u001b[0m\n",
            "\u001b[?25hDownloading cssselect-1.2.0-py2.py3-none-any.whl (18 kB)\n",
            "Downloading cssutils-2.11.1-py3-none-any.whl (385 kB)\n",
            "\u001b[2K   \u001b[90m━━━━━━━━━━━━━━━━━━━━━━━━━━━━━━━━━━━━━━━━\u001b[0m \u001b[32m385.7/385.7 kB\u001b[0m \u001b[31m24.0 MB/s\u001b[0m eta \u001b[36m0:00:00\u001b[0m\n",
            "\u001b[?25hDownloading html2image-2.0.4.3-py3-none-any.whl (27 kB)\n",
            "Installing collected packages: cssutils, cssselect, html2image, dataframe_image\n",
            "Successfully installed cssselect-1.2.0 cssutils-2.11.1 dataframe_image-0.2.4 html2image-2.0.4.3\n"
          ]
        }
      ]
    },
    {
      "cell_type": "code",
      "source": [
        "\n",
        "import pandas as pd\n",
        "import matplotlib.pyplot as plt\n",
        "\n",
        "# Assuming updated_df is already in memory\n",
        "# Select the columns you want to keep\n",
        "selected_columns = ['company', 'symbol', 'weight']\n",
        "new_df = updated_df[selected_columns].copy()\n",
        "\n",
        "# Remove the '. JO' suffix from the 'symbol' column\n",
        "new_df['symbol'] = new_df['symbol'].str.rstrip('. JO')\n",
        "\n",
        "# Select the top 10 rows\n",
        "new_df = new_df.head(10)\n",
        "\n",
        "# Round the 'weight' column and convert to percentages\n",
        "new_df['weight'] = new_df['weight'].round(2) * 100\n",
        "new_df['weight'] = new_df['weight'].astype(str) + '%'\n",
        "\n",
        "# Create a figure and axis with a narrower width\n",
        "fig, ax = plt.subplots(figsize=(6, 2))  # Adjust the size as needed\n",
        "\n",
        "# Add a title\n",
        "plt.title('Top 10 Holdings', fontsize=10, pad=10)\n",
        "\n",
        "# Hide the axes\n",
        "ax.xaxis.set_visible(False)\n",
        "ax.yaxis.set_visible(False)\n",
        "ax.set_frame_on(False)\n",
        "\n",
        "# Create a table without headers\n",
        "table = ax.table(cellText=new_df.values, colLabels=['']*len(new_df.columns), cellLoc='left', loc='center')\n",
        "\n",
        "# Adjust the font size and alignment\n",
        "table.auto_set_font_size(False)\n",
        "table.set_fontsize(8)\n",
        "table.auto_set_column_width(col=list(range(len(new_df.columns))))\n",
        "\n",
        "# Remove the borderlines from the table\n",
        "for key, cell in table.get_celld().items():\n",
        "    cell.set_linewidth(0)\n",
        "\n",
        "# Save the table as a high-quality JPEG image\n",
        "plt.savefig('Top10holdings.jpg', bbox_inches='tight', pad_inches=0.1, dpi=300)\n",
        "\n",
        "print(\"DataFrame saved as 'Top10holdings.jpg'\")"
      ],
      "metadata": {
        "colab": {
          "base_uri": "https://localhost:8080/",
          "height": 267
        },
        "id": "4mvzdlf2Yo0p",
        "outputId": "031ef75a-bcdc-4321-8bb7-06baab83cfa3"
      },
      "execution_count": null,
      "outputs": [
        {
          "output_type": "stream",
          "name": "stdout",
          "text": [
            "DataFrame saved as 'Top10holdings.jpg'\n"
          ]
        },
        {
          "output_type": "display_data",
          "data": {
            "text/plain": [
              "<Figure size 600x200 with 1 Axes>"
            ],
            "image/png": "[encoded data removed]"
          },
          "metadata": {}
        }
      ]
    },
    {
      "cell_type": "code",
      "source": [
        "\n",
        "import pandas as pd\n",
        "import matplotlib.pyplot as plt\n",
        "\n",
        "# Assuming updated_df is already in memory\n",
        "# Select the columns you want to keep\n",
        "selected_columns = ['company', 'symbol', 'weight']\n",
        "new_df = updated_df[selected_columns].copy()\n",
        "\n",
        "# Remove the '. JO' suffix from the 'symbol' column\n",
        "new_df['symbol'] = new_df['symbol'].str.rstrip('. JO')\n",
        "\n",
        "# Select the top 10 rows\n",
        "new_df = new_df.head(10)\n",
        "\n",
        "# Round the 'weight' column and convert to percentages\n",
        "new_df['weight'] = new_df['weight'].round(2) * 100\n",
        "new_df['weight'] = new_df['weight'].astype(str) + '%'\n",
        "\n",
        "# Create a figure and axis with a narrower width\n",
        "fig, ax = plt.subplots(figsize=(4, 2))  # Adjust the size as needed\n",
        "\n",
        "# Add a title\n",
        "plt.title('Helmie Research SA Equity Portfolio Top 10 Holdings', fontsize=8, pad=10)\n",
        "\n",
        "# Hide the axes\n",
        "ax.xaxis.set_visible(False)\n",
        "ax.yaxis.set_visible(False)\n",
        "ax.set_frame_on(False)\n",
        "\n",
        "# Create a table without headers\n",
        "table = ax.table(cellText=new_df.values, colLabels=['']*len(new_df.columns), cellLoc='left', loc='center')\n",
        "\n",
        "# Adjust the font size and alignment\n",
        "table.auto_set_font_size(False)\n",
        "table.set_fontsize(8)\n",
        "table.auto_set_column_width(col=list(range(len(new_df.columns))))\n",
        "\n",
        "# Remove the borderlines from the table\n",
        "for key, cell in table.get_celld().items():\n",
        "    cell.set_linewidth(0)\n",
        "\n",
        "# Save the table as a high-quality JPEG image\n",
        "plt.savefig('Top10holdings.jpg', bbox_inches='tight', pad_inches=0.1, dpi=100)\n",
        "\n",
        "print(\"DataFrame saved as 'Top10holdings.jpg'\")"
      ],
      "metadata": {
        "colab": {
          "base_uri": "https://localhost:8080/",
          "height": 211
        },
        "id": "Q0RYwMDsZXox",
        "outputId": "dfc70238-06d7-4ef3-a30d-1da3b5d0584e"
      },
      "execution_count": null,
      "outputs": [
        {
          "output_type": "stream",
          "name": "stdout",
          "text": [
            "DataFrame saved as 'Top10holdings.jpg'\n"
          ]
        },
        {
          "output_type": "display_data",
          "data": {
            "text/plain": [
              "<Figure size 400x200 with 1 Axes>"
            ],
            "image/png": "[encoded data removed]"
          },
          "metadata": {}
        }
      ]
    },
    {
      "cell_type": "code",
      "source": [
        "\n",
        "import pandas as pd\n",
        "import matplotlib.pyplot as plt\n",
        "from PIL import Image\n",
        "# Load the first dataset\n",
        "stock1 = pd.read_csv(\"/content/drive/MyDrive/STX.csv\")  # Replace with your file\n",
        "stock1['Date'] = pd.to_datetime(stock1['Date'])\n",
        "stock1.set_index('Date', inplace=True)\n",
        "stock1 = stock1.tail(250)  # Restrict to the last 90 data points\n",
        "stock1['Normalized'] = stock1['Close'] / stock1['Close'].iloc[0] * 100\n",
        "stock1['200-day MA'] = stock1['Close'].rolling(window=200).mean() / stock1['Close'].iloc[0] * 100\n",
        "\n",
        "# Load the second dataset\n",
        "stock2 = pd.read_csv(\"/content/drive/MyDrive/Stocks/CPR.JO.csv\")  # Replace with your file\n",
        "stock2['Date'] = pd.to_datetime(stock2['Date'])\n",
        "stock2.set_index('Date', inplace=True)\n",
        "stock2 = stock2.tail(250)  # Restrict to the last 90 data points\n",
        "stock2['Normalized'] = stock2['Close'] / stock2['Close'].iloc[0] * 100\n",
        "stock2['100-day MA'] = stock2['Close'].rolling(window=100).mean() / stock2['Close'].iloc[0] * 100\n",
        "\n",
        "# Plot the data\n",
        "plt.figure(figsize=(14, 8))\n",
        "plt.plot(stock1.index, stock1['Normalized'], label='STXCAP', color='grey')\n",
        "#plt.plot(stock1.index, stock1['200-day MA'], label='STXCAP 200-day mean', color='blue', linestyle='--')\n",
        "plt.plot(stock2.index, stock2['Normalized'], label='CPR', color='purple')\n",
        "#plt.plot(stock2.index, stock2['100-day MA'], label='SPP 100-day mean', color='orange', linestyle='--')\n",
        "\n",
        "# Customize the chart\n",
        "plt.xlabel(\"Period\")\n",
        "plt.ylabel(\"Normalized Price\")\n",
        "plt.title(\"Relative Performance the Copper 360 Ltd / STXCAP (90-Day Returns)\")\n",
        "plt.xticks(rotation=45)\n",
        "plt.grid(True)\n",
        "plt.legend()\n",
        "\n",
        "# Add the logo\n",
        "logo_path = \"/content/drive/MyDrive/-j9g8q1.jpg\"  # Replace with your logo file path\n",
        "logo = Image.open(logo_path)\n",
        "logo.thumbnail((5000, 5000))  # Resize the logo to fit in the corner\n",
        "\n",
        "# Get the current figure and add a new axes for the logo\n",
        "\n",
        "fig = plt.gcf()\n",
        "newax = fig.add_axes([0.90, 0.0, 0.1, 0.1], anchor='NW', zorder=-1)\n",
        "newax.imshow(logo)\n",
        "newax.axis('off')\n",
        "\n",
        "plt.tight_layout()\n",
        "plt.show()"
      ],
      "metadata": {
        "id": "_lthSBIWaQKt",
        "colab": {
          "base_uri": "https://localhost:8080/",
          "height": 224
        },
        "outputId": "3840323e-7bbe-4246-c18d-24d8c1b7ba1f"
      },
      "execution_count": null,
      "outputs": [
        {
          "output_type": "stream",
          "name": "stderr",
          "text": [
            "<ipython-input-31-c0ed89a4fae7>:47: UserWarning: This figure includes Axes that are not compatible with tight_layout, so results might be incorrect.\n",
            "  plt.tight_layout()\n"
          ]
        },
        {
          "output_type": "display_data",
          "data": {
            "text/plain": [
              "<Figure size 1400x800 with 2 Axes>"
            ],
            "image/png": "[encoded data removed]"
          },
          "metadata": {}
        }
      ]
    },
    {
      "cell_type": "code",
      "execution_count": null,
      "metadata": {
        "id": "yi13UWMib_VY",
        "colab": {
          "base_uri": "https://localhost:8080/"
        },
        "outputId": "e7f05517-b3a8-4717-b154-b7acd4341ccb"
      },
      "outputs": [
        {
          "output_type": "stream",
          "name": "stdout",
          "text": [
            "0.9089436052566627\n",
            "16738.9479199906\n",
            "114013.57745070686\n"
          ]
        }
      ],
      "source": [
        "print (updated_df['weight'].sum())\n",
        "print (updated_df['units'].sum())\n",
        "print (updated_df['ZAR'].sum())"
      ]
    },
    {
      "cell_type": "code",
      "source": [
        "\n",
        "\n",
        "# Save the DataFrame to an Excel file\n",
        "updated_df.to_excel('/content/drive/MyDrive/initial_portfolio_31Jul2024.xlsx', index=False)  # Replace with your desired file path"
      ],
      "metadata": {
        "id": "BZ2_ijNxRnoF"
      },
      "execution_count": null,
      "outputs": []
    },
    {
      "cell_type": "code",
      "source": [
        "\n",
        "import pandas as pd\n",
        "import matplotlib.pyplot as plt\n",
        "\n",
        "# Assuming your DataFrame is named 'df'\n",
        "# df = your_existing_dataframe\n",
        "\n",
        "# Create a plot\n",
        "fig, ax = plt.subplots(figsize=(10, 4))  # Adjust the size as needed\n",
        "ax.axis('tight')\n",
        "ax.axis('off')\n",
        "\n",
        "# Create the table with a larger font size\n",
        "table = ax.table(cellText=updated_df.values, colLabels=updated_df.columns, cellLoc='center', loc='center')\n",
        "table.auto_set_font_size(False)\n",
        "table.set_fontsize(2.5)  # Adjust the font size as needed\n",
        "\n",
        "# Save the plot as a high-resolution image\n",
        "plt.savefig('portfolio29Jul2024.png', dpi=300)  # Adjust dpi for higher resolution\n",
        "plt.show()"
      ],
      "metadata": {
        "id": "zfqDG-RuB021"
      },
      "execution_count": null,
      "outputs": []
    },
    {
      "cell_type": "code",
      "source": [
        "\n",
        "import pandas as pd\n",
        "\n",
        "# Read the CSV file into a DataFrame\n",
        "filename = '/content/drive/MyDrive/initial_portfolio_05Aug2024.csv'\n",
        "cols = ['symbol', 'stock_trend', '90_day_return']\n",
        "df = pd.read_csv(filename, usecols=cols)\n",
        "\n",
        "# Convert the DataFrame to a dictionary\n",
        "data_ranking = df.to_dict(orient='list')\n",
        "\n",
        "current_ranking_table = pd.DataFrame(data_ranking)\n",
        "\n",
        "# Read the CSV file into a DataFrame\n",
        "filename2 = '/content/drive/MyDrive/initial_portfolio_29Jul2024.csv'\n",
        "cols2 = ['symbol', 'company', 'stock_trend', '90_day_return']\n",
        "df2 = pd.read_csv(filename2, usecols=cols2)\n",
        "\n",
        "# Convert the DataFrame to a dictionary\n",
        "data_portfolio = df2.to_dict(orient='list')\n",
        "\n",
        "cpf = pd.DataFrame(data_portfolio)\n",
        "\n",
        "# Identify stocks to sell based on stock trend\n",
        "sell_list = current_ranking_table[~current_ranking_table[\"stock_trend\"]]\n",
        "\n",
        "# Drop stocks with a 90-day return greater than or equal to 15%\n",
        "index_names1 = current_ranking_table[(current_ranking_table[\"90_day_return\"] >= 15)].index\n",
        "current_ranking_table.drop(index_names1, inplace=True)\n",
        "\n",
        "# List of disqualified tickers\n",
        "dqs = sell_list[\"symbol\"].tolist()\n",
        "\n",
        "# Identify stocks to liquidate\n",
        "liquidate = cpf.loc[cpf['symbol'].isin(dqs)].reset_index(drop=True)\n",
        "\n",
        "# Remove disqualified stocks from the portfolio\n",
        "newpf = cpf[~cpf['symbol'].isin(liquidate['symbol'])]\n",
        "\n",
        "# Remove stocks that are not in the current ranking table\n",
        "ineligible = newpf[~newpf['symbol'].isin(current_ranking_table['symbol'])]\n",
        "\n",
        "# Get tickers to remove\n",
        "remove = ineligible['symbol'].tolist()\n",
        "\n",
        "# Create a new portfolio without removed stocks\n",
        "rebalanced = newpf[~newpf['symbol'].isin(ineligible['symbol'])]\n",
        "\n",
        "# Get symbols for rebalancing\n",
        "rebalance = rebalanced[\"symbol\"].tolist()\n",
        "\n",
        "\n",
        "# Identify qualified stocks to buy (in current ranking table but not in cpf)\n",
        "qualified_to_buy = current_ranking_table[~current_ranking_table['symbol'].isin(cpf['symbol'])]\n",
        "\n",
        "# Remove duplicates from the qualified_to_buy list\n",
        "qualified_to_buy_unique = list(set(qualified_to_buy['symbol']))\n",
        "\n",
        "updated_list = rebalance + qualified_to_buy_unique\n",
        "\n",
        "# Print relevant information\n",
        "print(f\"Sell declining stocks: {liquidate['symbol'].tolist()}\")\n",
        "print(f\"Sell disqualified stocks: {ineligible['symbol'].tolist()}\")\n",
        "print(f\"Portfolio after liquidation: {rebalanced['symbol'].tolist()}\")\n",
        "\n",
        "print(f\"Buy: {qualified_to_buy_unique}\")\n",
        "\n",
        "print(f\"Portfolio after rebalance: {updated_list}\")"
      ],
      "metadata": {
        "id": "x6gvoM0w5Rmf"
      },
      "execution_count": null,
      "outputs": []
    },
    {
      "cell_type": "code",
      "source": [
        "\n",
        "selldf = pd.read_csv('/content/drive/MyDrive/initial_portfolio_29Jul2024.csv')\n",
        "\n",
        "\n",
        "# Drop rows where 'Name' is not in the list\n",
        "sell = selldf[selldf['symbol'].isin(remove)]\n",
        "#sell = sell.iloc[::]\n",
        "sell = sell.drop(columns=['Unnamed: 0'])\n",
        "\n",
        "sell"
      ],
      "metadata": {
        "id": "YVpzTsae4KT3"
      },
      "execution_count": null,
      "outputs": []
    },
    {
      "cell_type": "code",
      "source": [
        "# Calculate position weight\n",
        "\n",
        "new_portfolio_value = 1004058.00\n",
        "\n",
        "stockprice2 = mypf[\"Close\"]\n",
        "new_pos_weight = new_portfolio_value * mypf[\"weight\"]\n",
        "mypf[\"units\"] = new_pos_weight / stockprice2\n",
        "mypf[\"ZAR\"] = stockprice2 * mypf[\"units\"]\n",
        "mypf"
      ],
      "metadata": {
        "id": "1Z3z53PqzF-D"
      },
      "execution_count": null,
      "outputs": []
    },
    {
      "cell_type": "code",
      "source": [
        "# Drop rows where 'Name' is not in the list\n",
        "buy = mypf[~mypf['symbol'].isin(rebalance)]\n",
        "buy = buy.iloc[0::]\n",
        "buy =buy.drop(columns=['Unnamed: 0'])\n",
        "\n",
        "buy"
      ],
      "metadata": {
        "id": "8nx7tXkkx5Gh"
      },
      "execution_count": null,
      "outputs": []
    },
    {
      "cell_type": "code",
      "source": [
        "\n",
        "\n",
        "oldpf = pd.read_csv('/content/drive/MyDrive/initial_portfolio_29Jul2024.csv')\n",
        "\n",
        "# Drop rows where 'Name' is not in the list\n",
        "filtered = oldpf[~oldpf['symbol'].isin(remove)]\n",
        "filtered = filtered.iloc[0::]\n",
        "filtered =filtered.drop(columns=['Unnamed: 0'])\n",
        "\n",
        "name_list = filtered['symbol'].tolist()\n",
        "\n",
        "\n",
        "# Round the values in column 'A' to 2 decimal places\n",
        "filtered['units'] = filtered['units'].round(2)\n",
        "\n",
        "filtered.reset_index(inplace=True)\n",
        "filtered.set_index('Date')\n",
        "\n",
        "\n",
        "# Drop rows where 'Name' is not in the list\n",
        "rb = mypf[mypf['symbol'].isin(rebalance)]\n",
        "rb = rb.iloc[0::]\n",
        "rb =rb.drop(columns=['Unnamed: 0'])\n",
        "\n",
        "# Round the values in column 'A' to 2 decimal places\n",
        "rb['units'] = rb['units'].round(2)\n",
        "\n",
        "rb.reset_index(inplace=True)\n",
        "\n",
        "\n",
        "# Reindex the DataFrame\n",
        "df_reindexed = rb.set_index('symbol').reindex(name_list).reset_index()\n",
        "\n",
        "df_reindexed[\"buy/sell\"] = df_reindexed[\"units\"] - filtered[\"units\"]\n",
        "df_reindexed.set_index('Date', inplace=True)\n",
        "df_reindexed"
      ],
      "metadata": {
        "id": "oQJwd0EeLNNL"
      },
      "execution_count": null,
      "outputs": []
    },
    {
      "cell_type": "code",
      "source": [
        "\n",
        "# Concatenate along rows (axis=0)\n",
        "result = pd.concat([buy, rb], axis=0)\n",
        "result"
      ],
      "metadata": {
        "id": "vL-5Yrv1gBoI"
      },
      "execution_count": null,
      "outputs": []
    },
    {
      "cell_type": "code",
      "source": [
        "print(result['units'].sum())"
      ],
      "metadata": {
        "id": "JHsWJ7kFOAGf"
      },
      "execution_count": null,
      "outputs": []
    },
    {
      "cell_type": "markdown",
      "metadata": {
        "id": "0L-w4XW_eqaT"
      },
      "source": [
        "#Test"
      ]
    },
    {
      "cell_type": "code",
      "source": [
        "\n",
        "import pandas as pd\n",
        "import matplotlib.pyplot as plt\n",
        "\n",
        "# Load the Excel file\n",
        "file_path = '/content/Transaction History Report 8_2_2024 5_25_21 PM.xlsx'\n",
        "df = pd.read_excel(file_path)\n",
        "\n",
        "# Convert the 'Date' column to datetime\n",
        "df['Date'] = pd.to_datetime(df['Date'])\n",
        "\n",
        "# Sort the dataframe by date\n",
        "df = df.sort_values(by='Date')\n",
        "\n",
        "# Calculate the cumulative account balance\n",
        "df['Cumulative Balance'] = df['Debit/Credit'].cumsum()\n",
        "\n",
        "# Calculate daily returns as percentage change\n",
        "df['Return'] = df['Cumulative Balance'].pct_change() * 100\n",
        "\n",
        "# Print the DataFrame to see the calculated cumulative balance and returns\n",
        "print(df[['Date', 'Cumulative Balance', 'Return']].head())\n",
        "\n",
        "# Plot the performance chart\n",
        "plt.figure(figsize=(10, 6))\n",
        "plt.plot(df['Date'], df['Cumulative Balance'], label='Cumulative Balance', color='blue')\n",
        "plt.xlabel('Date')\n",
        "plt.ylabel('Cumulative Balance')\n",
        "plt.title('Investment Performance Over Time')\n",
        "plt.legend()\n",
        "plt.grid(True)\n",
        "plt.show()"
      ],
      "metadata": {
        "colab": {
          "base_uri": "https://localhost:8080/",
          "height": 310
        },
        "id": "8MI9fitIuXWW",
        "outputId": "dcdae061-b645-4f7f-eb1d-62f1c65f3c53"
      },
      "execution_count": null,
      "outputs": [
        {
          "output_type": "stream",
          "name": "stdout",
          "text": [
            "                    Date  Cumulative Balance     Return\n",
            "1481 2023-08-02 00:00:00             4923.80        NaN\n",
            "1476 2023-08-15 12:28:46             9654.36  96.075389\n",
            "1477 2023-08-15 12:28:46             9642.53  -0.122535\n",
            "1480 2023-08-15 12:28:46             9640.22  -0.023956\n",
            "1479 2023-08-15 12:28:46             9640.21  -0.000104\n"
          ]
        },
        {
          "output_type": "display_data",
          "data": {
            "text/plain": [
              "<Figure size 1000x600 with 1 Axes>"
            ],
            "image/png": "[encoded data removed]"
          },
          "metadata": {}
        }
      ]
    },
    {
      "cell_type": "code",
      "execution_count": null,
      "metadata": {
        "id": "RKgU5Yrg5URz"
      },
      "outputs": [],
      "source": [
        "final_buy_list2.ticker = final_buy_list2.ticker+ '.JO'\n",
        "Tickers = final_buy_list2[\"ticker\"].tolist()"
      ]
    },
    {
      "cell_type": "code",
      "execution_count": null,
      "metadata": {
        "id": "J0q0FTn94tUC"
      },
      "outputs": [],
      "source": [
        "import yfinance as yf\n",
        "import pandas as pd\n",
        "\n",
        "df = pd.DataFrame()\n",
        "for stock in Tickers :\n",
        "  info = yf.Ticker(stock).info\n",
        "  #industry = info.get('industry')\n",
        "  #beta = info.get('beta')\n",
        "  sector = info.get('sector')\n",
        "  df = df.append({'Stock':stock, 'Sector':sector}, ignore_index=True)\n",
        "\n",
        "df"
      ]
    },
    {
      "cell_type": "code",
      "execution_count": null,
      "metadata": {
        "id": "3KgsIMqg7PvW"
      },
      "outputs": [],
      "source": [
        "final_buy_list2.set_index('ticker', inplace=True)\n",
        "df.set_index('Stock', inplace=True)\n",
        "f_column = df[\"Sector\"]\n",
        "data1 = pd.concat([final_buy_list2 ,df], axis = 1)\n",
        "data1"
      ]
    },
    {
      "cell_type": "code",
      "execution_count": null,
      "metadata": {
        "id": "HNChrPHfGbll"
      },
      "outputs": [],
      "source": [
        "data1['weight'].sum()"
      ]
    },
    {
      "cell_type": "code",
      "execution_count": null,
      "metadata": {
        "id": "q8nPlkIhQXfk"
      },
      "outputs": [],
      "source": [
        "new_dataset = data1.loc[:, ['Sector','weight']]\n",
        "#new_dataset.set_index(\"Sector\",inplace=True)\n",
        "new_dataset.loc[len(new_dataset.index)] = ['Cash', pct_cash_frp]\n",
        "new_dataset"
      ]
    },
    {
      "cell_type": "code",
      "execution_count": null,
      "metadata": {
        "id": "6thiCYUXVZ4Y"
      },
      "outputs": [],
      "source": [
        "new_dataset[\"weight\"].sum()"
      ]
    },
    {
      "cell_type": "code",
      "execution_count": null,
      "metadata": {
        "id": "e0xRISRJVqJX"
      },
      "outputs": [],
      "source": [
        "new_dataset.groupby(['Sector']).sum().plot(kind='pie', y='weight', autopct='%1.0f%%')\n",
        "\n",
        "plt.tight_layout()\n",
        "\n",
        "# We save the graph in jpg format\n",
        "plt.savefig(\"my_graph.jpg\")\n",
        "plt.show()"
      ]
    },
    {
      "cell_type": "code",
      "execution_count": null,
      "metadata": {
        "id": "bhe6fehXBr_j"
      },
      "outputs": [],
      "source": [
        "\n",
        "dataset = new_dataset\n",
        "# plot the dataset, referencing dataframe column names\n",
        "import altair as alt\n",
        "alt.Chart(dataset).mark_bar().encode(\n",
        "  #x='sum(weight)',\n",
        "  #y='Sector',\n",
        "  color='Sector'\n",
        ")"
      ]
    },
    {
      "cell_type": "code",
      "execution_count": null,
      "metadata": {
        "id": "cHnNqjjc269G"
      },
      "outputs": [],
      "source": [
        "Absa = pd.read_csv('/content/drive/MyDrive/Stocks/ABG.JO.csv')"
      ]
    },
    {
      "cell_type": "code",
      "execution_count": null,
      "metadata": {
        "id": "PmgcsutN3ShA"
      },
      "outputs": [],
      "source": [
        "Absa"
      ]
    },
    {
      "cell_type": "code",
      "execution_count": null,
      "metadata": {
        "id": "7YsPVlQZcf4i"
      },
      "outputs": [],
      "source": [
        "RankingTable08092023 = pd.read_csv(\"/content/ranking_table130923.csv\")\n",
        "RankingTable08092023"
      ]
    },
    {
      "cell_type": "code",
      "execution_count": null,
      "metadata": {
        "id": "IN5s8TzggSAv"
      },
      "outputs": [],
      "source": [
        "Portfolio = pd.read_csv(\"/content/portfolio130923.csv\")\n",
        "Portfolio"
      ]
    },
    {
      "cell_type": "code",
      "execution_count": null,
      "metadata": {
        "id": "yQqpaVZCcoDe"
      },
      "outputs": [],
      "source": []
    }
  ],
  "metadata": {
    "colab": {
      "collapsed_sections": [
        "xhMU8a7-u-OH",
        "oOqMYPtEBnw_",
        "mE7Pscc7PRyu",
        "0L-w4XW_eqaT"
      ],
      "provenance": [],
      "include_colab_link": true
    },
    "kernelspec": {
      "display_name": "Python 3",
      "name": "python3"
    },
    "language_info": {
      "name": "python"
    }
  },
  "nbformat": 4,
  "nbformat_minor": 0
}